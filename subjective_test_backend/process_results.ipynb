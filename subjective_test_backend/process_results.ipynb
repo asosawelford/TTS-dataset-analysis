{
 "cells": [
  {
   "cell_type": "code",
   "execution_count": 1,
   "metadata": {},
   "outputs": [
    {
     "data": {
      "text/html": [
       "<div>\n",
       "<style scoped>\n",
       "    .dataframe tbody tr th:only-of-type {\n",
       "        vertical-align: middle;\n",
       "    }\n",
       "\n",
       "    .dataframe tbody tr th {\n",
       "        vertical-align: top;\n",
       "    }\n",
       "\n",
       "    .dataframe thead th {\n",
       "        text-align: right;\n",
       "    }\n",
       "</style>\n",
       "<table border=\"1\" class=\"dataframe\">\n",
       "  <thead>\n",
       "    <tr style=\"text-align: right;\">\n",
       "      <th></th>\n",
       "      <th>5fiqr8ma74n55dce4kct9f</th>\n",
       "      <th>E/E2/arf_00610_01166860348.wav</th>\n",
       "      <th>1</th>\n",
       "    </tr>\n",
       "  </thead>\n",
       "  <tbody>\n",
       "    <tr>\n",
       "      <th>0</th>\n",
       "      <td>0om1fva4uhily4cvg6368lr</td>\n",
       "      <td>uli/C/C7/conchita2_89.wav</td>\n",
       "      <td>2.0</td>\n",
       "    </tr>\n",
       "    <tr>\n",
       "      <th>1</th>\n",
       "      <td>0om1fva4uhily4cvg6368lr</td>\n",
       "      <td>uli/E/E6/es-AR-ElenaNeural28.wav</td>\n",
       "      <td>3.0</td>\n",
       "    </tr>\n",
       "    <tr>\n",
       "      <th>2</th>\n",
       "      <td>0om1fva4uhily4cvg6368lr</td>\n",
       "      <td>uli/D/D9/priscilla_76.wav</td>\n",
       "      <td>3.0</td>\n",
       "    </tr>\n",
       "    <tr>\n",
       "      <th>3</th>\n",
       "      <td>0om1fva4uhily4cvg6368lr</td>\n",
       "      <td>uli/B/B1/audio70.wav</td>\n",
       "      <td>2.0</td>\n",
       "    </tr>\n",
       "    <tr>\n",
       "      <th>4</th>\n",
       "      <td>0om1fva4uhily4cvg6368lr</td>\n",
       "      <td>uli/A/A4/sabrina_loquendo_16.wav</td>\n",
       "      <td>2.0</td>\n",
       "    </tr>\n",
       "  </tbody>\n",
       "</table>\n",
       "</div>"
      ],
      "text/plain": [
       "    5fiqr8ma74n55dce4kct9f    E/E2/arf_00610_01166860348.wav    1\n",
       "0  0om1fva4uhily4cvg6368lr         uli/C/C7/conchita2_89.wav  2.0\n",
       "1  0om1fva4uhily4cvg6368lr  uli/E/E6/es-AR-ElenaNeural28.wav  3.0\n",
       "2  0om1fva4uhily4cvg6368lr         uli/D/D9/priscilla_76.wav  3.0\n",
       "3  0om1fva4uhily4cvg6368lr              uli/B/B1/audio70.wav  2.0\n",
       "4  0om1fva4uhily4cvg6368lr  uli/A/A4/sabrina_loquendo_16.wav  2.0"
      ]
     },
     "execution_count": 1,
     "metadata": {},
     "output_type": "execute_result"
    }
   ],
   "source": [
    "import pandas as pd\n",
    "# open results csv file\n",
    "\n",
    "df = pd.read_csv('results.csv')\n",
    "df.head()\n"
   ]
  },
  {
   "cell_type": "code",
   "execution_count": 2,
   "metadata": {},
   "outputs": [
    {
     "data": {
      "text/plain": [
       "1\n",
       "2.0    669\n",
       "1.0    604\n",
       "3.0    502\n",
       "5.0    390\n",
       "4.0    390\n",
       "Name: count, dtype: int64"
      ]
     },
     "execution_count": 2,
     "metadata": {},
     "output_type": "execute_result"
    }
   ],
   "source": [
    "# Get just the last column of the dataframe\n",
    "\n",
    "ratings = df.iloc[:, -1]\n",
    "ratings.value_counts()"
   ]
  },
  {
   "cell_type": "code",
   "execution_count": 4,
   "metadata": {},
   "outputs": [
    {
     "data": {
      "text/plain": [
       "Series([], Name: count, dtype: int64)"
      ]
     },
     "execution_count": 4,
     "metadata": {},
     "output_type": "execute_result"
    }
   ],
   "source": [
    "# get amount of different items in the 2nd column\n",
    "item_counts = df.iloc[:, 1].value_counts()\n",
    "repeated_items = item_counts[item_counts > 1]\n",
    "repeated_items"
   ]
  }
 ],
 "metadata": {
  "kernelspec": {
   "display_name": "base",
   "language": "python",
   "name": "python3"
  },
  "language_info": {
   "codemirror_mode": {
    "name": "ipython",
    "version": 3
   },
   "file_extension": ".py",
   "mimetype": "text/x-python",
   "name": "python",
   "nbconvert_exporter": "python",
   "pygments_lexer": "ipython3",
   "version": "3.9.15"
  },
  "orig_nbformat": 4
 },
 "nbformat": 4,
 "nbformat_minor": 2
}
