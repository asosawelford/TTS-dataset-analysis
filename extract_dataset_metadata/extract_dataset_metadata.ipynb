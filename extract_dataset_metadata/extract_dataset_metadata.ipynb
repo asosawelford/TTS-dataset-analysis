{
 "cells": [
  {
   "cell_type": "code",
   "execution_count": null,
   "id": "b9572ab3",
   "metadata": {},
   "outputs": [],
   "source": [
    "import os\n",
    "import pandas as pd\n",
    "\n",
    "data_path = \"/home/aleph/tesis/frontend/public/assets/stimuli_norm\""
   ]
  },
  {
   "cell_type": "code",
   "execution_count": null,
   "id": "1c55a186",
   "metadata": {},
   "outputs": [],
   "source": []
  }
 ],
 "metadata": {
  "kernelspec": {
   "display_name": "base",
   "language": "python",
   "name": "python3"
  },
  "language_info": {
   "codemirror_mode": {
    "name": "ipython",
    "version": 3
   },
   "file_extension": ".py",
   "mimetype": "text/x-python",
   "name": "python",
   "nbconvert_exporter": "python",
   "pygments_lexer": "ipython3",
   "version": "3.12.2"
  }
 },
 "nbformat": 4,
 "nbformat_minor": 5
}
