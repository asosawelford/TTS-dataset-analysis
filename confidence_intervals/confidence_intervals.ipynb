{
 "cells": [
  {
   "cell_type": "code",
   "execution_count": 1,
   "metadata": {},
   "outputs": [],
   "source": [
    "import numpy as np\n",
    "import pandas as pd\n",
    "from confidence_intervals import evaluate_with_conf_int\n",
    "from scipy.stats import pearsonr\n",
    "from sklearn.metrics import mean_absolute_error, root_mean_squared_error\n",
    "\n",
    "\n",
    "densemos = pd.read_csv('targets_outputs.csv')\n",
    "densemos_960 = pd.read_csv('targets_outputs_960.csv')\n",
    "test_nisqa = pd.read_csv('test_nisqa_merged.csv')\n",
    "NISQA_finetuned = pd.read_csv('NISQA_custom_results.csv')\n",
    "NISQA_finetuned_paired = pd.merge(test_nisqa, NISQA_finetuned, on='stimuli_y')\n",
    "nisqa_v1 = pd.read_csv('NISQA_v1_results.csv')\n",
    "\n",
    "#get speaker column for NISQA_v1\n",
    "nisqa_v1[\"speaker\"] = nisqa_v1[\"stimuli\"].apply(lambda x: x.split('/')[-2])"
   ]
  },
  {
   "cell_type": "code",
   "execution_count": 2,
   "metadata": {},
   "outputs": [],
   "source": [
    "nisqa_v1.to_csv(\"delete.csv\")"
   ]
  },
  {
   "cell_type": "code",
   "execution_count": 3,
   "metadata": {},
   "outputs": [],
   "source": [
    "nisqa_v1_targets = nisqa_v1['mos_pred']\n",
    "nisqa_v1_outputs = nisqa_v1['mos']\n",
    "nisqa_v1_speakers = nisqa_v1['speaker'] \n",
    "\n",
    "\n",
    "nisqa_targets = NISQA_finetuned_paired['mos_pred']\n",
    "nisqa_outputs = NISQA_finetuned_paired['mos_y']\n",
    "nisqa_speakers = NISQA_finetuned_paired['speaker']\n",
    "\n",
    "targets = densemos['target']\n",
    "outputs = densemos['output']\n",
    "speakers = densemos['condition']\n",
    "\n",
    "targets_960 = densemos_960['target']\n",
    "outputs_960 = densemos_960['output']\n",
    "speakers_960 = densemos_960['condition']"
   ]
  },
  {
   "cell_type": "code",
   "execution_count": 4,
   "metadata": {},
   "outputs": [
    {
     "data": {
      "text/plain": [
       "(0.7061387032981716, (-0.0011534038067503136, 0.8344992718990856))"
      ]
     },
     "execution_count": 4,
     "metadata": {},
     "output_type": "execute_result"
    }
   ],
   "source": [
    "nisqa_v1_pcc_ci = evaluate_with_conf_int(nisqa_v1_targets, lambda x, y: pearsonr(x, y)[0], nisqa_v1_outputs, num_bootstraps=1000, conditions=nisqa_v1_speakers)\n",
    "nisqa_v1_pcc_ci\n"
   ]
  },
  {
   "cell_type": "code",
   "execution_count": 13,
   "metadata": {},
   "outputs": [
    {
     "data": {
      "text/plain": [
       "(0.727660349867634, (0.021844197763322127, 0.8731473070912424))"
      ]
     },
     "execution_count": 13,
     "metadata": {},
     "output_type": "execute_result"
    }
   ],
   "source": [
    "nisqa_pcc_ci = evaluate_with_conf_int(nisqa_targets, lambda x, y: pearsonr(x, y)[0], nisqa_outputs, conditions=nisqa_speakers)\n",
    "nisqa_pcc_ci\n"
   ]
  },
  {
   "cell_type": "code",
   "execution_count": 11,
   "metadata": {},
   "outputs": [],
   "source": [
    "nisqa_v1_pcc_ci = evaluate_with_conf_int(nisqa_v1_targets, lambda x, y: pearsonr(x, y)[0], nisqa_v1_outputs)\n",
    "nisqa_v1_mae_ci = evaluate_with_conf_int(nisqa_v1_targets, mean_absolute_error, nisqa_v1_outputs, conditions=nisqa_v1_speakers)\n",
    "nisqa_v1_rmse_ci = evaluate_with_conf_int(nisqa_v1_targets, root_mean_squared_error, nisqa_v1_outputs, conditions=nisqa_v1_speakers)"
   ]
  },
  {
   "cell_type": "code",
   "execution_count": 6,
   "metadata": {},
   "outputs": [],
   "source": [
    "nisqa_pcc_ci = evaluate_with_conf_int(nisqa_targets, lambda x, y: pearsonr(x, y)[0], nisqa_outputs)\n",
    "nisqa_mae_ci = evaluate_with_conf_int(nisqa_targets, mean_absolute_error, nisqa_outputs, conditions=nisqa_speakers)\n",
    "nisqa_rmse_ci = evaluate_with_conf_int(nisqa_targets, root_mean_squared_error, nisqa_outputs, conditions=nisqa_speakers)"
   ]
  },
  {
   "cell_type": "code",
   "execution_count": 7,
   "metadata": {},
   "outputs": [],
   "source": [
    "densemos_pcc_ci = evaluate_with_conf_int(targets, lambda x, y: pearsonr(x, y)[0], outputs, conditions=speakers)\n",
    "densemos_mae_ci = evaluate_with_conf_int(targets, mean_absolute_error, outputs, conditions=speakers)\n",
    "densemos_rmse_ci = evaluate_with_conf_int(targets, root_mean_squared_error, outputs, conditions=speakers)\n",
    "\n",
    "densemos_960_pcc_ci = evaluate_with_conf_int(targets_960, lambda x, y: pearsonr(x, y)[0], outputs_960, conditions=speakers_960)\n",
    "densemos_960_mae_ci = evaluate_with_conf_int(targets_960, mean_absolute_error, outputs_960, conditions=speakers_960)\n",
    "densemos_960_rmse_ci = evaluate_with_conf_int(targets_960, root_mean_squared_error, outputs_960, conditions=speakers_960)"
   ]
  },
  {
   "cell_type": "markdown",
   "metadata": {},
   "source": [
    "# CI Results"
   ]
  },
  {
   "cell_type": "code",
   "execution_count": 9,
   "metadata": {},
   "outputs": [
    {
     "name": "stdout",
     "output_type": "stream",
     "text": [
      "NISQA v1 PCC CI:  (0.71, (0.65, 0.75))\n",
      "NISQA v1 MAE CI:  (0.99, (0.8, 1.22))\n",
      "NISQA v1 RMSE CI:  (1.19, (0.95, 1.42))\n",
      "\n",
      "NISQA finetuned PCC CI:  (0.73, (0.67, 0.78))\n",
      "NISQA finetuned MAE CI:  (0.81, (0.6, 1.02))\n",
      "NISQA finetuned RMSE CI:  (1.06, (0.79, 1.29))\n",
      "\n",
      "DenseMOS PCC CI:  (0.62, (0.4, 0.75))\n",
      "DenseMOS MAE CI:  (0.81, (0.69, 0.93))\n",
      "DenseMOS RMSE CI:  (1.07, (0.92, 1.22))\n",
      "\n",
      "DenseMOS 960 PCC CI:  (0.6, (0.38, 0.73))\n",
      "DenseMOS 960 MAE CI:  (0.8, (0.69, 0.93))\n",
      "DenseMOS 960 RMSE CI:  (1.07, (0.94, 1.23))\n"
     ]
    }
   ],
   "source": [
    "# print ci for each model and each metric\n",
    "print(\"NISQA v1 PCC CI: \", (round(nisqa_v1_pcc_ci[0], 2), (round(nisqa_v1_pcc_ci[1][0], 2), round(nisqa_v1_pcc_ci[1][1], 2))))\n",
    "print(\"NISQA v1 MAE CI: \", (round(nisqa_v1_mae_ci[0], 2), (round(nisqa_v1_mae_ci[1][0], 2), round(nisqa_v1_mae_ci[1][1], 2))))\n",
    "print(\"NISQA v1 RMSE CI: \", (round(nisqa_v1_rmse_ci[0], 2), (round(nisqa_v1_rmse_ci[1][0], 2), round(nisqa_v1_rmse_ci[1][1], 2))))\n",
    "print()\n",
    "print(\"NISQA finetuned PCC CI: \", (round(nisqa_pcc_ci[0], 2), (round(nisqa_pcc_ci[1][0], 2), round(nisqa_pcc_ci[1][1], 2))))\n",
    "print(\"NISQA finetuned MAE CI: \", (round(nisqa_mae_ci[0], 2), (round(nisqa_mae_ci[1][0], 2), round(nisqa_mae_ci[1][1], 2))))\n",
    "print(\"NISQA finetuned RMSE CI: \", (round(nisqa_rmse_ci[0], 2), (round(nisqa_rmse_ci[1][0], 2), round(nisqa_rmse_ci[1][1], 2))))\n",
    "print()\n",
    "print(\"DenseMOS PCC CI: \", (round(densemos_pcc_ci[0], 2), (round(densemos_pcc_ci[1][0], 2), round(densemos_pcc_ci[1][1], 2))))\n",
    "print(\"DenseMOS MAE CI: \", (round(densemos_mae_ci[0], 2), (round(densemos_mae_ci[1][0], 2), round(densemos_mae_ci[1][1], 2))))\n",
    "print(\"DenseMOS RMSE CI: \", (round(densemos_rmse_ci[0], 2), (round(densemos_rmse_ci[1][0], 2), round(densemos_rmse_ci[1][1], 2))))\n",
    "print()\n",
    "print(\"DenseMOS 960 PCC CI: \", (round(densemos_960_pcc_ci[0], 2), (round(densemos_960_pcc_ci[1][0], 2), round(densemos_960_pcc_ci[1][1], 2))))\n",
    "print(\"DenseMOS 960 MAE CI: \", (round(densemos_960_mae_ci[0], 2), (round(densemos_960_mae_ci[1][0], 2), round(densemos_960_mae_ci[1][1], 2))))\n",
    "print(\"DenseMOS 960 RMSE CI: \", (round(densemos_960_rmse_ci[0], 2), (round(densemos_960_rmse_ci[1][0], 2), round(densemos_960_rmse_ci[1][1], 2))))"
   ]
  },
  {
   "cell_type": "code",
   "execution_count": null,
   "metadata": {},
   "outputs": [],
   "source": []
  }
 ],
 "metadata": {
  "kernelspec": {
   "display_name": ".env",
   "language": "python",
   "name": "python3"
  },
  "language_info": {
   "codemirror_mode": {
    "name": "ipython",
    "version": 3
   },
   "file_extension": ".py",
   "mimetype": "text/x-python",
   "name": "python",
   "nbconvert_exporter": "python",
   "pygments_lexer": "ipython3",
   "version": "3.12.7"
  }
 },
 "nbformat": 4,
 "nbformat_minor": 2
}
