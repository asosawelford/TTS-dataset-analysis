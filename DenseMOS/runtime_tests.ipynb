{
 "cells": [
  {
   "cell_type": "markdown",
   "metadata": {},
   "source": [
    "# DENSEMOS TIME"
   ]
  },
  {
   "cell_type": "code",
   "execution_count": 6,
   "metadata": {},
   "outputs": [
    {
     "name": "stdout",
     "output_type": "stream",
     "text": [
      "upstream: 35.236457399293485 ms\n",
      "downstream: 0.28162376553404567 ms\n",
      "Average time to analyze audio with DenseMOS: 35.518081164827535 ms\n",
      "Average time to analyze audio with NISQA Finetuned: 49.468921095717185 ms\n"
     ]
    }
   ],
   "source": [
    "audios_analyzed = 408\n",
    "\n",
    "# DenseMOS\n",
    "upstream_time = 14.376474618911743\n",
    "downstream_time = 0.11490249633789062\n",
    "\n",
    "#NISQA Finetuned\n",
    "nisqa_time = 20.183319807052612\n",
    "print(\"upstream: \" + str(1e3*upstream_time/audios_analyzed) + \" ms\")\n",
    "print(\"downstream: \" + str(1e3*downstream_time/audios_analyzed) + \" ms\")\n",
    "\n",
    "print(\"Average time to analyze audio with DenseMOS: \" + str(1e3*(upstream_time+downstream_time)/audios_analyzed) + \" ms\")\n",
    "print(\"Average time to analyze audio with NISQA Finetuned: \" + str(1e3*nisqa_time/audios_analyzed) + \" ms\")\n"
   ]
  },
  {
   "cell_type": "code",
   "execution_count": 3,
   "metadata": {},
   "outputs": [
    {
     "name": "stdout",
     "output_type": "stream",
     "text": [
      "memory.total [MiB], memory.used [MiB]\n",
      "6144 MiB, 8 MiB\n",
      "\n"
     ]
    }
   ],
   "source": [
    "# free torch memory\n",
    "import torch\n",
    "torch.cuda.empty_cache()\n",
    "\n",
    "# print GPU memory usage\n",
    "import os\n",
    "\n",
    "def get_gpu_memory_map():\n",
    "    result = os.popen(\"nvidia-smi --query-gpu=memory.total,memory.used --format=csv\")\n",
    "    gpu_memory = result.read()\n",
    "    return gpu_memory\n",
    "\n",
    "print(get_gpu_memory_map())"
   ]
  }
 ],
 "metadata": {
  "kernelspec": {
   "display_name": ".env",
   "language": "python",
   "name": "python3"
  },
  "language_info": {
   "codemirror_mode": {
    "name": "ipython",
    "version": 3
   },
   "file_extension": ".py",
   "mimetype": "text/x-python",
   "name": "python",
   "nbconvert_exporter": "python",
   "pygments_lexer": "ipython3",
   "version": "3.12.3"
  }
 },
 "nbformat": 4,
 "nbformat_minor": 2
}
