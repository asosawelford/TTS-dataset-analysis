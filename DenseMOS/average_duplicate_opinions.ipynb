{
 "cells": [
  {
   "cell_type": "code",
   "execution_count": 1,
   "metadata": {},
   "outputs": [],
   "source": [
    "import pandas as pd"
   ]
  },
  {
   "cell_type": "code",
   "execution_count": 8,
   "metadata": {},
   "outputs": [],
   "source": [
    "# load a csv with stimuli name [\"stimuli\"] and mos score [\"mos\"]\n",
    "# if two files have the same stimuli name, the mos score will be averaged\n",
    "# the output is a csv with stimuli name [\"stimuli\"] and mos score [\"mos\"]\n",
    "\n",
    "# Load the CSV\n",
    "dev_set = pd.read_csv(\"train.csv\")\n",
    "\n",
    "# Ensure 'mos' column is numeric\n",
    "# Errors='coerce' will convert non-numeric entries to NaN\n",
    "dev_set['mos'] = pd.to_numeric(dev_set['mos'], errors='coerce')\n",
    "\n",
    "# Drop rows with NaN in 'mos'\n",
    "dev_set = dev_set.dropna(subset=['mos'])\n",
    "\n",
    "# Group by 'stimuli' and calculate the mean\n",
    "result = dev_set.groupby(\"stimuli\", as_index=False)[\"mos\"].mean()\n",
    "\n",
    "# Output to a CSV\n",
    "result.to_csv(\"train_merged.csv\", index=False)"
   ]
  },
  {
   "cell_type": "code",
   "execution_count": 8,
   "metadata": {},
   "outputs": [],
   "source": [
    "# now we'll average out the scores by system\n",
    "# Load the CSV\n",
    "train_set = pd.read_csv(\"train.csv\")\n",
    "import re\n",
    "# first lets get the system from the stimuli path\n",
    "# systems = re.search(r'/([A-Z][1-9]|10)/', path)\n",
    "\n",
    "train_set['system'] = train_set['stimuli'].str.extract(r'/([A-Z][1-9]|10)/')\n",
    "\n",
    "# Ensure 'mos' column is numeric\n",
    "# Errors='coerce' will convert non-numeric entries to NaN\n",
    "train_set['mos'] = pd.to_numeric(train_set['mos'], errors='coerce')\n",
    "\n",
    "# Drop rows with NaN in 'mos'\n",
    "train_set = train_set.dropna(subset=['mos'])\n",
    "\n",
    "# Group by 'system' and calculate the mean, add column as average_mos to original dataframe\n",
    "result = train_set.groupby(\"system\", as_index=False)[\"mos\"].mean()\n",
    "train_set = pd.merge(train_set, result, on='system', suffixes=('', '_average'))\n",
    "train_set.to_csv(\"train_averaged.csv\", index=False)\n"
   ]
  },
  {
   "cell_type": "code",
   "execution_count": 10,
   "metadata": {},
   "outputs": [],
   "source": [
    "# now we'll average out the scores by system\n",
    "# Load the CSV\n",
    "train_set = pd.read_csv(\"train.csv\")\n",
    "import re\n",
    "# first lets get the system from the stimuli path\n",
    "# systems = re.search(r'/([A-Z][1-9]|10)/', path)\n",
    "\n",
    "train_set['system'] = train_set['stimuli'].str.extract(r'/([A-Z][1-9]|10)/')\n",
    "\n",
    "# Ensure 'mos' column is numeric\n",
    "# Errors='coerce' will convert non-numeric entries to NaN\n",
    "train_set['mos'] = pd.to_numeric(train_set['mos'], errors='coerce')\n",
    "\n",
    "# Drop rows with NaN in 'mos'\n",
    "train_set = train_set.dropna(subset=['mos'])\n",
    "\n",
    "# Group by 'system' and calculate the mean, add column as average_mos to original dataframe\n",
    "result = train_set.groupby(\"system\", as_index=False)[\"mos\"].mean()\n",
    "train_set = pd.merge(train_set, result, on='system', suffixes=('', '_average'))\n",
    "train_set.to_csv(\"train_averaged.csv\", index=False)\n"
   ]
  }
 ],
 "metadata": {
  "kernelspec": {
   "display_name": ".env",
   "language": "python",
   "name": "python3"
  },
  "language_info": {
   "codemirror_mode": {
    "name": "ipython",
    "version": 3
   },
   "file_extension": ".py",
   "mimetype": "text/x-python",
   "name": "python",
   "nbconvert_exporter": "python",
   "pygments_lexer": "ipython3",
   "version": "3.12.3"
  }
 },
 "nbformat": 4,
 "nbformat_minor": 2
}
