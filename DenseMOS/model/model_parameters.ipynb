{
 "cells": [
  {
   "cell_type": "code",
   "execution_count": 12,
   "metadata": {},
   "outputs": [
    {
     "name": "stdout",
     "output_type": "stream",
     "text": [
      "Total Parameters in /home/aleph/tesis/classifier/DenseMOS_tests/best_model_best_run.pth: 115,086\n",
      "Total Parameters in /home/aleph/tesis/classifier/DenseMOS_tests/best_model.pth: 115,086\n",
      "Total Parameters in /home/aleph/tesis/classifier/DenseMOS_tests/final_model.pth: 115,086\n",
      "Total Parameters in /home/aleph/tesis/classifier/DenseMOS_tests/final_model_960.pth: 115,086\n",
      "Total Parameters in /home/aleph/tesis/classifier/DenseMOS_tests/final_model_best_run.pth: 115,086\n",
      "Total Parameters in /home/aleph/tesis/classifier/DenseMOS_tests/best_model_960.pth: 115,086\n"
     ]
    }
   ],
   "source": [
    "import torch\n",
    "import os\n",
    "\n",
    "# Load the model \n",
    "for file in os.listdir(\"/home/aleph/tesis/classifier/DenseMOS_tests/\"):\n",
    "    if file.endswith(\".pth\"):\n",
    "        model_path = os.path.join(\"/home/aleph/tesis/classifier/DenseMOS_tests/\", file)\n",
    "        \n",
    "        checkpoint = torch.load(model_path, map_location=torch.device(\"cpu\"))  # Load on CPU to avoid GPU issues\n",
    "\n",
    "        # Check if it's a state_dict or full model\n",
    "        if isinstance(checkpoint, dict) and \"state_dict\" in checkpoint:\n",
    "            state_dict = checkpoint[\"state_dict\"]  # Some models save state_dict inside a dictionary\n",
    "        else:\n",
    "            state_dict = checkpoint  # Otherwise, it's already a state_dict\n",
    "\n",
    "        # Count total parameters\n",
    "        total_params = sum(p.numel() for p in state_dict.values())\n",
    "\n",
    "        print(f\"Total Parameters in {model_path}: {total_params:,}\")\n"
   ]
  },
  {
   "cell_type": "code",
   "execution_count": null,
   "metadata": {},
   "outputs": [
    {
     "name": "stdout",
     "output_type": "stream",
     "text": [
      "Checkpoint Keys: dict_keys(['runname', 'epoch', 'model_args', 'args', 'model_state_dict', 'optimizer_state_dict', 'db_results', 'results', 'model_name'])\n"
     ]
    },
    {
     "ename": "AttributeError",
     "evalue": "'str' object has no attribute 'numel'",
     "output_type": "error",
     "traceback": [
      "\u001b[0;31m---------------------------------------------------------------------------\u001b[0m",
      "\u001b[0;31mAttributeError\u001b[0m                            Traceback (most recent call last)",
      "Cell \u001b[0;32mIn[14], line 19\u001b[0m\n\u001b[1;32m     16\u001b[0m     state_dict \u001b[38;5;241m=\u001b[39m checkpoint  \u001b[38;5;66;03m# Might already be a state_dict\u001b[39;00m\n\u001b[1;32m     18\u001b[0m \u001b[38;5;66;03m# Count total parameters\u001b[39;00m\n\u001b[0;32m---> 19\u001b[0m total_params \u001b[38;5;241m=\u001b[39m \u001b[38;5;28;43msum\u001b[39;49m\u001b[43m(\u001b[49m\u001b[43mp\u001b[49m\u001b[38;5;241;43m.\u001b[39;49m\u001b[43mnumel\u001b[49m\u001b[43m(\u001b[49m\u001b[43m)\u001b[49m\u001b[43m \u001b[49m\u001b[38;5;28;43;01mfor\u001b[39;49;00m\u001b[43m \u001b[49m\u001b[43mp\u001b[49m\u001b[43m \u001b[49m\u001b[38;5;129;43;01min\u001b[39;49;00m\u001b[43m \u001b[49m\u001b[43mstate_dict\u001b[49m\u001b[38;5;241;43m.\u001b[39;49m\u001b[43mvalues\u001b[49m\u001b[43m(\u001b[49m\u001b[43m)\u001b[49m\u001b[43m)\u001b[49m\n\u001b[1;32m     21\u001b[0m \u001b[38;5;28mprint\u001b[39m(\u001b[38;5;124mf\u001b[39m\u001b[38;5;124m\"\u001b[39m\u001b[38;5;124mTotal Parameters in Model: \u001b[39m\u001b[38;5;132;01m{\u001b[39;00mtotal_params\u001b[38;5;132;01m:\u001b[39;00m\u001b[38;5;124m,\u001b[39m\u001b[38;5;132;01m}\u001b[39;00m\u001b[38;5;124m\"\u001b[39m)\n",
      "Cell \u001b[0;32mIn[14], line 19\u001b[0m, in \u001b[0;36m<genexpr>\u001b[0;34m(.0)\u001b[0m\n\u001b[1;32m     16\u001b[0m     state_dict \u001b[38;5;241m=\u001b[39m checkpoint  \u001b[38;5;66;03m# Might already be a state_dict\u001b[39;00m\n\u001b[1;32m     18\u001b[0m \u001b[38;5;66;03m# Count total parameters\u001b[39;00m\n\u001b[0;32m---> 19\u001b[0m total_params \u001b[38;5;241m=\u001b[39m \u001b[38;5;28msum\u001b[39m(\u001b[43mp\u001b[49m\u001b[38;5;241;43m.\u001b[39;49m\u001b[43mnumel\u001b[49m() \u001b[38;5;28;01mfor\u001b[39;00m p \u001b[38;5;129;01min\u001b[39;00m state_dict\u001b[38;5;241m.\u001b[39mvalues())\n\u001b[1;32m     21\u001b[0m \u001b[38;5;28mprint\u001b[39m(\u001b[38;5;124mf\u001b[39m\u001b[38;5;124m\"\u001b[39m\u001b[38;5;124mTotal Parameters in Model: \u001b[39m\u001b[38;5;132;01m{\u001b[39;00mtotal_params\u001b[38;5;132;01m:\u001b[39;00m\u001b[38;5;124m,\u001b[39m\u001b[38;5;132;01m}\u001b[39;00m\u001b[38;5;124m\"\u001b[39m)\n",
      "\u001b[0;31mAttributeError\u001b[0m: 'str' object has no attribute 'numel'"
     ]
    }
   ],
   "source": [
    "import torch\n",
    "\n",
    "# Load the checkpoint (.tar file)\n",
    "model_path = \"/home/aleph/tesis/NISQA_analysis/finetuned_model/finetune_3_240603_012041803191/finetune_3_240603_012041803191__ep_036.tar\"  # Change to your actual file\n",
    "checkpoint = torch.load(model_path, map_location=torch.device(\"cpu\"))  # Load safely on CPU\n",
    "\n",
    "# Check what keys are in the checkpoint (helps in understanding what’s inside)\n",
    "print(f\"Checkpoint Keys: {checkpoint.keys()}\")\n",
    "\n",
    "# Extract state_dict (models are often saved under 'state_dict' or a custom key)\n",
    "if \"state_dict\" in checkpoint:\n",
    "    state_dict = checkpoint[\"state_dict\"]  # Standard practice\n",
    "elif \"model\" in checkpoint:\n",
    "    state_dict = checkpoint[\"model\"]  # Some save it as 'model'\n",
    "else:\n",
    "    state_dict = checkpoint  # Might already be a state_dict\n",
    "\n",
    "# Count total parameters\n",
    "total_params = sum(p.numel() for p in state_dict.values())\n",
    "\n",
    "print(f\"Total Parameters in Model: {total_params:,}\")\n"
   ]
  },
  {
   "cell_type": "code",
   "execution_count": 16,
   "metadata": {},
   "outputs": [
    {
     "name": "stdout",
     "output_type": "stream",
     "text": [
      "Total Parameters in Model: 304,539\n"
     ]
    }
   ],
   "source": [
    "import torch\n",
    "\n",
    "# Load the .tar file\n",
    "model_path = \"/home/aleph/tesis/NISQA_analysis/finetuned_model/finetune_3_240603_012041803191/finetune_3_240603_012041803191__ep_036.tar\"\n",
    "checkpoint = torch.load(model_path, map_location=torch.device(\"cpu\"))\n",
    "\n",
    "# Extract model weights from \"model_state_dict\"\n",
    "state_dict = checkpoint[\"model_state_dict\"]\n",
    "\n",
    "# Count total parameters\n",
    "total_params = sum(p.numel() for p in state_dict.values() if isinstance(p, torch.Tensor))\n",
    "\n",
    "print(f\"Total Parameters in Model: {total_params:,}\")\n"
   ]
  }
 ],
 "metadata": {
  "kernelspec": {
   "display_name": ".env",
   "language": "python",
   "name": "python3"
  },
  "language_info": {
   "codemirror_mode": {
    "name": "ipython",
    "version": 3
   },
   "file_extension": ".py",
   "mimetype": "text/x-python",
   "name": "python",
   "nbconvert_exporter": "python",
   "pygments_lexer": "ipython3",
   "version": "3.12.7"
  }
 },
 "nbformat": 4,
 "nbformat_minor": 2
}
