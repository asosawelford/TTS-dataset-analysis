{
 "cells": [
  {
   "cell_type": "code",
   "execution_count": 2,
   "metadata": {},
   "outputs": [],
   "source": [
    "import pandas as pd"
   ]
  },
  {
   "cell_type": "code",
   "execution_count": 3,
   "metadata": {},
   "outputs": [],
   "source": [
    "test = pd.read_csv('test.csv')\n",
    "test_NISQA = pd.read_csv('test_NISQA.csv')"
   ]
  },
  {
   "cell_type": "code",
   "execution_count": null,
   "metadata": {},
   "outputs": [],
   "source": [
    "# add a column to test that takes the values of the stimuli column, and extract the last path element\n",
    "test['stimuli_2'] = test['stimuli'].apply(lambda x: x.split('/')[-1])\n",
    "merged = pd.merge(test, test_NISQA, left_on='stimuli_2', right_on='stimuli')\n",
    "merged[\"speaker\"] = merged[\"stimuli_x\"].apply(lambda x: x.split('/')[-2])\n",
    "merged.to_csv('test_nisqa_merged.csv', index=False)"
   ]
  }
 ],
 "metadata": {
  "kernelspec": {
   "display_name": ".env",
   "language": "python",
   "name": "python3"
  },
  "language_info": {
   "codemirror_mode": {
    "name": "ipython",
    "version": 3
   },
   "file_extension": ".py",
   "mimetype": "text/x-python",
   "name": "python",
   "nbconvert_exporter": "python",
   "pygments_lexer": "ipython3",
   "version": "3.12.7"
  }
 },
 "nbformat": 4,
 "nbformat_minor": 2
}
