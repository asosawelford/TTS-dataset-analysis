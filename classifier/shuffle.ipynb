{
 "cells": [
  {
   "cell_type": "code",
   "execution_count": 18,
   "metadata": {},
   "outputs": [],
   "source": [
    "# combine and shuffle 3 csv files\n",
    "\n",
    "import pandas as pd\n",
    "\n",
    "# read in the 3 csv files\n",
    "train = pd.read_csv('train.csv')\n",
    "test = pd.read_csv('test.csv')\n",
    "val = pd.read_csv('val.csv')\n",
    "\n",
    "# combine the 3 csv files\n",
    "combined = pd.concat([train, test, val])\n",
    "\n",
    "# shuffle the combined csv file\n",
    "shuffled = combined.sample(frac=1).reset_index(drop=True)\n",
    "\n",
    "# save the into 3 files, train, test, val, 80, 10, 10\n",
    "train = shuffled.iloc[:int(len(shuffled)*0.8)]\n",
    "test = shuffled.iloc[int(len(shuffled)*0.8):int(len(shuffled)*0.9)]\n",
    "val = shuffled.iloc[int(len(shuffled)*0.9):]\n",
    "\n",
    "train.to_csv('train_shuffled.csv', index=False)\n",
    "test.to_csv('test_shuffled.csv', index=False)\n",
    "val.to_csv('val_shuffled.csv', index=False)\n"
   ]
  }
 ],
 "metadata": {
  "kernelspec": {
   "display_name": ".env",
   "language": "python",
   "name": "python3"
  },
  "language_info": {
   "codemirror_mode": {
    "name": "ipython",
    "version": 3
   },
   "file_extension": ".py",
   "mimetype": "text/x-python",
   "name": "python",
   "nbconvert_exporter": "python",
   "pygments_lexer": "ipython3",
   "version": "3.12.3"
  }
 },
 "nbformat": 4,
 "nbformat_minor": 2
}
