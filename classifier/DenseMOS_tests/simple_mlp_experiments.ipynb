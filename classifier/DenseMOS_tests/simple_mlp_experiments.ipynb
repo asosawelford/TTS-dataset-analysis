{
 "cells": [
  {
   "cell_type": "markdown",
   "metadata": {},
   "source": [
    "# MOS score prediction from wav2vec2 embeddings\n",
    "\n",
    "* calculate wav2vec2 embeddings for test and train datasets\n",
    "* create MOSDataset, containing wav2vec2 embeddings and subjective MOS scores\n",
    "* define a simple neural network to predict MOS scores from wav2vec2 embeddings\n",
    "* train the neural network and save the model\n",
    "* evaluate the model\n",
    "* repeat the process for different wav2vec2 models? other embeddings? use embeddings from different layers? need another 8 months to finish this notebook"
   ]
  },
  {
   "cell_type": "code",
   "execution_count": 1,
   "metadata": {},
   "outputs": [
    {
     "name": "stderr",
     "output_type": "stream",
     "text": [
      "/home/aleph/tesis/.env/lib/python3.12/site-packages/tqdm/auto.py:21: TqdmWarning: IProgress not found. Please update jupyter and ipywidgets. See https://ipywidgets.readthedocs.io/en/stable/user_install.html\n",
      "  from .autonotebook import tqdm as notebook_tqdm\n"
     ]
    }
   ],
   "source": [
    "import os\n",
    "from tqdm.auto import tqdm\n",
    "import pandas as pd\n",
    "import numpy as np\n",
    "import matplotlib.pyplot as plt\n",
    "\n",
    "\n",
    "# wav2vec\n",
    "from transformers import Wav2Vec2FeatureExtractor, Wav2Vec2Model, Wav2Vec2Config\n",
    "import librosa\n",
    "\n",
    "# torch\n",
    "import torch\n",
    "import torch.nn as nn\n",
    "import torch.optim as optim\n",
    "from torch.utils.data import Dataset, DataLoader\n",
    "from torchsummary import summary\n",
    "device = torch.device('cuda' if torch.cuda.is_available() else 'cpu')\n"
   ]
  },
  {
   "cell_type": "markdown",
   "metadata": {},
   "source": [
    "# wav2vec2 embeddings extraction"
   ]
  },
  {
   "cell_type": "code",
   "execution_count": 2,
   "metadata": {},
   "outputs": [],
   "source": [
    "def wav2vec_embeddings(path_to_csv, model_name, output_dir):\n",
    "    \"\"\"Extracts embeddings from audio files given a specific Wav2Vec2 model.\n",
    "    Extracts all layers and stacks them together into a tensor. Then saves that tensor as a numpy array.\n",
    "    Expects csv file with a column named \"stimuli\" containing paths to audio files.\"\"\"\n",
    "\n",
    "    os.makedirs(output_dir, exist_ok=True)\n",
    "\n",
    "    config = Wav2Vec2Config.from_pretrained(model_name, output_hidden_states=True)\n",
    "    feature_extractor = Wav2Vec2FeatureExtractor.from_pretrained(model_name)\n",
    "    model = Wav2Vec2Model(config)\n",
    "    \n",
    "    #load data\n",
    "    metadata_df = pd.read_csv(path_to_csv)\n",
    "\n",
    "    # iterate over each path in \"stimuli\" column\n",
    "    for _, row in tqdm(metadata_df.iterrows()):\n",
    "        audio_file = row['stimuli']\n",
    "        input_audio, sample_rate = librosa.load(audio_file, sr=16000)\n",
    "        inputs = feature_extractor(input_audio, return_tensors=\"pt\", sampling_rate=sample_rate)\n",
    "        \n",
    "        with torch.no_grad():\n",
    "            outputs= model(**inputs)\n",
    "        \n",
    "        all_layer_embeddings = outputs.hidden_states\n",
    "\n",
    "        # Concatenate hidden states from all layers and take the mean across the sequence\n",
    "        # Skip the first layer --> output of the CNN layers with an added positional embedding\n",
    "        embeddings = torch.cat(all_layer_embeddings[, dim=0)\n",
    "        embeddings = embeddings.mean(dim=1)\n",
    "\n",
    "        # Save embeddings as numpy array\n",
    "        embeddings = embeddings.squeeze().detach().numpy()\n",
    "        file_name = os.path.basename(audio_file).split('.')[0]\n",
    "\n",
    "        np.save(os.path.join(output_dir, f\"{file_name}.npy\"), embeddings)"
   ]
  },
  {
   "cell_type": "code",
   "execution_count": 9,
   "metadata": {},
   "outputs": [
    {
     "ename": "OSError",
     "evalue": "facebook/wav2vec2-base-960h does not appear to have a file named config.json. Checkout 'https://huggingface.co/facebook/wav2vec2-base-960h/tree/main' for available files.",
     "output_type": "error",
     "traceback": [
      "\u001b[0;31m---------------------------------------------------------------------------\u001b[0m",
      "\u001b[0;31mOSError\u001b[0m                                   Traceback (most recent call last)",
      "Cell \u001b[0;32mIn[9], line 5\u001b[0m\n\u001b[1;32m      3\u001b[0m model_name \u001b[38;5;241m=\u001b[39m \u001b[38;5;124m\"\u001b[39m\u001b[38;5;124mfacebook/wav2vec2-base-960h\u001b[39m\u001b[38;5;124m\"\u001b[39m\n\u001b[1;32m      4\u001b[0m path_to_dev_embeddings \u001b[38;5;241m=\u001b[39m \u001b[38;5;124m'\u001b[39m\u001b[38;5;124m/home/aleph/tesis/classifier/embeddings/dev\u001b[39m\u001b[38;5;124m'\u001b[39m\n\u001b[0;32m----> 5\u001b[0m \u001b[43mwav2vec_embeddings\u001b[49m\u001b[43m(\u001b[49m\u001b[43mpath_to_train_csv\u001b[49m\u001b[43m,\u001b[49m\u001b[43m \u001b[49m\u001b[43mmodel_name\u001b[49m\u001b[43m,\u001b[49m\u001b[43m \u001b[49m\u001b[43mpath_to_dev_embeddings\u001b[49m\u001b[43m)\u001b[49m\n",
      "Cell \u001b[0;32mIn[2], line 8\u001b[0m, in \u001b[0;36mwav2vec_embeddings\u001b[0;34m(path_to_csv, model_name, output_dir)\u001b[0m\n\u001b[1;32m      2\u001b[0m \u001b[38;5;250m\u001b[39m\u001b[38;5;124;03m\"\"\"Extracts embeddings from audio files given a specific Wav2Vec2 model.\u001b[39;00m\n\u001b[1;32m      3\u001b[0m \u001b[38;5;124;03mExtracts all layers and stacks them together into a tensor. Then saves that tensor as a numpy array.\u001b[39;00m\n\u001b[1;32m      4\u001b[0m \u001b[38;5;124;03mExpects csv file with a column named \"stimuli\" containing paths to audio files.\"\"\"\u001b[39;00m\n\u001b[1;32m      6\u001b[0m os\u001b[38;5;241m.\u001b[39mmakedirs(output_dir, exist_ok\u001b[38;5;241m=\u001b[39m\u001b[38;5;28;01mTrue\u001b[39;00m)\n\u001b[0;32m----> 8\u001b[0m config \u001b[38;5;241m=\u001b[39m \u001b[43mWav2Vec2Config\u001b[49m\u001b[38;5;241;43m.\u001b[39;49m\u001b[43mfrom_pretrained\u001b[49m\u001b[43m(\u001b[49m\u001b[43mmodel_name\u001b[49m\u001b[43m,\u001b[49m\u001b[43m \u001b[49m\u001b[43moutput_hidden_states\u001b[49m\u001b[38;5;241;43m=\u001b[39;49m\u001b[38;5;28;43;01mTrue\u001b[39;49;00m\u001b[43m)\u001b[49m\n\u001b[1;32m      9\u001b[0m feature_extractor \u001b[38;5;241m=\u001b[39m Wav2Vec2FeatureExtractor\u001b[38;5;241m.\u001b[39mfrom_pretrained(model_name)\n\u001b[1;32m     10\u001b[0m model \u001b[38;5;241m=\u001b[39m Wav2Vec2Model(config)\n",
      "File \u001b[0;32m~/tesis/.env/lib/python3.12/site-packages/transformers/configuration_utils.py:602\u001b[0m, in \u001b[0;36mPretrainedConfig.from_pretrained\u001b[0;34m(cls, pretrained_model_name_or_path, cache_dir, force_download, local_files_only, token, revision, **kwargs)\u001b[0m\n\u001b[1;32m    598\u001b[0m kwargs[\u001b[38;5;124m\"\u001b[39m\u001b[38;5;124mrevision\u001b[39m\u001b[38;5;124m\"\u001b[39m] \u001b[38;5;241m=\u001b[39m revision\n\u001b[1;32m    600\u001b[0m \u001b[38;5;28mcls\u001b[39m\u001b[38;5;241m.\u001b[39m_set_token_in_kwargs(kwargs, token)\n\u001b[0;32m--> 602\u001b[0m config_dict, kwargs \u001b[38;5;241m=\u001b[39m \u001b[38;5;28;43mcls\u001b[39;49m\u001b[38;5;241;43m.\u001b[39;49m\u001b[43mget_config_dict\u001b[49m\u001b[43m(\u001b[49m\u001b[43mpretrained_model_name_or_path\u001b[49m\u001b[43m,\u001b[49m\u001b[43m \u001b[49m\u001b[38;5;241;43m*\u001b[39;49m\u001b[38;5;241;43m*\u001b[39;49m\u001b[43mkwargs\u001b[49m\u001b[43m)\u001b[49m\n\u001b[1;32m    603\u001b[0m \u001b[38;5;28;01mif\u001b[39;00m \u001b[38;5;124m\"\u001b[39m\u001b[38;5;124mmodel_type\u001b[39m\u001b[38;5;124m\"\u001b[39m \u001b[38;5;129;01min\u001b[39;00m config_dict \u001b[38;5;129;01mand\u001b[39;00m \u001b[38;5;28mhasattr\u001b[39m(\u001b[38;5;28mcls\u001b[39m, \u001b[38;5;124m\"\u001b[39m\u001b[38;5;124mmodel_type\u001b[39m\u001b[38;5;124m\"\u001b[39m) \u001b[38;5;129;01mand\u001b[39;00m config_dict[\u001b[38;5;124m\"\u001b[39m\u001b[38;5;124mmodel_type\u001b[39m\u001b[38;5;124m\"\u001b[39m] \u001b[38;5;241m!=\u001b[39m \u001b[38;5;28mcls\u001b[39m\u001b[38;5;241m.\u001b[39mmodel_type:\n\u001b[1;32m    604\u001b[0m     logger\u001b[38;5;241m.\u001b[39mwarning(\n\u001b[1;32m    605\u001b[0m         \u001b[38;5;124mf\u001b[39m\u001b[38;5;124m\"\u001b[39m\u001b[38;5;124mYou are using a model of type \u001b[39m\u001b[38;5;132;01m{\u001b[39;00mconfig_dict[\u001b[38;5;124m'\u001b[39m\u001b[38;5;124mmodel_type\u001b[39m\u001b[38;5;124m'\u001b[39m]\u001b[38;5;132;01m}\u001b[39;00m\u001b[38;5;124m to instantiate a model of type \u001b[39m\u001b[38;5;124m\"\u001b[39m\n\u001b[1;32m    606\u001b[0m         \u001b[38;5;124mf\u001b[39m\u001b[38;5;124m\"\u001b[39m\u001b[38;5;132;01m{\u001b[39;00m\u001b[38;5;28mcls\u001b[39m\u001b[38;5;241m.\u001b[39mmodel_type\u001b[38;5;132;01m}\u001b[39;00m\u001b[38;5;124m. This is not supported for all configurations of models and can yield errors.\u001b[39m\u001b[38;5;124m\"\u001b[39m\n\u001b[1;32m    607\u001b[0m     )\n",
      "File \u001b[0;32m~/tesis/.env/lib/python3.12/site-packages/transformers/configuration_utils.py:631\u001b[0m, in \u001b[0;36mPretrainedConfig.get_config_dict\u001b[0;34m(cls, pretrained_model_name_or_path, **kwargs)\u001b[0m\n\u001b[1;32m    629\u001b[0m original_kwargs \u001b[38;5;241m=\u001b[39m copy\u001b[38;5;241m.\u001b[39mdeepcopy(kwargs)\n\u001b[1;32m    630\u001b[0m \u001b[38;5;66;03m# Get config dict associated with the base config file\u001b[39;00m\n\u001b[0;32m--> 631\u001b[0m config_dict, kwargs \u001b[38;5;241m=\u001b[39m \u001b[38;5;28;43mcls\u001b[39;49m\u001b[38;5;241;43m.\u001b[39;49m\u001b[43m_get_config_dict\u001b[49m\u001b[43m(\u001b[49m\u001b[43mpretrained_model_name_or_path\u001b[49m\u001b[43m,\u001b[49m\u001b[43m \u001b[49m\u001b[38;5;241;43m*\u001b[39;49m\u001b[38;5;241;43m*\u001b[39;49m\u001b[43mkwargs\u001b[49m\u001b[43m)\u001b[49m\n\u001b[1;32m    632\u001b[0m \u001b[38;5;28;01mif\u001b[39;00m \u001b[38;5;124m\"\u001b[39m\u001b[38;5;124m_commit_hash\u001b[39m\u001b[38;5;124m\"\u001b[39m \u001b[38;5;129;01min\u001b[39;00m config_dict:\n\u001b[1;32m    633\u001b[0m     original_kwargs[\u001b[38;5;124m\"\u001b[39m\u001b[38;5;124m_commit_hash\u001b[39m\u001b[38;5;124m\"\u001b[39m] \u001b[38;5;241m=\u001b[39m config_dict[\u001b[38;5;124m\"\u001b[39m\u001b[38;5;124m_commit_hash\u001b[39m\u001b[38;5;124m\"\u001b[39m]\n",
      "File \u001b[0;32m~/tesis/.env/lib/python3.12/site-packages/transformers/configuration_utils.py:686\u001b[0m, in \u001b[0;36mPretrainedConfig._get_config_dict\u001b[0;34m(cls, pretrained_model_name_or_path, **kwargs)\u001b[0m\n\u001b[1;32m    682\u001b[0m configuration_file \u001b[38;5;241m=\u001b[39m kwargs\u001b[38;5;241m.\u001b[39mpop(\u001b[38;5;124m\"\u001b[39m\u001b[38;5;124m_configuration_file\u001b[39m\u001b[38;5;124m\"\u001b[39m, CONFIG_NAME)\n\u001b[1;32m    684\u001b[0m \u001b[38;5;28;01mtry\u001b[39;00m:\n\u001b[1;32m    685\u001b[0m     \u001b[38;5;66;03m# Load from local folder or from cache or download from model Hub and cache\u001b[39;00m\n\u001b[0;32m--> 686\u001b[0m     resolved_config_file \u001b[38;5;241m=\u001b[39m \u001b[43mcached_file\u001b[49m\u001b[43m(\u001b[49m\n\u001b[1;32m    687\u001b[0m \u001b[43m        \u001b[49m\u001b[43mpretrained_model_name_or_path\u001b[49m\u001b[43m,\u001b[49m\n\u001b[1;32m    688\u001b[0m \u001b[43m        \u001b[49m\u001b[43mconfiguration_file\u001b[49m\u001b[43m,\u001b[49m\n\u001b[1;32m    689\u001b[0m \u001b[43m        \u001b[49m\u001b[43mcache_dir\u001b[49m\u001b[38;5;241;43m=\u001b[39;49m\u001b[43mcache_dir\u001b[49m\u001b[43m,\u001b[49m\n\u001b[1;32m    690\u001b[0m \u001b[43m        \u001b[49m\u001b[43mforce_download\u001b[49m\u001b[38;5;241;43m=\u001b[39;49m\u001b[43mforce_download\u001b[49m\u001b[43m,\u001b[49m\n\u001b[1;32m    691\u001b[0m \u001b[43m        \u001b[49m\u001b[43mproxies\u001b[49m\u001b[38;5;241;43m=\u001b[39;49m\u001b[43mproxies\u001b[49m\u001b[43m,\u001b[49m\n\u001b[1;32m    692\u001b[0m \u001b[43m        \u001b[49m\u001b[43mresume_download\u001b[49m\u001b[38;5;241;43m=\u001b[39;49m\u001b[43mresume_download\u001b[49m\u001b[43m,\u001b[49m\n\u001b[1;32m    693\u001b[0m \u001b[43m        \u001b[49m\u001b[43mlocal_files_only\u001b[49m\u001b[38;5;241;43m=\u001b[39;49m\u001b[43mlocal_files_only\u001b[49m\u001b[43m,\u001b[49m\n\u001b[1;32m    694\u001b[0m \u001b[43m        \u001b[49m\u001b[43mtoken\u001b[49m\u001b[38;5;241;43m=\u001b[39;49m\u001b[43mtoken\u001b[49m\u001b[43m,\u001b[49m\n\u001b[1;32m    695\u001b[0m \u001b[43m        \u001b[49m\u001b[43muser_agent\u001b[49m\u001b[38;5;241;43m=\u001b[39;49m\u001b[43muser_agent\u001b[49m\u001b[43m,\u001b[49m\n\u001b[1;32m    696\u001b[0m \u001b[43m        \u001b[49m\u001b[43mrevision\u001b[49m\u001b[38;5;241;43m=\u001b[39;49m\u001b[43mrevision\u001b[49m\u001b[43m,\u001b[49m\n\u001b[1;32m    697\u001b[0m \u001b[43m        \u001b[49m\u001b[43msubfolder\u001b[49m\u001b[38;5;241;43m=\u001b[39;49m\u001b[43msubfolder\u001b[49m\u001b[43m,\u001b[49m\n\u001b[1;32m    698\u001b[0m \u001b[43m        \u001b[49m\u001b[43m_commit_hash\u001b[49m\u001b[38;5;241;43m=\u001b[39;49m\u001b[43mcommit_hash\u001b[49m\u001b[43m,\u001b[49m\n\u001b[1;32m    699\u001b[0m \u001b[43m    \u001b[49m\u001b[43m)\u001b[49m\n\u001b[1;32m    700\u001b[0m     commit_hash \u001b[38;5;241m=\u001b[39m extract_commit_hash(resolved_config_file, commit_hash)\n\u001b[1;32m    701\u001b[0m \u001b[38;5;28;01mexcept\u001b[39;00m \u001b[38;5;167;01mEnvironmentError\u001b[39;00m:\n\u001b[1;32m    702\u001b[0m     \u001b[38;5;66;03m# Raise any environment error raise by `cached_file`. It will have a helpful error message adapted to\u001b[39;00m\n\u001b[1;32m    703\u001b[0m     \u001b[38;5;66;03m# the original exception.\u001b[39;00m\n",
      "File \u001b[0;32m~/tesis/.env/lib/python3.12/site-packages/transformers/utils/hub.py:369\u001b[0m, in \u001b[0;36mcached_file\u001b[0;34m(path_or_repo_id, filename, cache_dir, force_download, resume_download, proxies, token, revision, local_files_only, subfolder, repo_type, user_agent, _raise_exceptions_for_gated_repo, _raise_exceptions_for_missing_entries, _raise_exceptions_for_connection_errors, _commit_hash, **deprecated_kwargs)\u001b[0m\n\u001b[1;32m    367\u001b[0m \u001b[38;5;28;01mif\u001b[39;00m \u001b[38;5;129;01mnot\u001b[39;00m os\u001b[38;5;241m.\u001b[39mpath\u001b[38;5;241m.\u001b[39misfile(resolved_file):\n\u001b[1;32m    368\u001b[0m     \u001b[38;5;28;01mif\u001b[39;00m _raise_exceptions_for_missing_entries:\n\u001b[0;32m--> 369\u001b[0m         \u001b[38;5;28;01mraise\u001b[39;00m \u001b[38;5;167;01mEnvironmentError\u001b[39;00m(\n\u001b[1;32m    370\u001b[0m             \u001b[38;5;124mf\u001b[39m\u001b[38;5;124m\"\u001b[39m\u001b[38;5;132;01m{\u001b[39;00mpath_or_repo_id\u001b[38;5;132;01m}\u001b[39;00m\u001b[38;5;124m does not appear to have a file named \u001b[39m\u001b[38;5;132;01m{\u001b[39;00mfull_filename\u001b[38;5;132;01m}\u001b[39;00m\u001b[38;5;124m. Checkout \u001b[39m\u001b[38;5;124m\"\u001b[39m\n\u001b[1;32m    371\u001b[0m             \u001b[38;5;124mf\u001b[39m\u001b[38;5;124m\"\u001b[39m\u001b[38;5;124m'\u001b[39m\u001b[38;5;124mhttps://huggingface.co/\u001b[39m\u001b[38;5;132;01m{\u001b[39;00mpath_or_repo_id\u001b[38;5;132;01m}\u001b[39;00m\u001b[38;5;124m/tree/\u001b[39m\u001b[38;5;132;01m{\u001b[39;00mrevision\u001b[38;5;132;01m}\u001b[39;00m\u001b[38;5;124m'\u001b[39m\u001b[38;5;124m for available files.\u001b[39m\u001b[38;5;124m\"\u001b[39m\n\u001b[1;32m    372\u001b[0m         )\n\u001b[1;32m    373\u001b[0m     \u001b[38;5;28;01melse\u001b[39;00m:\n\u001b[1;32m    374\u001b[0m         \u001b[38;5;28;01mreturn\u001b[39;00m \u001b[38;5;28;01mNone\u001b[39;00m\n",
      "\u001b[0;31mOSError\u001b[0m: facebook/wav2vec2-base-960h does not appear to have a file named config.json. Checkout 'https://huggingface.co/facebook/wav2vec2-base-960h/tree/main' for available files."
     ]
    }
   ],
   "source": [
    "# extract embeddings for dev set\n",
    "path_to_dev_csv = '/home/aleph/tesis/classifier/dev.csv'\n",
    "path_to_dev_embeddings = '/home/aleph/tesis/classifier/embeddings/dev'\n",
    "# wav2vec_embeddings(path_to_dev_csv, path_to_dev_embeddings)\n",
    "\n",
    "# extract embeddings for test set\n",
    "path_to_test_csv = '/home/aleph/tesis/classifier/test.csv'\n",
    "path_to_test_embeddings = '/home/aleph/tesis/classifier/embeddings/test'\n",
    "# wav2vec_embeddings(path_to_test_csv, path_to_test_embeddings)\n",
    "\n",
    "# extract embeddings for train set\n",
    "path_to_train_csv = '/home/aleph/tesis/classifier/train.csv'\n",
    "path_to_train_embeddings = '/home/aleph/tesis/classifier/embeddings/train'\n",
    "# wav2vec_embeddings(path_to_train_csv, path_to_train_embeddings)"
   ]
  },
  {
   "cell_type": "markdown",
   "metadata": {},
   "source": [
    "## attempt to plot some sort of distribution of the embeddings"
   ]
  },
  {
   "cell_type": "code",
   "execution_count": 12,
   "metadata": {},
   "outputs": [
    {
     "name": "stdout",
     "output_type": "stream",
     "text": [
      "Train embeddings shape: (3473, 1, 768)\n",
      "Test embeddings shape: (863, 1, 768)\n"
     ]
    }
   ],
   "source": [
    "# let's explore the embeddings to see distributions of data\n",
    "import matplotlib.pyplot as plt\n",
    "import seaborn as sns\n",
    "from numpy import array\n",
    "from numpy import float32\n",
    "\n",
    "# get the embeddings read from the csv\n",
    "train_embeddings = pd.read_csv(path_to_save_train_embeddings)\n",
    "test_embeddings = pd.read_csv(path_to_save_test_embeddings)\n",
    "\n",
    "# get the embeddings\n",
    "train_embeddings = train_embeddings['embeddings']\n",
    "test_embeddings = test_embeddings['embeddings']\n",
    "\n",
    "# convert the strings to lists\n",
    "train_embeddings = train_embeddings.apply(lambda x: eval(x))\n",
    "test_embeddings = test_embeddings.apply(lambda x: eval(x))\n",
    "\n",
    "# convert the lists to numpy arrays\n",
    "train_embeddings = np.array(train_embeddings.tolist())\n",
    "test_embeddings = np.array(test_embeddings.tolist())\n",
    "\n",
    "# get the shape of the embeddings\n",
    "print(f\"Train embeddings shape: {train_embeddings.shape}\")\n",
    "print(f\"Test embeddings shape: {test_embeddings.shape}\")\n",
    "\n",
    "\n"
   ]
  },
  {
   "cell_type": "code",
   "execution_count": 38,
   "metadata": {},
   "outputs": [
    {
     "name": "stdout",
     "output_type": "stream",
     "text": [
      "Projecting to 2D with UMAP\n"
     ]
    }
   ],
   "source": [
    "import umap.umap_ as umap\n",
    "\n",
    "#Create a numpy array with the features and project them to 2D using UMAP:\n",
    "X = np.stack(train_embeddings.squeeze())\n",
    "print('Projecting to 2D with UMAP')\n",
    "projector = umap.UMAP()\n",
    "projected = projector.fit_transform(X)\n",
    "metadata_df = pd.DataFrame()\n",
    "metadata_df['X'] = projected[:,0]\n",
    "metadata_df['Y'] = projected[:,1]"
   ]
  },
  {
   "cell_type": "code",
   "execution_count": 40,
   "metadata": {},
   "outputs": [
    {
     "name": "stderr",
     "output_type": "stream",
     "text": [
      "No artists with labels found to put in legend.  Note that artists whose label start with an underscore are ignored when legend() is called with no argument.\n"
     ]
    },
    {
     "data": {
      "text/plain": [
       "<matplotlib.legend.Legend at 0x726dfa482480>"
      ]
     },
     "execution_count": 40,
     "metadata": {},
     "output_type": "execute_result"
    },
    {
     "data": {
      "image/png": "[encoded data removed]",
      "text/plain": [
       "<Figure size 640x480 with 1 Axes>"
      ]
     },
     "metadata": {},
     "output_type": "display_data"
    }
   ],
   "source": [
    "plt.title('2D projection of Wav2Vec2 features colored by score')\n",
    "sns.scatterplot(data=metadata_df,x='X',y='Y')\n",
    "plt.legend(bbox_to_anchor=(1.05, 1), loc='upper left', borderaxespad=0)"
   ]
  },
  {
   "cell_type": "code",
   "execution_count": 41,
   "metadata": {},
   "outputs": [
    {
     "name": "stdout",
     "output_type": "stream",
     "text": [
      "Projecting to 2D with UMAP\n"
     ]
    },
    {
     "name": "stderr",
     "output_type": "stream",
     "text": [
      "No artists with labels found to put in legend.  Note that artists whose label start with an underscore are ignored when legend() is called with no argument.\n"
     ]
    },
    {
     "data": {
      "text/plain": [
       "<matplotlib.legend.Legend at 0x726e013ad010>"
      ]
     },
     "execution_count": 41,
     "metadata": {},
     "output_type": "execute_result"
    },
    {
     "data": {
      "image/png": "[encoded data removed]",
      "text/plain": [
       "<Figure size 640x480 with 1 Axes>"
      ]
     },
     "metadata": {},
     "output_type": "display_data"
    }
   ],
   "source": [
    "import umap.umap_ as umap\n",
    "\n",
    "#Create a numpy array with the features and project them to 2D using UMAP:\n",
    "X = np.stack(test_embeddings.squeeze())\n",
    "print('Projecting to 2D with UMAP')\n",
    "projector = umap.UMAP()\n",
    "projected = projector.fit_transform(X)\n",
    "metadata_df = pd.DataFrame()\n",
    "metadata_df['X'] = projected[:,0]\n",
    "metadata_df['Y'] = projected[:,1]\n",
    "\n",
    "plt.title('2D projection of Wav2Vec2 features colored by score')\n",
    "sns.scatterplot(data=metadata_df,x='X',y='Y')\n",
    "plt.legend(bbox_to_anchor=(1.05, 1), loc='upper left', borderaxespad=0)"
   ]
  },
  {
   "cell_type": "markdown",
   "metadata": {},
   "source": [
    "# MOSDataset\n",
    "* Convert the embeddings from string representations into proper tensors.\n",
    "* Separate the data into features (embeddings) and targets (MOS scores)."
   ]
  },
  {
   "cell_type": "code",
   "execution_count": 2,
   "metadata": {},
   "outputs": [],
   "source": [
    "# Custom dataset to read embeddings and MOS scores from a CSV\n",
    "from numpy import array\n",
    "from numpy import float32\n",
    "\n",
    "class MOSDataset(Dataset):\n",
    "    def __init__(self, csv_file, split):\n",
    "        # Load the CSV file\n",
    "        self.data = pd.read_csv(csv_file)\n",
    "        self.split = split  # Store the split (train, val, test)\n",
    "\n",
    "        \n",
    "    def __len__(self):\n",
    "        return len(self.data)  # Total number of samples in the dataset\n",
    "    \n",
    "    def __getitem__(self, idx):\n",
    "        # Get the embeddings and MOS scores for the given index\n",
    "        file_name = os.path.basename(self.data.iloc[idx]['stimuli'])\n",
    "        file_folder = os.path.basename(os.path.dirname(self.data.iloc[idx]['stimuli']))\n",
    "\n",
    "        embeddings_path = f\"/home/aleph/tesis/classifier/embeddings/{self.split}/{file_folder}/{file_name.split('.')[0]}.npy\"\n",
    "\n",
    "        # Check if the embeddings file exists\n",
    "        if not os.path.isfile(embeddings_path):\n",
    "            raise FileNotFoundError(f\"Embeddings file not found at {embeddings_path}\")\n",
    "\n",
    "        embeddings = np.load(embeddings_path)\n",
    "\n",
    "        mos_score = self.data.iloc[idx]['mos_average']\n",
    "\n",
    "        # Convert the numpy array of embeddings to a tensor\n",
    "        embeddings_tensor = torch.tensor(embeddings, dtype=torch.float32)  # Convert to PyTorch tensor\n",
    "\n",
    "        # drop first layer\n",
    "        # embeddings_tensor = embeddings_tensor[1:]\n",
    "                \n",
    "        # MOS score should be a single value\n",
    "        mos_tensor = torch.tensor([mos_score], dtype=torch.float32)  # Convert to tensor\n",
    "        \n",
    "        return embeddings_tensor, mos_tensor\n",
    "\n",
    "# Create the training DataLoader\n",
    "train_csv_path = \"/home/aleph/tesis/classifier/train_average.csv\"\n",
    "train_dataset = MOSDataset(train_csv_path, split='train')\n",
    "train_loader = DataLoader(train_dataset, batch_size=32, shuffle=True, num_workers=2)  # DataLoader with batching and shuffling\n",
    "\n",
    "# Create the validation DataLoader\n",
    "val_csv_path = \"/home/aleph/tesis/classifier/val_average.csv\"\n",
    "val_dataset = MOSDataset(val_csv_path, split='val')\n",
    "val_loader = DataLoader(val_dataset, batch_size=32, shuffle=False, num_workers=2)\n",
    "\n",
    "# Create the testing DataLoader\n",
    "test_csv_path = \"/home/aleph/tesis/classifier/test_average.csv\"\n",
    "test_dataset = MOSDataset(test_csv_path, split='test')\n",
    "test_loader = DataLoader(test_dataset, batch_size=32, shuffle=False, num_workers=2) \n"
   ]
  },
  {
   "cell_type": "code",
   "execution_count": 3,
   "metadata": {},
   "outputs": [
    {
     "name": "stdout",
     "output_type": "stream",
     "text": [
      "Embeddings shape: torch.Size([13, 768])\n",
      "MOS score: 1.5\n"
     ]
    }
   ],
   "source": [
    "# Test getting an item\n",
    "try:\n",
    "    embeddings, mos = test_dataset[0]  # Test the first item\n",
    "    print(\"Embeddings shape:\", embeddings.shape)  # Expected shape\n",
    "    print(\"MOS score:\", mos.item())  # Expected MOS score\n",
    "except Exception as e:\n",
    "    print(\"Error getting item:\", e)"
   ]
  },
  {
   "cell_type": "code",
   "execution_count": 4,
   "metadata": {},
   "outputs": [
    {
     "name": "stdout",
     "output_type": "stream",
     "text": [
      "Train dataset length: 3136\n",
      "Validation dataset length: 313\n",
      "Test dataset length: 307\n"
     ]
    }
   ],
   "source": [
    "#print length of the datasets\n",
    "print(f\"Train dataset length: {len(train_dataset)}\")\n",
    "print(f\"Validation dataset length: {len(val_dataset)}\")\n",
    "print(f\"Test dataset length: {len(test_dataset)}\")"
   ]
  },
  {
   "cell_type": "markdown",
   "metadata": {},
   "source": [
    "# Neural network"
   ]
  },
  {
   "cell_type": "code",
   "execution_count": 15,
   "metadata": {},
   "outputs": [],
   "source": [
    "class WeightedAverage(torch.nn.Module):\n",
    "    def __init__(self, num_layers=12):\n",
    "        super().__init__()\n",
    "        self.weights = torch.nn.Parameter(data=torch.ones((num_layers,)))\n",
    "       \n",
    "    def forward(self, x):\n",
    "        w = torch.nn.functional.softmax(self.weights, dim=0)\n",
    "        x_weighted = x*w[None,:,None]\n",
    "        return torch.sum(x_weighted, dim=1)\n",
    "\n",
    "class DenseMOS(nn.Module):\n",
    "    def __init__(self, input_dim, hidden_dim, dropout_prob, num_layers):\n",
    "        super(DenseMOS, self).__init__()\n",
    "\n",
    "        # add a weighted average layer\n",
    "        self.weighted_average = WeightedAverage(num_layers)\n",
    "        \n",
    "        # First dense layer with 128 neurons, ReLU activation, and dropout\n",
    "        self.layer1 = nn.Sequential(\n",
    "            nn.Linear(input_dim, hidden_dim),  # Linear layer for dense transformation\n",
    "            nn.ReLU(),  # ReLU activation\n",
    "            nn.Dropout(dropout_prob),  # Dropout with 0.2\n",
    "        )\n",
    "\n",
    "        # Second dense layer, same design\n",
    "        self.layer2 = nn.Sequential(\n",
    "            nn.Linear(hidden_dim, hidden_dim),\n",
    "            nn.ReLU(),\n",
    "            nn.Dropout(dropout_prob),\n",
    "        )\n",
    "\n",
    "        # Final dense layer for MOS score prediction\n",
    "        self.output_layer = nn.Linear(hidden_dim, 1)  # Linear layer to predict MOS\n",
    "\n",
    "    def forward(self, x):\n",
    "        # Apply the weighted average to combine 12 layers into 1\n",
    "        x = self.weighted_average(x)  # Apply WeightedAverage\n",
    "\n",
    "        # Pass the input through the first dense layer\n",
    "        x = self.layer1(x)\n",
    "\n",
    "        # Pass through the second dense layer\n",
    "        x = self.layer2(x)\n",
    "\n",
    "        # Pass through the final dense layer to get the MOS score\n",
    "        x = self.output_layer(x)  # Output layer\n",
    "\n",
    "        # # Constrain the output to the 1-5 range\n",
    "        # x = torch.sigmoid(x)  # Constrain between 0 and 1\n",
    "        # x = 1 + 4 * x  # Scale to 1-5\n",
    "\n",
    "        return x\n",
    "\n",
    "\n",
    "# Define the model parameters\n",
    "input_dim = 768  # Single 768-dimensional input\n",
    "hidden_dim = 128  # Hidden dimension for dense layers\n",
    "dropout_prob = 0.6  # Dropout probability\n",
    "num_layers = 13  # Number of layers in the Wav2Vec2 model"
   ]
  },
  {
   "cell_type": "markdown",
   "metadata": {},
   "source": [
    "# Training"
   ]
  },
  {
   "cell_type": "code",
   "execution_count": 16,
   "metadata": {},
   "outputs": [
    {
     "data": {
      "text/plain": [
       "DenseMOS(\n",
       "  (weighted_average): WeightedAverage()\n",
       "  (layer1): Sequential(\n",
       "    (0): Linear(in_features=768, out_features=128, bias=True)\n",
       "    (1): ReLU()\n",
       "    (2): Dropout(p=0.6, inplace=False)\n",
       "  )\n",
       "  (layer2): Sequential(\n",
       "    (0): Linear(in_features=128, out_features=128, bias=True)\n",
       "    (1): ReLU()\n",
       "    (2): Dropout(p=0.6, inplace=False)\n",
       "  )\n",
       "  (output_layer): Linear(in_features=128, out_features=1, bias=True)\n",
       ")"
      ]
     },
     "execution_count": 16,
     "metadata": {},
     "output_type": "execute_result"
    }
   ],
   "source": [
    "# Instantiate the DenseMOS model\n",
    "dense_mos = DenseMOS(input_dim, hidden_dim, dropout_prob, num_layers)\n",
    "dense_mos.to(device)  # Move the model to the device"
   ]
  },
  {
   "cell_type": "markdown",
   "metadata": {},
   "source": [
    "## Define a Loss Function and Optimizer\n"
   ]
  },
  {
   "cell_type": "code",
   "execution_count": 17,
   "metadata": {},
   "outputs": [],
   "source": [
    "# define loss and optimizer\n",
    "loss_fn = nn.MSELoss()  # Mean squared error loss\n",
    "# propose a different possible loss function\n",
    "# loss_fn = nn.SmoothL1Loss()  # Huber loss\n",
    "\n",
    "# Assuming you are using an optimizer like Adam\n",
    "# optimizer = torch.optim.Adam(dense_mos.parameters(), lr=1e-4, weight_decay=1e-5)  # Add L2 regularization\n",
    "# optimizer = torch.optim.Adam(dense_mos.parameters(), lr=1e-4)\n",
    "\n",
    "base_params = [p for name, p in dense_mos.named_parameters() if \"weights\" not in name]\n",
    "weight_params = [dense_mos.weighted_average.weights]\n",
    "optimizer = torch.optim.Adam([\n",
    "    {'params': base_params},\n",
    "    {'params': weight_params, 'lr': 1e-3}  # Higher learning rate for weights\n",
    "], lr=1e-4)"
   ]
  },
  {
   "cell_type": "markdown",
   "metadata": {},
   "source": [
    "## Training Loop"
   ]
  },
  {
   "cell_type": "code",
   "execution_count": 18,
   "metadata": {},
   "outputs": [
    {
     "name": "stderr",
     "output_type": "stream",
     "text": [
      "Epoch 1/1000: 100%|██████████| 98/98 [00:00<00:00, 113.88it/s]\n"
     ]
    },
    {
     "name": "stdout",
     "output_type": "stream",
     "text": [
      "Epoch 1/1000, Training Loss: 8.9027, Validation Loss: 3.7243\n"
     ]
    },
    {
     "name": "stderr",
     "output_type": "stream",
     "text": [
      "Epoch 2/1000: 100%|██████████| 98/98 [00:00<00:00, 110.33it/s]\n"
     ]
    },
    {
     "name": "stdout",
     "output_type": "stream",
     "text": [
      "Epoch 2/1000, Training Loss: 7.4713, Validation Loss: 3.6292\n"
     ]
    },
    {
     "name": "stderr",
     "output_type": "stream",
     "text": [
      "Epoch 3/1000: 100%|██████████| 98/98 [00:00<00:00, 111.88it/s]\n"
     ]
    },
    {
     "name": "stdout",
     "output_type": "stream",
     "text": [
      "Epoch 3/1000, Training Loss: 5.8133, Validation Loss: 3.5335\n"
     ]
    },
    {
     "name": "stderr",
     "output_type": "stream",
     "text": [
      "Epoch 4/1000: 100%|██████████| 98/98 [00:00<00:00, 114.15it/s]\n"
     ]
    },
    {
     "name": "stdout",
     "output_type": "stream",
     "text": [
      "Epoch 4/1000, Training Loss: 4.1439, Validation Loss: 3.4362\n"
     ]
    },
    {
     "name": "stderr",
     "output_type": "stream",
     "text": [
      "Epoch 5/1000: 100%|██████████| 98/98 [00:00<00:00, 112.73it/s]\n"
     ]
    },
    {
     "name": "stdout",
     "output_type": "stream",
     "text": [
      "Epoch 5/1000, Training Loss: 3.0311, Validation Loss: 3.3500\n"
     ]
    },
    {
     "name": "stderr",
     "output_type": "stream",
     "text": [
      "Epoch 6/1000: 100%|██████████| 98/98 [00:00<00:00, 111.04it/s]\n"
     ]
    },
    {
     "name": "stdout",
     "output_type": "stream",
     "text": [
      "Epoch 6/1000, Training Loss: 2.5634, Validation Loss: 3.2970\n"
     ]
    },
    {
     "name": "stderr",
     "output_type": "stream",
     "text": [
      "Epoch 7/1000: 100%|██████████| 98/98 [00:00<00:00, 111.61it/s]\n"
     ]
    },
    {
     "name": "stdout",
     "output_type": "stream",
     "text": [
      "Epoch 7/1000, Training Loss: 2.5289, Validation Loss: 3.2622\n"
     ]
    },
    {
     "name": "stderr",
     "output_type": "stream",
     "text": [
      "Epoch 8/1000: 100%|██████████| 98/98 [00:00<00:00, 111.96it/s]\n"
     ]
    },
    {
     "name": "stdout",
     "output_type": "stream",
     "text": [
      "Epoch 8/1000, Training Loss: 2.5078, Validation Loss: 3.2345\n"
     ]
    },
    {
     "name": "stderr",
     "output_type": "stream",
     "text": [
      "Epoch 9/1000: 100%|██████████| 98/98 [00:00<00:00, 114.97it/s]\n"
     ]
    },
    {
     "name": "stdout",
     "output_type": "stream",
     "text": [
      "Epoch 9/1000, Training Loss: 2.4160, Validation Loss: 3.2052\n"
     ]
    },
    {
     "name": "stderr",
     "output_type": "stream",
     "text": [
      "Epoch 10/1000: 100%|██████████| 98/98 [00:00<00:00, 114.04it/s]\n"
     ]
    },
    {
     "name": "stdout",
     "output_type": "stream",
     "text": [
      "Epoch 10/1000, Training Loss: 2.4278, Validation Loss: 3.1712\n"
     ]
    },
    {
     "name": "stderr",
     "output_type": "stream",
     "text": [
      "Epoch 11/1000: 100%|██████████| 98/98 [00:00<00:00, 112.55it/s]\n"
     ]
    },
    {
     "name": "stdout",
     "output_type": "stream",
     "text": [
      "Epoch 11/1000, Training Loss: 2.4385, Validation Loss: 3.1407\n"
     ]
    },
    {
     "name": "stderr",
     "output_type": "stream",
     "text": [
      "Epoch 12/1000: 100%|██████████| 98/98 [00:00<00:00, 113.40it/s]\n"
     ]
    },
    {
     "name": "stdout",
     "output_type": "stream",
     "text": [
      "Epoch 12/1000, Training Loss: 2.3472, Validation Loss: 3.1082\n"
     ]
    },
    {
     "name": "stderr",
     "output_type": "stream",
     "text": [
      "Epoch 13/1000: 100%|██████████| 98/98 [00:00<00:00, 113.07it/s]\n"
     ]
    },
    {
     "name": "stdout",
     "output_type": "stream",
     "text": [
      "Epoch 13/1000, Training Loss: 2.3440, Validation Loss: 3.0793\n"
     ]
    },
    {
     "name": "stderr",
     "output_type": "stream",
     "text": [
      "Epoch 14/1000: 100%|██████████| 98/98 [00:00<00:00, 111.85it/s]\n"
     ]
    },
    {
     "name": "stdout",
     "output_type": "stream",
     "text": [
      "Epoch 14/1000, Training Loss: 2.2849, Validation Loss: 3.0408\n"
     ]
    },
    {
     "name": "stderr",
     "output_type": "stream",
     "text": [
      "Epoch 15/1000: 100%|██████████| 98/98 [00:00<00:00, 111.75it/s]\n"
     ]
    },
    {
     "name": "stdout",
     "output_type": "stream",
     "text": [
      "Epoch 15/1000, Training Loss: 2.2728, Validation Loss: 3.0073\n"
     ]
    },
    {
     "name": "stderr",
     "output_type": "stream",
     "text": [
      "Epoch 16/1000: 100%|██████████| 98/98 [00:00<00:00, 113.77it/s]\n"
     ]
    },
    {
     "name": "stdout",
     "output_type": "stream",
     "text": [
      "Epoch 16/1000, Training Loss: 2.1935, Validation Loss: 2.9793\n"
     ]
    },
    {
     "name": "stderr",
     "output_type": "stream",
     "text": [
      "Epoch 17/1000: 100%|██████████| 98/98 [00:00<00:00, 109.69it/s]\n"
     ]
    },
    {
     "name": "stdout",
     "output_type": "stream",
     "text": [
      "Epoch 17/1000, Training Loss: 2.1974, Validation Loss: 2.9470\n"
     ]
    },
    {
     "name": "stderr",
     "output_type": "stream",
     "text": [
      "Epoch 18/1000: 100%|██████████| 98/98 [00:00<00:00, 107.29it/s]\n"
     ]
    },
    {
     "name": "stdout",
     "output_type": "stream",
     "text": [
      "Epoch 18/1000, Training Loss: 2.2070, Validation Loss: 2.9204\n"
     ]
    },
    {
     "name": "stderr",
     "output_type": "stream",
     "text": [
      "Epoch 19/1000: 100%|██████████| 98/98 [00:00<00:00, 103.03it/s]\n"
     ]
    },
    {
     "name": "stdout",
     "output_type": "stream",
     "text": [
      "Epoch 19/1000, Training Loss: 2.1619, Validation Loss: 2.8963\n"
     ]
    },
    {
     "name": "stderr",
     "output_type": "stream",
     "text": [
      "Epoch 20/1000: 100%|██████████| 98/98 [00:00<00:00, 107.02it/s]\n"
     ]
    },
    {
     "name": "stdout",
     "output_type": "stream",
     "text": [
      "Epoch 20/1000, Training Loss: 2.0666, Validation Loss: 2.8641\n"
     ]
    },
    {
     "name": "stderr",
     "output_type": "stream",
     "text": [
      "Epoch 21/1000: 100%|██████████| 98/98 [00:00<00:00, 113.45it/s]\n"
     ]
    },
    {
     "name": "stdout",
     "output_type": "stream",
     "text": [
      "Epoch 21/1000, Training Loss: 2.0487, Validation Loss: 2.8395\n"
     ]
    },
    {
     "name": "stderr",
     "output_type": "stream",
     "text": [
      "Epoch 22/1000: 100%|██████████| 98/98 [00:00<00:00, 110.30it/s]\n"
     ]
    },
    {
     "name": "stdout",
     "output_type": "stream",
     "text": [
      "Epoch 22/1000, Training Loss: 2.0435, Validation Loss: 2.8148\n"
     ]
    },
    {
     "name": "stderr",
     "output_type": "stream",
     "text": [
      "Epoch 23/1000: 100%|██████████| 98/98 [00:00<00:00, 116.21it/s]\n"
     ]
    },
    {
     "name": "stdout",
     "output_type": "stream",
     "text": [
      "Epoch 23/1000, Training Loss: 2.0454, Validation Loss: 2.7886\n"
     ]
    },
    {
     "name": "stderr",
     "output_type": "stream",
     "text": [
      "Epoch 24/1000: 100%|██████████| 98/98 [00:00<00:00, 114.94it/s]\n"
     ]
    },
    {
     "name": "stdout",
     "output_type": "stream",
     "text": [
      "Epoch 24/1000, Training Loss: 2.0009, Validation Loss: 2.7714\n"
     ]
    },
    {
     "name": "stderr",
     "output_type": "stream",
     "text": [
      "Epoch 25/1000: 100%|██████████| 98/98 [00:00<00:00, 114.65it/s]\n"
     ]
    },
    {
     "name": "stdout",
     "output_type": "stream",
     "text": [
      "Epoch 25/1000, Training Loss: 1.9770, Validation Loss: 2.7487\n"
     ]
    },
    {
     "name": "stderr",
     "output_type": "stream",
     "text": [
      "Epoch 26/1000: 100%|██████████| 98/98 [00:00<00:00, 117.73it/s]\n"
     ]
    },
    {
     "name": "stdout",
     "output_type": "stream",
     "text": [
      "Epoch 26/1000, Training Loss: 1.9287, Validation Loss: 2.7291\n"
     ]
    },
    {
     "name": "stderr",
     "output_type": "stream",
     "text": [
      "Epoch 27/1000: 100%|██████████| 98/98 [00:00<00:00, 117.68it/s]\n"
     ]
    },
    {
     "name": "stdout",
     "output_type": "stream",
     "text": [
      "Epoch 27/1000, Training Loss: 1.9946, Validation Loss: 2.7093\n"
     ]
    },
    {
     "name": "stderr",
     "output_type": "stream",
     "text": [
      "Epoch 28/1000: 100%|██████████| 98/98 [00:00<00:00, 119.42it/s]\n"
     ]
    },
    {
     "name": "stdout",
     "output_type": "stream",
     "text": [
      "Epoch 28/1000, Training Loss: 2.0122, Validation Loss: 2.6899\n"
     ]
    },
    {
     "name": "stderr",
     "output_type": "stream",
     "text": [
      "Epoch 29/1000: 100%|██████████| 98/98 [00:00<00:00, 118.13it/s]\n"
     ]
    },
    {
     "name": "stdout",
     "output_type": "stream",
     "text": [
      "Epoch 29/1000, Training Loss: 1.9336, Validation Loss: 2.6671\n"
     ]
    },
    {
     "name": "stderr",
     "output_type": "stream",
     "text": [
      "Epoch 30/1000: 100%|██████████| 98/98 [00:00<00:00, 119.20it/s]\n"
     ]
    },
    {
     "name": "stdout",
     "output_type": "stream",
     "text": [
      "Epoch 30/1000, Training Loss: 1.9269, Validation Loss: 2.6497\n"
     ]
    },
    {
     "name": "stderr",
     "output_type": "stream",
     "text": [
      "Epoch 31/1000: 100%|██████████| 98/98 [00:00<00:00, 118.59it/s]\n"
     ]
    },
    {
     "name": "stdout",
     "output_type": "stream",
     "text": [
      "Epoch 31/1000, Training Loss: 1.9104, Validation Loss: 2.6312\n"
     ]
    },
    {
     "name": "stderr",
     "output_type": "stream",
     "text": [
      "Epoch 32/1000: 100%|██████████| 98/98 [00:00<00:00, 118.54it/s]\n"
     ]
    },
    {
     "name": "stdout",
     "output_type": "stream",
     "text": [
      "Epoch 32/1000, Training Loss: 1.8674, Validation Loss: 2.6153\n"
     ]
    },
    {
     "name": "stderr",
     "output_type": "stream",
     "text": [
      "Epoch 33/1000: 100%|██████████| 98/98 [00:00<00:00, 119.35it/s]\n"
     ]
    },
    {
     "name": "stdout",
     "output_type": "stream",
     "text": [
      "Epoch 33/1000, Training Loss: 1.8985, Validation Loss: 2.5992\n"
     ]
    },
    {
     "name": "stderr",
     "output_type": "stream",
     "text": [
      "Epoch 34/1000: 100%|██████████| 98/98 [00:00<00:00, 116.65it/s]\n"
     ]
    },
    {
     "name": "stdout",
     "output_type": "stream",
     "text": [
      "Epoch 34/1000, Training Loss: 1.8671, Validation Loss: 2.5812\n"
     ]
    },
    {
     "name": "stderr",
     "output_type": "stream",
     "text": [
      "Epoch 35/1000: 100%|██████████| 98/98 [00:00<00:00, 117.33it/s]\n"
     ]
    },
    {
     "name": "stdout",
     "output_type": "stream",
     "text": [
      "Epoch 35/1000, Training Loss: 1.8725, Validation Loss: 2.5639\n"
     ]
    },
    {
     "name": "stderr",
     "output_type": "stream",
     "text": [
      "Epoch 36/1000: 100%|██████████| 98/98 [00:00<00:00, 118.66it/s]\n"
     ]
    },
    {
     "name": "stdout",
     "output_type": "stream",
     "text": [
      "Epoch 36/1000, Training Loss: 1.8880, Validation Loss: 2.5503\n"
     ]
    },
    {
     "name": "stderr",
     "output_type": "stream",
     "text": [
      "Epoch 37/1000: 100%|██████████| 98/98 [00:00<00:00, 117.72it/s]\n"
     ]
    },
    {
     "name": "stdout",
     "output_type": "stream",
     "text": [
      "Epoch 37/1000, Training Loss: 1.9164, Validation Loss: 2.5382\n"
     ]
    },
    {
     "name": "stderr",
     "output_type": "stream",
     "text": [
      "Epoch 38/1000: 100%|██████████| 98/98 [00:00<00:00, 117.22it/s]\n"
     ]
    },
    {
     "name": "stdout",
     "output_type": "stream",
     "text": [
      "Epoch 38/1000, Training Loss: 1.8105, Validation Loss: 2.5240\n"
     ]
    },
    {
     "name": "stderr",
     "output_type": "stream",
     "text": [
      "Epoch 39/1000: 100%|██████████| 98/98 [00:00<00:00, 119.20it/s]\n"
     ]
    },
    {
     "name": "stdout",
     "output_type": "stream",
     "text": [
      "Epoch 39/1000, Training Loss: 1.8340, Validation Loss: 2.5136\n"
     ]
    },
    {
     "name": "stderr",
     "output_type": "stream",
     "text": [
      "Epoch 40/1000: 100%|██████████| 98/98 [00:00<00:00, 118.63it/s]\n"
     ]
    },
    {
     "name": "stdout",
     "output_type": "stream",
     "text": [
      "Epoch 40/1000, Training Loss: 1.8493, Validation Loss: 2.5016\n"
     ]
    },
    {
     "name": "stderr",
     "output_type": "stream",
     "text": [
      "Epoch 41/1000: 100%|██████████| 98/98 [00:00<00:00, 117.37it/s]\n"
     ]
    },
    {
     "name": "stdout",
     "output_type": "stream",
     "text": [
      "Epoch 41/1000, Training Loss: 1.8340, Validation Loss: 2.4934\n"
     ]
    },
    {
     "name": "stderr",
     "output_type": "stream",
     "text": [
      "Epoch 42/1000: 100%|██████████| 98/98 [00:00<00:00, 116.49it/s]\n"
     ]
    },
    {
     "name": "stdout",
     "output_type": "stream",
     "text": [
      "Epoch 42/1000, Training Loss: 1.8530, Validation Loss: 2.4790\n"
     ]
    },
    {
     "name": "stderr",
     "output_type": "stream",
     "text": [
      "Epoch 43/1000: 100%|██████████| 98/98 [00:00<00:00, 115.95it/s]\n"
     ]
    },
    {
     "name": "stdout",
     "output_type": "stream",
     "text": [
      "Epoch 43/1000, Training Loss: 1.8535, Validation Loss: 2.4722\n"
     ]
    },
    {
     "name": "stderr",
     "output_type": "stream",
     "text": [
      "Epoch 44/1000: 100%|██████████| 98/98 [00:00<00:00, 116.14it/s]\n"
     ]
    },
    {
     "name": "stdout",
     "output_type": "stream",
     "text": [
      "Epoch 44/1000, Training Loss: 1.8012, Validation Loss: 2.4610\n"
     ]
    },
    {
     "name": "stderr",
     "output_type": "stream",
     "text": [
      "Epoch 45/1000: 100%|██████████| 98/98 [00:00<00:00, 118.93it/s]\n"
     ]
    },
    {
     "name": "stdout",
     "output_type": "stream",
     "text": [
      "Epoch 45/1000, Training Loss: 1.8094, Validation Loss: 2.4482\n"
     ]
    },
    {
     "name": "stderr",
     "output_type": "stream",
     "text": [
      "Epoch 46/1000: 100%|██████████| 98/98 [00:00<00:00, 118.29it/s]\n"
     ]
    },
    {
     "name": "stdout",
     "output_type": "stream",
     "text": [
      "Epoch 46/1000, Training Loss: 1.8051, Validation Loss: 2.4417\n"
     ]
    },
    {
     "name": "stderr",
     "output_type": "stream",
     "text": [
      "Epoch 47/1000: 100%|██████████| 98/98 [00:00<00:00, 118.23it/s]\n"
     ]
    },
    {
     "name": "stdout",
     "output_type": "stream",
     "text": [
      "Epoch 47/1000, Training Loss: 1.7702, Validation Loss: 2.4340\n"
     ]
    },
    {
     "name": "stderr",
     "output_type": "stream",
     "text": [
      "Epoch 48/1000: 100%|██████████| 98/98 [00:00<00:00, 119.08it/s]\n"
     ]
    },
    {
     "name": "stdout",
     "output_type": "stream",
     "text": [
      "Epoch 48/1000, Training Loss: 1.7554, Validation Loss: 2.4233\n"
     ]
    },
    {
     "name": "stderr",
     "output_type": "stream",
     "text": [
      "Epoch 49/1000: 100%|██████████| 98/98 [00:00<00:00, 119.77it/s]\n"
     ]
    },
    {
     "name": "stdout",
     "output_type": "stream",
     "text": [
      "Epoch 49/1000, Training Loss: 1.7533, Validation Loss: 2.4155\n"
     ]
    },
    {
     "name": "stderr",
     "output_type": "stream",
     "text": [
      "Epoch 50/1000: 100%|██████████| 98/98 [00:00<00:00, 119.55it/s]\n"
     ]
    },
    {
     "name": "stdout",
     "output_type": "stream",
     "text": [
      "Epoch 50/1000, Training Loss: 1.8053, Validation Loss: 2.4099\n"
     ]
    },
    {
     "name": "stderr",
     "output_type": "stream",
     "text": [
      "Epoch 51/1000: 100%|██████████| 98/98 [00:00<00:00, 119.00it/s]\n"
     ]
    },
    {
     "name": "stdout",
     "output_type": "stream",
     "text": [
      "Epoch 51/1000, Training Loss: 1.8362, Validation Loss: 2.4007\n"
     ]
    },
    {
     "name": "stderr",
     "output_type": "stream",
     "text": [
      "Epoch 52/1000: 100%|██████████| 98/98 [00:00<00:00, 116.57it/s]\n"
     ]
    },
    {
     "name": "stdout",
     "output_type": "stream",
     "text": [
      "Epoch 52/1000, Training Loss: 1.8227, Validation Loss: 2.3863\n"
     ]
    },
    {
     "name": "stderr",
     "output_type": "stream",
     "text": [
      "Epoch 53/1000: 100%|██████████| 98/98 [00:00<00:00, 119.98it/s]\n"
     ]
    },
    {
     "name": "stdout",
     "output_type": "stream",
     "text": [
      "Epoch 53/1000, Training Loss: 1.7995, Validation Loss: 2.3781\n"
     ]
    },
    {
     "name": "stderr",
     "output_type": "stream",
     "text": [
      "Epoch 54/1000: 100%|██████████| 98/98 [00:00<00:00, 120.52it/s]\n"
     ]
    },
    {
     "name": "stdout",
     "output_type": "stream",
     "text": [
      "Epoch 54/1000, Training Loss: 1.7057, Validation Loss: 2.3660\n"
     ]
    },
    {
     "name": "stderr",
     "output_type": "stream",
     "text": [
      "Epoch 55/1000: 100%|██████████| 98/98 [00:00<00:00, 120.69it/s]\n"
     ]
    },
    {
     "name": "stdout",
     "output_type": "stream",
     "text": [
      "Epoch 55/1000, Training Loss: 1.7251, Validation Loss: 2.3541\n"
     ]
    },
    {
     "name": "stderr",
     "output_type": "stream",
     "text": [
      "Epoch 56/1000: 100%|██████████| 98/98 [00:00<00:00, 119.60it/s]\n"
     ]
    },
    {
     "name": "stdout",
     "output_type": "stream",
     "text": [
      "Epoch 56/1000, Training Loss: 1.7519, Validation Loss: 2.3445\n"
     ]
    },
    {
     "name": "stderr",
     "output_type": "stream",
     "text": [
      "Epoch 57/1000: 100%|██████████| 98/98 [00:00<00:00, 118.55it/s]\n"
     ]
    },
    {
     "name": "stdout",
     "output_type": "stream",
     "text": [
      "Epoch 57/1000, Training Loss: 1.7761, Validation Loss: 2.3390\n"
     ]
    },
    {
     "name": "stderr",
     "output_type": "stream",
     "text": [
      "Epoch 58/1000: 100%|██████████| 98/98 [00:00<00:00, 120.20it/s]\n"
     ]
    },
    {
     "name": "stdout",
     "output_type": "stream",
     "text": [
      "Epoch 58/1000, Training Loss: 1.7039, Validation Loss: 2.3297\n"
     ]
    },
    {
     "name": "stderr",
     "output_type": "stream",
     "text": [
      "Epoch 59/1000: 100%|██████████| 98/98 [00:00<00:00, 120.56it/s]\n"
     ]
    },
    {
     "name": "stdout",
     "output_type": "stream",
     "text": [
      "Epoch 59/1000, Training Loss: 1.7468, Validation Loss: 2.3199\n"
     ]
    },
    {
     "name": "stderr",
     "output_type": "stream",
     "text": [
      "Epoch 60/1000: 100%|██████████| 98/98 [00:00<00:00, 118.81it/s]\n"
     ]
    },
    {
     "name": "stdout",
     "output_type": "stream",
     "text": [
      "Epoch 60/1000, Training Loss: 1.7498, Validation Loss: 2.3132\n"
     ]
    },
    {
     "name": "stderr",
     "output_type": "stream",
     "text": [
      "Epoch 61/1000: 100%|██████████| 98/98 [00:00<00:00, 119.84it/s]\n"
     ]
    },
    {
     "name": "stdout",
     "output_type": "stream",
     "text": [
      "Epoch 61/1000, Training Loss: 1.7498, Validation Loss: 2.3036\n"
     ]
    },
    {
     "name": "stderr",
     "output_type": "stream",
     "text": [
      "Epoch 62/1000: 100%|██████████| 98/98 [00:00<00:00, 120.43it/s]\n"
     ]
    },
    {
     "name": "stdout",
     "output_type": "stream",
     "text": [
      "Epoch 62/1000, Training Loss: 1.7123, Validation Loss: 2.2974\n"
     ]
    },
    {
     "name": "stderr",
     "output_type": "stream",
     "text": [
      "Epoch 63/1000: 100%|██████████| 98/98 [00:00<00:00, 112.86it/s]\n"
     ]
    },
    {
     "name": "stdout",
     "output_type": "stream",
     "text": [
      "Epoch 63/1000, Training Loss: 1.7169, Validation Loss: 2.2921\n"
     ]
    },
    {
     "name": "stderr",
     "output_type": "stream",
     "text": [
      "Epoch 64/1000: 100%|██████████| 98/98 [00:00<00:00, 117.69it/s]\n"
     ]
    },
    {
     "name": "stdout",
     "output_type": "stream",
     "text": [
      "Epoch 64/1000, Training Loss: 1.6919, Validation Loss: 2.2785\n"
     ]
    },
    {
     "name": "stderr",
     "output_type": "stream",
     "text": [
      "Epoch 65/1000: 100%|██████████| 98/98 [00:00<00:00, 113.88it/s]\n"
     ]
    },
    {
     "name": "stdout",
     "output_type": "stream",
     "text": [
      "Epoch 65/1000, Training Loss: 1.6812, Validation Loss: 2.2720\n"
     ]
    },
    {
     "name": "stderr",
     "output_type": "stream",
     "text": [
      "Epoch 66/1000: 100%|██████████| 98/98 [00:00<00:00, 111.86it/s]\n"
     ]
    },
    {
     "name": "stdout",
     "output_type": "stream",
     "text": [
      "Epoch 66/1000, Training Loss: 1.7192, Validation Loss: 2.2616\n"
     ]
    },
    {
     "name": "stderr",
     "output_type": "stream",
     "text": [
      "Epoch 67/1000: 100%|██████████| 98/98 [00:00<00:00, 120.63it/s]\n"
     ]
    },
    {
     "name": "stdout",
     "output_type": "stream",
     "text": [
      "Epoch 67/1000, Training Loss: 1.7391, Validation Loss: 2.2497\n"
     ]
    },
    {
     "name": "stderr",
     "output_type": "stream",
     "text": [
      "Epoch 68/1000: 100%|██████████| 98/98 [00:00<00:00, 120.42it/s]\n"
     ]
    },
    {
     "name": "stdout",
     "output_type": "stream",
     "text": [
      "Epoch 68/1000, Training Loss: 1.7327, Validation Loss: 2.2443\n"
     ]
    },
    {
     "name": "stderr",
     "output_type": "stream",
     "text": [
      "Epoch 69/1000: 100%|██████████| 98/98 [00:00<00:00, 118.48it/s]\n"
     ]
    },
    {
     "name": "stdout",
     "output_type": "stream",
     "text": [
      "Epoch 69/1000, Training Loss: 1.6540, Validation Loss: 2.2366\n"
     ]
    },
    {
     "name": "stderr",
     "output_type": "stream",
     "text": [
      "Epoch 70/1000: 100%|██████████| 98/98 [00:00<00:00, 115.42it/s]\n"
     ]
    },
    {
     "name": "stdout",
     "output_type": "stream",
     "text": [
      "Epoch 70/1000, Training Loss: 1.6680, Validation Loss: 2.2265\n"
     ]
    },
    {
     "name": "stderr",
     "output_type": "stream",
     "text": [
      "Epoch 71/1000: 100%|██████████| 98/98 [00:00<00:00, 106.49it/s]\n"
     ]
    },
    {
     "name": "stdout",
     "output_type": "stream",
     "text": [
      "Epoch 71/1000, Training Loss: 1.6893, Validation Loss: 2.2202\n"
     ]
    },
    {
     "name": "stderr",
     "output_type": "stream",
     "text": [
      "Epoch 72/1000: 100%|██████████| 98/98 [00:00<00:00, 111.24it/s]\n"
     ]
    },
    {
     "name": "stdout",
     "output_type": "stream",
     "text": [
      "Epoch 72/1000, Training Loss: 1.6714, Validation Loss: 2.2067\n"
     ]
    },
    {
     "name": "stderr",
     "output_type": "stream",
     "text": [
      "Epoch 73/1000: 100%|██████████| 98/98 [00:00<00:00, 110.40it/s]\n"
     ]
    },
    {
     "name": "stdout",
     "output_type": "stream",
     "text": [
      "Epoch 73/1000, Training Loss: 1.6650, Validation Loss: 2.2010\n"
     ]
    },
    {
     "name": "stderr",
     "output_type": "stream",
     "text": [
      "Epoch 74/1000: 100%|██████████| 98/98 [00:00<00:00, 107.50it/s]\n"
     ]
    },
    {
     "name": "stdout",
     "output_type": "stream",
     "text": [
      "Epoch 74/1000, Training Loss: 1.6767, Validation Loss: 2.1961\n"
     ]
    },
    {
     "name": "stderr",
     "output_type": "stream",
     "text": [
      "Epoch 75/1000: 100%|██████████| 98/98 [00:00<00:00, 110.90it/s]\n"
     ]
    },
    {
     "name": "stdout",
     "output_type": "stream",
     "text": [
      "Epoch 75/1000, Training Loss: 1.7066, Validation Loss: 2.1867\n"
     ]
    },
    {
     "name": "stderr",
     "output_type": "stream",
     "text": [
      "Epoch 76/1000: 100%|██████████| 98/98 [00:00<00:00, 110.45it/s]\n"
     ]
    },
    {
     "name": "stdout",
     "output_type": "stream",
     "text": [
      "Epoch 76/1000, Training Loss: 1.6545, Validation Loss: 2.1817\n"
     ]
    },
    {
     "name": "stderr",
     "output_type": "stream",
     "text": [
      "Epoch 77/1000: 100%|██████████| 98/98 [00:00<00:00, 114.81it/s]\n"
     ]
    },
    {
     "name": "stdout",
     "output_type": "stream",
     "text": [
      "Epoch 77/1000, Training Loss: 1.6811, Validation Loss: 2.1743\n"
     ]
    },
    {
     "name": "stderr",
     "output_type": "stream",
     "text": [
      "Epoch 78/1000: 100%|██████████| 98/98 [00:00<00:00, 113.55it/s]\n"
     ]
    },
    {
     "name": "stdout",
     "output_type": "stream",
     "text": [
      "Epoch 78/1000, Training Loss: 1.6687, Validation Loss: 2.1690\n"
     ]
    },
    {
     "name": "stderr",
     "output_type": "stream",
     "text": [
      "Epoch 79/1000: 100%|██████████| 98/98 [00:00<00:00, 109.82it/s]\n"
     ]
    },
    {
     "name": "stdout",
     "output_type": "stream",
     "text": [
      "Epoch 79/1000, Training Loss: 1.6618, Validation Loss: 2.1565\n"
     ]
    },
    {
     "name": "stderr",
     "output_type": "stream",
     "text": [
      "Epoch 80/1000: 100%|██████████| 98/98 [00:00<00:00, 110.68it/s]\n"
     ]
    },
    {
     "name": "stdout",
     "output_type": "stream",
     "text": [
      "Epoch 80/1000, Training Loss: 1.6140, Validation Loss: 2.1473\n"
     ]
    },
    {
     "name": "stderr",
     "output_type": "stream",
     "text": [
      "Epoch 81/1000: 100%|██████████| 98/98 [00:00<00:00, 104.44it/s]\n"
     ]
    },
    {
     "name": "stdout",
     "output_type": "stream",
     "text": [
      "Epoch 81/1000, Training Loss: 1.6676, Validation Loss: 2.1403\n"
     ]
    },
    {
     "name": "stderr",
     "output_type": "stream",
     "text": [
      "Epoch 82/1000: 100%|██████████| 98/98 [00:00<00:00, 100.74it/s]\n"
     ]
    },
    {
     "name": "stdout",
     "output_type": "stream",
     "text": [
      "Epoch 82/1000, Training Loss: 1.6226, Validation Loss: 2.1314\n"
     ]
    },
    {
     "name": "stderr",
     "output_type": "stream",
     "text": [
      "Epoch 83/1000: 100%|██████████| 98/98 [00:00<00:00, 107.74it/s]\n"
     ]
    },
    {
     "name": "stdout",
     "output_type": "stream",
     "text": [
      "Epoch 83/1000, Training Loss: 1.5908, Validation Loss: 2.1211\n"
     ]
    },
    {
     "name": "stderr",
     "output_type": "stream",
     "text": [
      "Epoch 84/1000: 100%|██████████| 98/98 [00:00<00:00, 103.74it/s]\n"
     ]
    },
    {
     "name": "stdout",
     "output_type": "stream",
     "text": [
      "Epoch 84/1000, Training Loss: 1.6942, Validation Loss: 2.1112\n"
     ]
    },
    {
     "name": "stderr",
     "output_type": "stream",
     "text": [
      "Epoch 85/1000: 100%|██████████| 98/98 [00:00<00:00, 102.58it/s]\n"
     ]
    },
    {
     "name": "stdout",
     "output_type": "stream",
     "text": [
      "Epoch 85/1000, Training Loss: 1.6441, Validation Loss: 2.1041\n"
     ]
    },
    {
     "name": "stderr",
     "output_type": "stream",
     "text": [
      "Epoch 86/1000: 100%|██████████| 98/98 [00:00<00:00, 104.86it/s]\n"
     ]
    },
    {
     "name": "stdout",
     "output_type": "stream",
     "text": [
      "Epoch 86/1000, Training Loss: 1.6206, Validation Loss: 2.0960\n"
     ]
    },
    {
     "name": "stderr",
     "output_type": "stream",
     "text": [
      "Epoch 87/1000: 100%|██████████| 98/98 [00:00<00:00, 108.52it/s]\n"
     ]
    },
    {
     "name": "stdout",
     "output_type": "stream",
     "text": [
      "Epoch 87/1000, Training Loss: 1.6514, Validation Loss: 2.0930\n"
     ]
    },
    {
     "name": "stderr",
     "output_type": "stream",
     "text": [
      "Epoch 88/1000: 100%|██████████| 98/98 [00:00<00:00, 104.21it/s]\n"
     ]
    },
    {
     "name": "stdout",
     "output_type": "stream",
     "text": [
      "Epoch 88/1000, Training Loss: 1.5856, Validation Loss: 2.0843\n"
     ]
    },
    {
     "name": "stderr",
     "output_type": "stream",
     "text": [
      "Epoch 89/1000: 100%|██████████| 98/98 [00:00<00:00, 109.42it/s]\n"
     ]
    },
    {
     "name": "stdout",
     "output_type": "stream",
     "text": [
      "Epoch 89/1000, Training Loss: 1.6023, Validation Loss: 2.0755\n"
     ]
    },
    {
     "name": "stderr",
     "output_type": "stream",
     "text": [
      "Epoch 90/1000: 100%|██████████| 98/98 [00:00<00:00, 105.33it/s]\n"
     ]
    },
    {
     "name": "stdout",
     "output_type": "stream",
     "text": [
      "Epoch 90/1000, Training Loss: 1.6022, Validation Loss: 2.0675\n"
     ]
    },
    {
     "name": "stderr",
     "output_type": "stream",
     "text": [
      "Epoch 91/1000: 100%|██████████| 98/98 [00:00<00:00, 104.65it/s]\n"
     ]
    },
    {
     "name": "stdout",
     "output_type": "stream",
     "text": [
      "Epoch 91/1000, Training Loss: 1.5894, Validation Loss: 2.0548\n"
     ]
    },
    {
     "name": "stderr",
     "output_type": "stream",
     "text": [
      "Epoch 92/1000: 100%|██████████| 98/98 [00:00<00:00, 107.59it/s]\n"
     ]
    },
    {
     "name": "stdout",
     "output_type": "stream",
     "text": [
      "Epoch 92/1000, Training Loss: 1.6123, Validation Loss: 2.0411\n"
     ]
    },
    {
     "name": "stderr",
     "output_type": "stream",
     "text": [
      "Epoch 93/1000: 100%|██████████| 98/98 [00:00<00:00, 104.61it/s]\n"
     ]
    },
    {
     "name": "stdout",
     "output_type": "stream",
     "text": [
      "Epoch 93/1000, Training Loss: 1.5873, Validation Loss: 2.0361\n"
     ]
    },
    {
     "name": "stderr",
     "output_type": "stream",
     "text": [
      "Epoch 94/1000: 100%|██████████| 98/98 [00:00<00:00, 102.18it/s]\n"
     ]
    },
    {
     "name": "stdout",
     "output_type": "stream",
     "text": [
      "Epoch 94/1000, Training Loss: 1.5680, Validation Loss: 2.0259\n"
     ]
    },
    {
     "name": "stderr",
     "output_type": "stream",
     "text": [
      "Epoch 95/1000: 100%|██████████| 98/98 [00:00<00:00, 101.42it/s]\n"
     ]
    },
    {
     "name": "stdout",
     "output_type": "stream",
     "text": [
      "Epoch 95/1000, Training Loss: 1.6127, Validation Loss: 2.0174\n"
     ]
    },
    {
     "name": "stderr",
     "output_type": "stream",
     "text": [
      "Epoch 96/1000: 100%|██████████| 98/98 [00:00<00:00, 99.29it/s] \n"
     ]
    },
    {
     "name": "stdout",
     "output_type": "stream",
     "text": [
      "Epoch 96/1000, Training Loss: 1.6024, Validation Loss: 2.0069\n"
     ]
    },
    {
     "name": "stderr",
     "output_type": "stream",
     "text": [
      "Epoch 97/1000: 100%|██████████| 98/98 [00:00<00:00, 104.78it/s]\n"
     ]
    },
    {
     "name": "stdout",
     "output_type": "stream",
     "text": [
      "Epoch 97/1000, Training Loss: 1.6083, Validation Loss: 1.9985\n"
     ]
    },
    {
     "name": "stderr",
     "output_type": "stream",
     "text": [
      "Epoch 98/1000: 100%|██████████| 98/98 [00:00<00:00, 103.03it/s]\n"
     ]
    },
    {
     "name": "stdout",
     "output_type": "stream",
     "text": [
      "Epoch 98/1000, Training Loss: 1.6475, Validation Loss: 1.9886\n"
     ]
    },
    {
     "name": "stderr",
     "output_type": "stream",
     "text": [
      "Epoch 99/1000: 100%|██████████| 98/98 [00:00<00:00, 103.35it/s]\n"
     ]
    },
    {
     "name": "stdout",
     "output_type": "stream",
     "text": [
      "Epoch 99/1000, Training Loss: 1.6089, Validation Loss: 1.9745\n"
     ]
    },
    {
     "name": "stderr",
     "output_type": "stream",
     "text": [
      "Epoch 100/1000: 100%|██████████| 98/98 [00:00<00:00, 109.09it/s]\n"
     ]
    },
    {
     "name": "stdout",
     "output_type": "stream",
     "text": [
      "Epoch 100/1000, Training Loss: 1.5565, Validation Loss: 1.9633\n"
     ]
    },
    {
     "name": "stderr",
     "output_type": "stream",
     "text": [
      "Epoch 101/1000: 100%|██████████| 98/98 [00:00<00:00, 110.51it/s]\n"
     ]
    },
    {
     "name": "stdout",
     "output_type": "stream",
     "text": [
      "Epoch 101/1000, Training Loss: 1.5859, Validation Loss: 1.9606\n"
     ]
    },
    {
     "name": "stderr",
     "output_type": "stream",
     "text": [
      "Epoch 102/1000: 100%|██████████| 98/98 [00:00<00:00, 108.04it/s]\n"
     ]
    },
    {
     "name": "stdout",
     "output_type": "stream",
     "text": [
      "Epoch 102/1000, Training Loss: 1.5597, Validation Loss: 1.9511\n"
     ]
    },
    {
     "name": "stderr",
     "output_type": "stream",
     "text": [
      "Epoch 103/1000: 100%|██████████| 98/98 [00:00<00:00, 113.68it/s]\n"
     ]
    },
    {
     "name": "stdout",
     "output_type": "stream",
     "text": [
      "Epoch 103/1000, Training Loss: 1.5249, Validation Loss: 1.9439\n"
     ]
    },
    {
     "name": "stderr",
     "output_type": "stream",
     "text": [
      "Epoch 104/1000: 100%|██████████| 98/98 [00:00<00:00, 115.44it/s]\n"
     ]
    },
    {
     "name": "stdout",
     "output_type": "stream",
     "text": [
      "Epoch 104/1000, Training Loss: 1.5647, Validation Loss: 1.9360\n"
     ]
    },
    {
     "name": "stderr",
     "output_type": "stream",
     "text": [
      "Epoch 105/1000: 100%|██████████| 98/98 [00:00<00:00, 114.00it/s]\n"
     ]
    },
    {
     "name": "stdout",
     "output_type": "stream",
     "text": [
      "Epoch 105/1000, Training Loss: 1.5577, Validation Loss: 1.9316\n"
     ]
    },
    {
     "name": "stderr",
     "output_type": "stream",
     "text": [
      "Epoch 106/1000: 100%|██████████| 98/98 [00:00<00:00, 103.90it/s]\n"
     ]
    },
    {
     "name": "stdout",
     "output_type": "stream",
     "text": [
      "Epoch 106/1000, Training Loss: 1.5553, Validation Loss: 1.9190\n"
     ]
    },
    {
     "name": "stderr",
     "output_type": "stream",
     "text": [
      "Epoch 107/1000: 100%|██████████| 98/98 [00:00<00:00, 106.83it/s]\n"
     ]
    },
    {
     "name": "stdout",
     "output_type": "stream",
     "text": [
      "Epoch 107/1000, Training Loss: 1.5632, Validation Loss: 1.9073\n"
     ]
    },
    {
     "name": "stderr",
     "output_type": "stream",
     "text": [
      "Epoch 108/1000: 100%|██████████| 98/98 [00:00<00:00, 109.18it/s]\n"
     ]
    },
    {
     "name": "stdout",
     "output_type": "stream",
     "text": [
      "Epoch 108/1000, Training Loss: 1.5665, Validation Loss: 1.8985\n"
     ]
    },
    {
     "name": "stderr",
     "output_type": "stream",
     "text": [
      "Epoch 109/1000: 100%|██████████| 98/98 [00:00<00:00, 112.12it/s]\n"
     ]
    },
    {
     "name": "stdout",
     "output_type": "stream",
     "text": [
      "Epoch 109/1000, Training Loss: 1.5714, Validation Loss: 1.8862\n"
     ]
    },
    {
     "name": "stderr",
     "output_type": "stream",
     "text": [
      "Epoch 110/1000: 100%|██████████| 98/98 [00:00<00:00, 105.95it/s]\n"
     ]
    },
    {
     "name": "stdout",
     "output_type": "stream",
     "text": [
      "Epoch 110/1000, Training Loss: 1.6131, Validation Loss: 1.8769\n"
     ]
    },
    {
     "name": "stderr",
     "output_type": "stream",
     "text": [
      "Epoch 111/1000: 100%|██████████| 98/98 [00:00<00:00, 106.99it/s]\n"
     ]
    },
    {
     "name": "stdout",
     "output_type": "stream",
     "text": [
      "Epoch 111/1000, Training Loss: 1.5587, Validation Loss: 1.8671\n"
     ]
    },
    {
     "name": "stderr",
     "output_type": "stream",
     "text": [
      "Epoch 112/1000: 100%|██████████| 98/98 [00:00<00:00, 110.62it/s]\n"
     ]
    },
    {
     "name": "stdout",
     "output_type": "stream",
     "text": [
      "Epoch 112/1000, Training Loss: 1.5735, Validation Loss: 1.8595\n"
     ]
    },
    {
     "name": "stderr",
     "output_type": "stream",
     "text": [
      "Epoch 113/1000: 100%|██████████| 98/98 [00:00<00:00, 114.04it/s]\n"
     ]
    },
    {
     "name": "stdout",
     "output_type": "stream",
     "text": [
      "Epoch 113/1000, Training Loss: 1.5448, Validation Loss: 1.8541\n"
     ]
    },
    {
     "name": "stderr",
     "output_type": "stream",
     "text": [
      "Epoch 114/1000: 100%|██████████| 98/98 [00:00<00:00, 107.89it/s]\n"
     ]
    },
    {
     "name": "stdout",
     "output_type": "stream",
     "text": [
      "Epoch 114/1000, Training Loss: 1.5426, Validation Loss: 1.8426\n"
     ]
    },
    {
     "name": "stderr",
     "output_type": "stream",
     "text": [
      "Epoch 115/1000: 100%|██████████| 98/98 [00:00<00:00, 109.73it/s]\n"
     ]
    },
    {
     "name": "stdout",
     "output_type": "stream",
     "text": [
      "Epoch 115/1000, Training Loss: 1.5531, Validation Loss: 1.8338\n"
     ]
    },
    {
     "name": "stderr",
     "output_type": "stream",
     "text": [
      "Epoch 116/1000: 100%|██████████| 98/98 [00:00<00:00, 109.14it/s]\n"
     ]
    },
    {
     "name": "stdout",
     "output_type": "stream",
     "text": [
      "Epoch 116/1000, Training Loss: 1.5546, Validation Loss: 1.8234\n"
     ]
    },
    {
     "name": "stderr",
     "output_type": "stream",
     "text": [
      "Epoch 117/1000: 100%|██████████| 98/98 [00:00<00:00, 112.12it/s]\n"
     ]
    },
    {
     "name": "stdout",
     "output_type": "stream",
     "text": [
      "Epoch 117/1000, Training Loss: 1.5545, Validation Loss: 1.8158\n"
     ]
    },
    {
     "name": "stderr",
     "output_type": "stream",
     "text": [
      "Epoch 118/1000: 100%|██████████| 98/98 [00:00<00:00, 114.51it/s]\n"
     ]
    },
    {
     "name": "stdout",
     "output_type": "stream",
     "text": [
      "Epoch 118/1000, Training Loss: 1.4943, Validation Loss: 1.8060\n"
     ]
    },
    {
     "name": "stderr",
     "output_type": "stream",
     "text": [
      "Epoch 119/1000: 100%|██████████| 98/98 [00:00<00:00, 111.83it/s]\n"
     ]
    },
    {
     "name": "stdout",
     "output_type": "stream",
     "text": [
      "Epoch 119/1000, Training Loss: 1.5529, Validation Loss: 1.7961\n"
     ]
    },
    {
     "name": "stderr",
     "output_type": "stream",
     "text": [
      "Epoch 120/1000: 100%|██████████| 98/98 [00:00<00:00, 107.98it/s]\n"
     ]
    },
    {
     "name": "stdout",
     "output_type": "stream",
     "text": [
      "Epoch 120/1000, Training Loss: 1.5449, Validation Loss: 1.7868\n"
     ]
    },
    {
     "name": "stderr",
     "output_type": "stream",
     "text": [
      "Epoch 121/1000: 100%|██████████| 98/98 [00:00<00:00, 108.81it/s]\n"
     ]
    },
    {
     "name": "stdout",
     "output_type": "stream",
     "text": [
      "Epoch 121/1000, Training Loss: 1.5161, Validation Loss: 1.7785\n"
     ]
    },
    {
     "name": "stderr",
     "output_type": "stream",
     "text": [
      "Epoch 122/1000: 100%|██████████| 98/98 [00:00<00:00, 112.17it/s]\n"
     ]
    },
    {
     "name": "stdout",
     "output_type": "stream",
     "text": [
      "Epoch 122/1000, Training Loss: 1.5129, Validation Loss: 1.7677\n"
     ]
    },
    {
     "name": "stderr",
     "output_type": "stream",
     "text": [
      "Epoch 123/1000: 100%|██████████| 98/98 [00:00<00:00, 107.22it/s]\n"
     ]
    },
    {
     "name": "stdout",
     "output_type": "stream",
     "text": [
      "Epoch 123/1000, Training Loss: 1.5254, Validation Loss: 1.7587\n"
     ]
    },
    {
     "name": "stderr",
     "output_type": "stream",
     "text": [
      "Epoch 124/1000: 100%|██████████| 98/98 [00:00<00:00, 107.61it/s]\n"
     ]
    },
    {
     "name": "stdout",
     "output_type": "stream",
     "text": [
      "Epoch 124/1000, Training Loss: 1.5175, Validation Loss: 1.7509\n"
     ]
    },
    {
     "name": "stderr",
     "output_type": "stream",
     "text": [
      "Epoch 125/1000: 100%|██████████| 98/98 [00:00<00:00, 108.86it/s]\n"
     ]
    },
    {
     "name": "stdout",
     "output_type": "stream",
     "text": [
      "Epoch 125/1000, Training Loss: 1.5477, Validation Loss: 1.7411\n"
     ]
    },
    {
     "name": "stderr",
     "output_type": "stream",
     "text": [
      "Epoch 126/1000: 100%|██████████| 98/98 [00:00<00:00, 107.56it/s]\n"
     ]
    },
    {
     "name": "stdout",
     "output_type": "stream",
     "text": [
      "Epoch 126/1000, Training Loss: 1.5168, Validation Loss: 1.7378\n"
     ]
    },
    {
     "name": "stderr",
     "output_type": "stream",
     "text": [
      "Epoch 127/1000: 100%|██████████| 98/98 [00:00<00:00, 114.15it/s]\n"
     ]
    },
    {
     "name": "stdout",
     "output_type": "stream",
     "text": [
      "Epoch 127/1000, Training Loss: 1.5409, Validation Loss: 1.7312\n"
     ]
    },
    {
     "name": "stderr",
     "output_type": "stream",
     "text": [
      "Epoch 128/1000: 100%|██████████| 98/98 [00:00<00:00, 111.99it/s]\n"
     ]
    },
    {
     "name": "stdout",
     "output_type": "stream",
     "text": [
      "Epoch 128/1000, Training Loss: 1.5231, Validation Loss: 1.7210\n"
     ]
    },
    {
     "name": "stderr",
     "output_type": "stream",
     "text": [
      "Epoch 129/1000: 100%|██████████| 98/98 [00:00<00:00, 112.88it/s]\n"
     ]
    },
    {
     "name": "stdout",
     "output_type": "stream",
     "text": [
      "Epoch 129/1000, Training Loss: 1.5068, Validation Loss: 1.7166\n"
     ]
    },
    {
     "name": "stderr",
     "output_type": "stream",
     "text": [
      "Epoch 130/1000: 100%|██████████| 98/98 [00:00<00:00, 114.53it/s]\n"
     ]
    },
    {
     "name": "stdout",
     "output_type": "stream",
     "text": [
      "Epoch 130/1000, Training Loss: 1.4814, Validation Loss: 1.7060\n"
     ]
    },
    {
     "name": "stderr",
     "output_type": "stream",
     "text": [
      "Epoch 131/1000: 100%|██████████| 98/98 [00:00<00:00, 114.87it/s]\n"
     ]
    },
    {
     "name": "stdout",
     "output_type": "stream",
     "text": [
      "Epoch 131/1000, Training Loss: 1.5276, Validation Loss: 1.6977\n"
     ]
    },
    {
     "name": "stderr",
     "output_type": "stream",
     "text": [
      "Epoch 132/1000: 100%|██████████| 98/98 [00:00<00:00, 108.56it/s]\n"
     ]
    },
    {
     "name": "stdout",
     "output_type": "stream",
     "text": [
      "Epoch 132/1000, Training Loss: 1.5244, Validation Loss: 1.6879\n"
     ]
    },
    {
     "name": "stderr",
     "output_type": "stream",
     "text": [
      "Epoch 133/1000: 100%|██████████| 98/98 [00:00<00:00, 110.86it/s]\n"
     ]
    },
    {
     "name": "stdout",
     "output_type": "stream",
     "text": [
      "Epoch 133/1000, Training Loss: 1.5204, Validation Loss: 1.6778\n"
     ]
    },
    {
     "name": "stderr",
     "output_type": "stream",
     "text": [
      "Epoch 134/1000: 100%|██████████| 98/98 [00:00<00:00, 117.82it/s]\n"
     ]
    },
    {
     "name": "stdout",
     "output_type": "stream",
     "text": [
      "Epoch 134/1000, Training Loss: 1.5083, Validation Loss: 1.6721\n"
     ]
    },
    {
     "name": "stderr",
     "output_type": "stream",
     "text": [
      "Epoch 135/1000: 100%|██████████| 98/98 [00:00<00:00, 113.10it/s]\n"
     ]
    },
    {
     "name": "stdout",
     "output_type": "stream",
     "text": [
      "Epoch 135/1000, Training Loss: 1.4341, Validation Loss: 1.6631\n"
     ]
    },
    {
     "name": "stderr",
     "output_type": "stream",
     "text": [
      "Epoch 136/1000: 100%|██████████| 98/98 [00:00<00:00, 113.53it/s]\n"
     ]
    },
    {
     "name": "stdout",
     "output_type": "stream",
     "text": [
      "Epoch 136/1000, Training Loss: 1.4876, Validation Loss: 1.6549\n"
     ]
    },
    {
     "name": "stderr",
     "output_type": "stream",
     "text": [
      "Epoch 137/1000: 100%|██████████| 98/98 [00:00<00:00, 113.46it/s]\n"
     ]
    },
    {
     "name": "stdout",
     "output_type": "stream",
     "text": [
      "Epoch 137/1000, Training Loss: 1.4781, Validation Loss: 1.6491\n"
     ]
    },
    {
     "name": "stderr",
     "output_type": "stream",
     "text": [
      "Epoch 138/1000: 100%|██████████| 98/98 [00:00<00:00, 115.04it/s]\n"
     ]
    },
    {
     "name": "stdout",
     "output_type": "stream",
     "text": [
      "Epoch 138/1000, Training Loss: 1.4777, Validation Loss: 1.6395\n"
     ]
    },
    {
     "name": "stderr",
     "output_type": "stream",
     "text": [
      "Epoch 139/1000: 100%|██████████| 98/98 [00:00<00:00, 114.71it/s]\n"
     ]
    },
    {
     "name": "stdout",
     "output_type": "stream",
     "text": [
      "Epoch 139/1000, Training Loss: 1.4965, Validation Loss: 1.6336\n"
     ]
    },
    {
     "name": "stderr",
     "output_type": "stream",
     "text": [
      "Epoch 140/1000: 100%|██████████| 98/98 [00:00<00:00, 113.30it/s]\n"
     ]
    },
    {
     "name": "stdout",
     "output_type": "stream",
     "text": [
      "Epoch 140/1000, Training Loss: 1.5117, Validation Loss: 1.6213\n"
     ]
    },
    {
     "name": "stderr",
     "output_type": "stream",
     "text": [
      "Epoch 141/1000: 100%|██████████| 98/98 [00:00<00:00, 115.92it/s]\n"
     ]
    },
    {
     "name": "stdout",
     "output_type": "stream",
     "text": [
      "Epoch 141/1000, Training Loss: 1.4881, Validation Loss: 1.6108\n"
     ]
    },
    {
     "name": "stderr",
     "output_type": "stream",
     "text": [
      "Epoch 142/1000: 100%|██████████| 98/98 [00:00<00:00, 113.74it/s]\n"
     ]
    },
    {
     "name": "stdout",
     "output_type": "stream",
     "text": [
      "Epoch 142/1000, Training Loss: 1.4857, Validation Loss: 1.6045\n"
     ]
    },
    {
     "name": "stderr",
     "output_type": "stream",
     "text": [
      "Epoch 143/1000: 100%|██████████| 98/98 [00:00<00:00, 115.76it/s]\n"
     ]
    },
    {
     "name": "stdout",
     "output_type": "stream",
     "text": [
      "Epoch 143/1000, Training Loss: 1.4731, Validation Loss: 1.5929\n"
     ]
    },
    {
     "name": "stderr",
     "output_type": "stream",
     "text": [
      "Epoch 144/1000: 100%|██████████| 98/98 [00:00<00:00, 114.90it/s]\n"
     ]
    },
    {
     "name": "stdout",
     "output_type": "stream",
     "text": [
      "Epoch 144/1000, Training Loss: 1.4860, Validation Loss: 1.5864\n"
     ]
    },
    {
     "name": "stderr",
     "output_type": "stream",
     "text": [
      "Epoch 145/1000: 100%|██████████| 98/98 [00:00<00:00, 108.97it/s]\n"
     ]
    },
    {
     "name": "stdout",
     "output_type": "stream",
     "text": [
      "Epoch 145/1000, Training Loss: 1.4910, Validation Loss: 1.5791\n"
     ]
    },
    {
     "name": "stderr",
     "output_type": "stream",
     "text": [
      "Epoch 146/1000: 100%|██████████| 98/98 [00:00<00:00, 110.53it/s]\n"
     ]
    },
    {
     "name": "stdout",
     "output_type": "stream",
     "text": [
      "Epoch 146/1000, Training Loss: 1.5086, Validation Loss: 1.5738\n"
     ]
    },
    {
     "name": "stderr",
     "output_type": "stream",
     "text": [
      "Epoch 147/1000: 100%|██████████| 98/98 [00:00<00:00, 111.58it/s]\n"
     ]
    },
    {
     "name": "stdout",
     "output_type": "stream",
     "text": [
      "Epoch 147/1000, Training Loss: 1.4558, Validation Loss: 1.5654\n"
     ]
    },
    {
     "name": "stderr",
     "output_type": "stream",
     "text": [
      "Epoch 148/1000: 100%|██████████| 98/98 [00:00<00:00, 113.36it/s]\n"
     ]
    },
    {
     "name": "stdout",
     "output_type": "stream",
     "text": [
      "Epoch 148/1000, Training Loss: 1.4859, Validation Loss: 1.5582\n"
     ]
    },
    {
     "name": "stderr",
     "output_type": "stream",
     "text": [
      "Epoch 149/1000: 100%|██████████| 98/98 [00:00<00:00, 112.20it/s]\n"
     ]
    },
    {
     "name": "stdout",
     "output_type": "stream",
     "text": [
      "Epoch 149/1000, Training Loss: 1.4525, Validation Loss: 1.5512\n"
     ]
    },
    {
     "name": "stderr",
     "output_type": "stream",
     "text": [
      "Epoch 150/1000: 100%|██████████| 98/98 [00:00<00:00, 111.38it/s]\n"
     ]
    },
    {
     "name": "stdout",
     "output_type": "stream",
     "text": [
      "Epoch 150/1000, Training Loss: 1.5056, Validation Loss: 1.5439\n"
     ]
    },
    {
     "name": "stderr",
     "output_type": "stream",
     "text": [
      "Epoch 151/1000: 100%|██████████| 98/98 [00:00<00:00, 113.64it/s]\n"
     ]
    },
    {
     "name": "stdout",
     "output_type": "stream",
     "text": [
      "Epoch 151/1000, Training Loss: 1.4861, Validation Loss: 1.5314\n"
     ]
    },
    {
     "name": "stderr",
     "output_type": "stream",
     "text": [
      "Epoch 152/1000: 100%|██████████| 98/98 [00:00<00:00, 116.44it/s]\n"
     ]
    },
    {
     "name": "stdout",
     "output_type": "stream",
     "text": [
      "Epoch 152/1000, Training Loss: 1.4803, Validation Loss: 1.5246\n"
     ]
    },
    {
     "name": "stderr",
     "output_type": "stream",
     "text": [
      "Epoch 153/1000: 100%|██████████| 98/98 [00:00<00:00, 116.51it/s]\n"
     ]
    },
    {
     "name": "stdout",
     "output_type": "stream",
     "text": [
      "Epoch 153/1000, Training Loss: 1.5049, Validation Loss: 1.5149\n"
     ]
    },
    {
     "name": "stderr",
     "output_type": "stream",
     "text": [
      "Epoch 154/1000: 100%|██████████| 98/98 [00:00<00:00, 114.62it/s]\n"
     ]
    },
    {
     "name": "stdout",
     "output_type": "stream",
     "text": [
      "Epoch 154/1000, Training Loss: 1.4726, Validation Loss: 1.5095\n"
     ]
    },
    {
     "name": "stderr",
     "output_type": "stream",
     "text": [
      "Epoch 155/1000: 100%|██████████| 98/98 [00:00<00:00, 115.48it/s]\n"
     ]
    },
    {
     "name": "stdout",
     "output_type": "stream",
     "text": [
      "Epoch 155/1000, Training Loss: 1.4629, Validation Loss: 1.5063\n"
     ]
    },
    {
     "name": "stderr",
     "output_type": "stream",
     "text": [
      "Epoch 156/1000: 100%|██████████| 98/98 [00:00<00:00, 113.88it/s]\n"
     ]
    },
    {
     "name": "stdout",
     "output_type": "stream",
     "text": [
      "Epoch 156/1000, Training Loss: 1.4580, Validation Loss: 1.4950\n"
     ]
    },
    {
     "name": "stderr",
     "output_type": "stream",
     "text": [
      "Epoch 157/1000: 100%|██████████| 98/98 [00:00<00:00, 113.00it/s]\n"
     ]
    },
    {
     "name": "stdout",
     "output_type": "stream",
     "text": [
      "Epoch 157/1000, Training Loss: 1.4856, Validation Loss: 1.4863\n"
     ]
    },
    {
     "name": "stderr",
     "output_type": "stream",
     "text": [
      "Epoch 158/1000: 100%|██████████| 98/98 [00:00<00:00, 115.06it/s]\n"
     ]
    },
    {
     "name": "stdout",
     "output_type": "stream",
     "text": [
      "Epoch 158/1000, Training Loss: 1.4403, Validation Loss: 1.4742\n"
     ]
    },
    {
     "name": "stderr",
     "output_type": "stream",
     "text": [
      "Epoch 159/1000: 100%|██████████| 98/98 [00:00<00:00, 116.35it/s]\n"
     ]
    },
    {
     "name": "stdout",
     "output_type": "stream",
     "text": [
      "Epoch 159/1000, Training Loss: 1.4664, Validation Loss: 1.4630\n"
     ]
    },
    {
     "name": "stderr",
     "output_type": "stream",
     "text": [
      "Epoch 160/1000: 100%|██████████| 98/98 [00:00<00:00, 116.84it/s]\n"
     ]
    },
    {
     "name": "stdout",
     "output_type": "stream",
     "text": [
      "Epoch 160/1000, Training Loss: 1.4678, Validation Loss: 1.4542\n"
     ]
    },
    {
     "name": "stderr",
     "output_type": "stream",
     "text": [
      "Epoch 161/1000: 100%|██████████| 98/98 [00:00<00:00, 113.76it/s]\n"
     ]
    },
    {
     "name": "stdout",
     "output_type": "stream",
     "text": [
      "Epoch 161/1000, Training Loss: 1.4217, Validation Loss: 1.4460\n"
     ]
    },
    {
     "name": "stderr",
     "output_type": "stream",
     "text": [
      "Epoch 162/1000: 100%|██████████| 98/98 [00:00<00:00, 112.52it/s]\n"
     ]
    },
    {
     "name": "stdout",
     "output_type": "stream",
     "text": [
      "Epoch 162/1000, Training Loss: 1.4525, Validation Loss: 1.4322\n"
     ]
    },
    {
     "name": "stderr",
     "output_type": "stream",
     "text": [
      "Epoch 163/1000: 100%|██████████| 98/98 [00:00<00:00, 115.46it/s]\n"
     ]
    },
    {
     "name": "stdout",
     "output_type": "stream",
     "text": [
      "Epoch 163/1000, Training Loss: 1.4697, Validation Loss: 1.4238\n"
     ]
    },
    {
     "name": "stderr",
     "output_type": "stream",
     "text": [
      "Epoch 164/1000: 100%|██████████| 98/98 [00:00<00:00, 113.59it/s]\n"
     ]
    },
    {
     "name": "stdout",
     "output_type": "stream",
     "text": [
      "Epoch 164/1000, Training Loss: 1.4634, Validation Loss: 1.4177\n"
     ]
    },
    {
     "name": "stderr",
     "output_type": "stream",
     "text": [
      "Epoch 165/1000: 100%|██████████| 98/98 [00:00<00:00, 115.39it/s]\n"
     ]
    },
    {
     "name": "stdout",
     "output_type": "stream",
     "text": [
      "Epoch 165/1000, Training Loss: 1.4832, Validation Loss: 1.4091\n"
     ]
    },
    {
     "name": "stderr",
     "output_type": "stream",
     "text": [
      "Epoch 166/1000: 100%|██████████| 98/98 [00:00<00:00, 115.07it/s]\n"
     ]
    },
    {
     "name": "stdout",
     "output_type": "stream",
     "text": [
      "Epoch 166/1000, Training Loss: 1.4633, Validation Loss: 1.4006\n"
     ]
    },
    {
     "name": "stderr",
     "output_type": "stream",
     "text": [
      "Epoch 167/1000: 100%|██████████| 98/98 [00:00<00:00, 114.27it/s]\n"
     ]
    },
    {
     "name": "stdout",
     "output_type": "stream",
     "text": [
      "Epoch 167/1000, Training Loss: 1.4641, Validation Loss: 1.3954\n"
     ]
    },
    {
     "name": "stderr",
     "output_type": "stream",
     "text": [
      "Epoch 168/1000: 100%|██████████| 98/98 [00:00<00:00, 116.07it/s]\n"
     ]
    },
    {
     "name": "stdout",
     "output_type": "stream",
     "text": [
      "Epoch 168/1000, Training Loss: 1.4513, Validation Loss: 1.3826\n"
     ]
    },
    {
     "name": "stderr",
     "output_type": "stream",
     "text": [
      "Epoch 169/1000: 100%|██████████| 98/98 [00:00<00:00, 116.30it/s]\n"
     ]
    },
    {
     "name": "stdout",
     "output_type": "stream",
     "text": [
      "Epoch 169/1000, Training Loss: 1.4833, Validation Loss: 1.3760\n"
     ]
    },
    {
     "name": "stderr",
     "output_type": "stream",
     "text": [
      "Epoch 170/1000: 100%|██████████| 98/98 [00:00<00:00, 116.18it/s]\n"
     ]
    },
    {
     "name": "stdout",
     "output_type": "stream",
     "text": [
      "Epoch 170/1000, Training Loss: 1.4014, Validation Loss: 1.3718\n"
     ]
    },
    {
     "name": "stderr",
     "output_type": "stream",
     "text": [
      "Epoch 171/1000: 100%|██████████| 98/98 [00:00<00:00, 107.70it/s]\n"
     ]
    },
    {
     "name": "stdout",
     "output_type": "stream",
     "text": [
      "Epoch 171/1000, Training Loss: 1.4642, Validation Loss: 1.3662\n"
     ]
    },
    {
     "name": "stderr",
     "output_type": "stream",
     "text": [
      "Epoch 172/1000: 100%|██████████| 98/98 [00:00<00:00, 107.65it/s]\n"
     ]
    },
    {
     "name": "stdout",
     "output_type": "stream",
     "text": [
      "Epoch 172/1000, Training Loss: 1.4479, Validation Loss: 1.3591\n"
     ]
    },
    {
     "name": "stderr",
     "output_type": "stream",
     "text": [
      "Epoch 173/1000: 100%|██████████| 98/98 [00:00<00:00, 106.75it/s]\n"
     ]
    },
    {
     "name": "stdout",
     "output_type": "stream",
     "text": [
      "Epoch 173/1000, Training Loss: 1.4438, Validation Loss: 1.3461\n"
     ]
    },
    {
     "name": "stderr",
     "output_type": "stream",
     "text": [
      "Epoch 174/1000: 100%|██████████| 98/98 [00:00<00:00, 106.04it/s]\n"
     ]
    },
    {
     "name": "stdout",
     "output_type": "stream",
     "text": [
      "Epoch 174/1000, Training Loss: 1.4402, Validation Loss: 1.3434\n"
     ]
    },
    {
     "name": "stderr",
     "output_type": "stream",
     "text": [
      "Epoch 175/1000: 100%|██████████| 98/98 [00:00<00:00, 112.18it/s]\n"
     ]
    },
    {
     "name": "stdout",
     "output_type": "stream",
     "text": [
      "Epoch 175/1000, Training Loss: 1.4839, Validation Loss: 1.3362\n"
     ]
    },
    {
     "name": "stderr",
     "output_type": "stream",
     "text": [
      "Epoch 176/1000: 100%|██████████| 98/98 [00:00<00:00, 113.80it/s]\n"
     ]
    },
    {
     "name": "stdout",
     "output_type": "stream",
     "text": [
      "Epoch 176/1000, Training Loss: 1.4436, Validation Loss: 1.3274\n"
     ]
    },
    {
     "name": "stderr",
     "output_type": "stream",
     "text": [
      "Epoch 177/1000: 100%|██████████| 98/98 [00:00<00:00, 111.76it/s]\n"
     ]
    },
    {
     "name": "stdout",
     "output_type": "stream",
     "text": [
      "Epoch 177/1000, Training Loss: 1.4048, Validation Loss: 1.3218\n"
     ]
    },
    {
     "name": "stderr",
     "output_type": "stream",
     "text": [
      "Epoch 178/1000: 100%|██████████| 98/98 [00:00<00:00, 114.62it/s]\n"
     ]
    },
    {
     "name": "stdout",
     "output_type": "stream",
     "text": [
      "Epoch 178/1000, Training Loss: 1.4480, Validation Loss: 1.3166\n"
     ]
    },
    {
     "name": "stderr",
     "output_type": "stream",
     "text": [
      "Epoch 179/1000: 100%|██████████| 98/98 [00:00<00:00, 115.93it/s]\n"
     ]
    },
    {
     "name": "stdout",
     "output_type": "stream",
     "text": [
      "Epoch 179/1000, Training Loss: 1.4586, Validation Loss: 1.3052\n"
     ]
    },
    {
     "name": "stderr",
     "output_type": "stream",
     "text": [
      "Epoch 180/1000: 100%|██████████| 98/98 [00:00<00:00, 110.71it/s]\n"
     ]
    },
    {
     "name": "stdout",
     "output_type": "stream",
     "text": [
      "Epoch 180/1000, Training Loss: 1.4539, Validation Loss: 1.3009\n"
     ]
    },
    {
     "name": "stderr",
     "output_type": "stream",
     "text": [
      "Epoch 181/1000: 100%|██████████| 98/98 [00:00<00:00, 109.46it/s]\n"
     ]
    },
    {
     "name": "stdout",
     "output_type": "stream",
     "text": [
      "Epoch 181/1000, Training Loss: 1.4418, Validation Loss: 1.2928\n"
     ]
    },
    {
     "name": "stderr",
     "output_type": "stream",
     "text": [
      "Epoch 182/1000: 100%|██████████| 98/98 [00:00<00:00, 109.41it/s]\n"
     ]
    },
    {
     "name": "stdout",
     "output_type": "stream",
     "text": [
      "Epoch 182/1000, Training Loss: 1.4304, Validation Loss: 1.2872\n"
     ]
    },
    {
     "name": "stderr",
     "output_type": "stream",
     "text": [
      "Epoch 183/1000: 100%|██████████| 98/98 [00:00<00:00, 106.26it/s]\n"
     ]
    },
    {
     "name": "stdout",
     "output_type": "stream",
     "text": [
      "Epoch 183/1000, Training Loss: 1.4335, Validation Loss: 1.2770\n"
     ]
    },
    {
     "name": "stderr",
     "output_type": "stream",
     "text": [
      "Epoch 184/1000: 100%|██████████| 98/98 [00:00<00:00, 106.22it/s]\n"
     ]
    },
    {
     "name": "stdout",
     "output_type": "stream",
     "text": [
      "Epoch 184/1000, Training Loss: 1.4626, Validation Loss: 1.2745\n"
     ]
    },
    {
     "name": "stderr",
     "output_type": "stream",
     "text": [
      "Epoch 185/1000: 100%|██████████| 98/98 [00:00<00:00, 106.40it/s]\n"
     ]
    },
    {
     "name": "stdout",
     "output_type": "stream",
     "text": [
      "Epoch 185/1000, Training Loss: 1.4673, Validation Loss: 1.2644\n"
     ]
    },
    {
     "name": "stderr",
     "output_type": "stream",
     "text": [
      "Epoch 186/1000: 100%|██████████| 98/98 [00:00<00:00, 101.67it/s]\n"
     ]
    },
    {
     "name": "stdout",
     "output_type": "stream",
     "text": [
      "Epoch 186/1000, Training Loss: 1.3924, Validation Loss: 1.2546\n"
     ]
    },
    {
     "name": "stderr",
     "output_type": "stream",
     "text": [
      "Epoch 187/1000: 100%|██████████| 98/98 [00:01<00:00, 97.99it/s] \n"
     ]
    },
    {
     "name": "stdout",
     "output_type": "stream",
     "text": [
      "Epoch 187/1000, Training Loss: 1.4377, Validation Loss: 1.2470\n"
     ]
    },
    {
     "name": "stderr",
     "output_type": "stream",
     "text": [
      "Epoch 188/1000: 100%|██████████| 98/98 [00:00<00:00, 102.43it/s]\n"
     ]
    },
    {
     "name": "stdout",
     "output_type": "stream",
     "text": [
      "Epoch 188/1000, Training Loss: 1.4052, Validation Loss: 1.2402\n"
     ]
    },
    {
     "name": "stderr",
     "output_type": "stream",
     "text": [
      "Epoch 189/1000: 100%|██████████| 98/98 [00:00<00:00, 102.58it/s]\n"
     ]
    },
    {
     "name": "stdout",
     "output_type": "stream",
     "text": [
      "Epoch 189/1000, Training Loss: 1.3790, Validation Loss: 1.2333\n"
     ]
    },
    {
     "name": "stderr",
     "output_type": "stream",
     "text": [
      "Epoch 190/1000: 100%|██████████| 98/98 [00:00<00:00, 103.28it/s]\n"
     ]
    },
    {
     "name": "stdout",
     "output_type": "stream",
     "text": [
      "Epoch 190/1000, Training Loss: 1.4465, Validation Loss: 1.2268\n"
     ]
    },
    {
     "name": "stderr",
     "output_type": "stream",
     "text": [
      "Epoch 191/1000: 100%|██████████| 98/98 [00:00<00:00, 109.31it/s]\n"
     ]
    },
    {
     "name": "stdout",
     "output_type": "stream",
     "text": [
      "Epoch 191/1000, Training Loss: 1.4343, Validation Loss: 1.2216\n"
     ]
    },
    {
     "name": "stderr",
     "output_type": "stream",
     "text": [
      "Epoch 192/1000: 100%|██████████| 98/98 [00:00<00:00, 103.90it/s]\n"
     ]
    },
    {
     "name": "stdout",
     "output_type": "stream",
     "text": [
      "Epoch 192/1000, Training Loss: 1.3939, Validation Loss: 1.2159\n"
     ]
    },
    {
     "name": "stderr",
     "output_type": "stream",
     "text": [
      "Epoch 193/1000: 100%|██████████| 98/98 [00:00<00:00, 106.29it/s]\n"
     ]
    },
    {
     "name": "stdout",
     "output_type": "stream",
     "text": [
      "Epoch 193/1000, Training Loss: 1.4235, Validation Loss: 1.2041\n"
     ]
    },
    {
     "name": "stderr",
     "output_type": "stream",
     "text": [
      "Epoch 194/1000: 100%|██████████| 98/98 [00:00<00:00, 112.07it/s]\n"
     ]
    },
    {
     "name": "stdout",
     "output_type": "stream",
     "text": [
      "Epoch 194/1000, Training Loss: 1.4380, Validation Loss: 1.1996\n"
     ]
    },
    {
     "name": "stderr",
     "output_type": "stream",
     "text": [
      "Epoch 195/1000: 100%|██████████| 98/98 [00:00<00:00, 114.27it/s]\n"
     ]
    },
    {
     "name": "stdout",
     "output_type": "stream",
     "text": [
      "Epoch 195/1000, Training Loss: 1.3620, Validation Loss: 1.1902\n"
     ]
    },
    {
     "name": "stderr",
     "output_type": "stream",
     "text": [
      "Epoch 196/1000: 100%|██████████| 98/98 [00:00<00:00, 114.61it/s]\n"
     ]
    },
    {
     "name": "stdout",
     "output_type": "stream",
     "text": [
      "Epoch 196/1000, Training Loss: 1.4355, Validation Loss: 1.1855\n"
     ]
    },
    {
     "name": "stderr",
     "output_type": "stream",
     "text": [
      "Epoch 197/1000: 100%|██████████| 98/98 [00:00<00:00, 111.49it/s]\n"
     ]
    },
    {
     "name": "stdout",
     "output_type": "stream",
     "text": [
      "Epoch 197/1000, Training Loss: 1.4352, Validation Loss: 1.1804\n"
     ]
    },
    {
     "name": "stderr",
     "output_type": "stream",
     "text": [
      "Epoch 198/1000: 100%|██████████| 98/98 [00:00<00:00, 112.24it/s]\n"
     ]
    },
    {
     "name": "stdout",
     "output_type": "stream",
     "text": [
      "Epoch 198/1000, Training Loss: 1.4281, Validation Loss: 1.1720\n"
     ]
    },
    {
     "name": "stderr",
     "output_type": "stream",
     "text": [
      "Epoch 199/1000: 100%|██████████| 98/98 [00:00<00:00, 108.53it/s]\n"
     ]
    },
    {
     "name": "stdout",
     "output_type": "stream",
     "text": [
      "Epoch 199/1000, Training Loss: 1.4218, Validation Loss: 1.1640\n"
     ]
    },
    {
     "name": "stderr",
     "output_type": "stream",
     "text": [
      "Epoch 200/1000: 100%|██████████| 98/98 [00:00<00:00, 110.17it/s]\n"
     ]
    },
    {
     "name": "stdout",
     "output_type": "stream",
     "text": [
      "Epoch 200/1000, Training Loss: 1.4246, Validation Loss: 1.1577\n"
     ]
    },
    {
     "name": "stderr",
     "output_type": "stream",
     "text": [
      "Epoch 201/1000: 100%|██████████| 98/98 [00:00<00:00, 112.06it/s]\n"
     ]
    },
    {
     "name": "stdout",
     "output_type": "stream",
     "text": [
      "Epoch 201/1000, Training Loss: 1.4253, Validation Loss: 1.1493\n"
     ]
    },
    {
     "name": "stderr",
     "output_type": "stream",
     "text": [
      "Epoch 202/1000: 100%|██████████| 98/98 [00:00<00:00, 111.38it/s]\n"
     ]
    },
    {
     "name": "stdout",
     "output_type": "stream",
     "text": [
      "Epoch 202/1000, Training Loss: 1.4290, Validation Loss: 1.1464\n"
     ]
    },
    {
     "name": "stderr",
     "output_type": "stream",
     "text": [
      "Epoch 203/1000: 100%|██████████| 98/98 [00:00<00:00, 110.90it/s]\n"
     ]
    },
    {
     "name": "stdout",
     "output_type": "stream",
     "text": [
      "Epoch 203/1000, Training Loss: 1.4018, Validation Loss: 1.1347\n"
     ]
    },
    {
     "name": "stderr",
     "output_type": "stream",
     "text": [
      "Epoch 204/1000: 100%|██████████| 98/98 [00:00<00:00, 109.90it/s]\n"
     ]
    },
    {
     "name": "stdout",
     "output_type": "stream",
     "text": [
      "Epoch 204/1000, Training Loss: 1.3936, Validation Loss: 1.1275\n"
     ]
    },
    {
     "name": "stderr",
     "output_type": "stream",
     "text": [
      "Epoch 205/1000: 100%|██████████| 98/98 [00:00<00:00, 113.25it/s]\n"
     ]
    },
    {
     "name": "stdout",
     "output_type": "stream",
     "text": [
      "Epoch 205/1000, Training Loss: 1.4203, Validation Loss: 1.1212\n"
     ]
    },
    {
     "name": "stderr",
     "output_type": "stream",
     "text": [
      "Epoch 206/1000: 100%|██████████| 98/98 [00:00<00:00, 112.03it/s]\n"
     ]
    },
    {
     "name": "stdout",
     "output_type": "stream",
     "text": [
      "Epoch 206/1000, Training Loss: 1.4216, Validation Loss: 1.1147\n"
     ]
    },
    {
     "name": "stderr",
     "output_type": "stream",
     "text": [
      "Epoch 207/1000: 100%|██████████| 98/98 [00:00<00:00, 111.71it/s]\n"
     ]
    },
    {
     "name": "stdout",
     "output_type": "stream",
     "text": [
      "Epoch 207/1000, Training Loss: 1.4178, Validation Loss: 1.1048\n"
     ]
    },
    {
     "name": "stderr",
     "output_type": "stream",
     "text": [
      "Epoch 208/1000: 100%|██████████| 98/98 [00:00<00:00, 100.24it/s]\n"
     ]
    },
    {
     "name": "stdout",
     "output_type": "stream",
     "text": [
      "Epoch 208/1000, Training Loss: 1.4240, Validation Loss: 1.1030\n"
     ]
    },
    {
     "name": "stderr",
     "output_type": "stream",
     "text": [
      "Epoch 209/1000: 100%|██████████| 98/98 [00:00<00:00, 107.95it/s]\n"
     ]
    },
    {
     "name": "stdout",
     "output_type": "stream",
     "text": [
      "Epoch 209/1000, Training Loss: 1.4355, Validation Loss: 1.0924\n"
     ]
    },
    {
     "name": "stderr",
     "output_type": "stream",
     "text": [
      "Epoch 210/1000: 100%|██████████| 98/98 [00:00<00:00, 106.67it/s]\n"
     ]
    },
    {
     "name": "stdout",
     "output_type": "stream",
     "text": [
      "Epoch 210/1000, Training Loss: 1.4279, Validation Loss: 1.0881\n"
     ]
    },
    {
     "name": "stderr",
     "output_type": "stream",
     "text": [
      "Epoch 211/1000: 100%|██████████| 98/98 [00:00<00:00, 113.05it/s]\n"
     ]
    },
    {
     "name": "stdout",
     "output_type": "stream",
     "text": [
      "Epoch 211/1000, Training Loss: 1.4067, Validation Loss: 1.0794\n"
     ]
    },
    {
     "name": "stderr",
     "output_type": "stream",
     "text": [
      "Epoch 212/1000: 100%|██████████| 98/98 [00:00<00:00, 115.07it/s]\n"
     ]
    },
    {
     "name": "stdout",
     "output_type": "stream",
     "text": [
      "Epoch 212/1000, Training Loss: 1.4287, Validation Loss: 1.0782\n"
     ]
    },
    {
     "name": "stderr",
     "output_type": "stream",
     "text": [
      "Epoch 213/1000: 100%|██████████| 98/98 [00:00<00:00, 111.70it/s]\n"
     ]
    },
    {
     "name": "stdout",
     "output_type": "stream",
     "text": [
      "Epoch 213/1000, Training Loss: 1.4099, Validation Loss: 1.0724\n"
     ]
    },
    {
     "name": "stderr",
     "output_type": "stream",
     "text": [
      "Epoch 214/1000: 100%|██████████| 98/98 [00:00<00:00, 111.41it/s]\n"
     ]
    },
    {
     "name": "stdout",
     "output_type": "stream",
     "text": [
      "Epoch 214/1000, Training Loss: 1.4176, Validation Loss: 1.0691\n"
     ]
    },
    {
     "name": "stderr",
     "output_type": "stream",
     "text": [
      "Epoch 215/1000: 100%|██████████| 98/98 [00:00<00:00, 113.67it/s]\n"
     ]
    },
    {
     "name": "stdout",
     "output_type": "stream",
     "text": [
      "Epoch 215/1000, Training Loss: 1.3752, Validation Loss: 1.0589\n"
     ]
    },
    {
     "name": "stderr",
     "output_type": "stream",
     "text": [
      "Epoch 216/1000: 100%|██████████| 98/98 [00:00<00:00, 113.20it/s]\n"
     ]
    },
    {
     "name": "stdout",
     "output_type": "stream",
     "text": [
      "Epoch 216/1000, Training Loss: 1.4053, Validation Loss: 1.0540\n"
     ]
    },
    {
     "name": "stderr",
     "output_type": "stream",
     "text": [
      "Epoch 217/1000: 100%|██████████| 98/98 [00:00<00:00, 113.36it/s]\n"
     ]
    },
    {
     "name": "stdout",
     "output_type": "stream",
     "text": [
      "Epoch 217/1000, Training Loss: 1.4318, Validation Loss: 1.0492\n"
     ]
    },
    {
     "name": "stderr",
     "output_type": "stream",
     "text": [
      "Epoch 218/1000: 100%|██████████| 98/98 [00:00<00:00, 110.46it/s]\n"
     ]
    },
    {
     "name": "stdout",
     "output_type": "stream",
     "text": [
      "Epoch 218/1000, Training Loss: 1.3865, Validation Loss: 1.0460\n"
     ]
    },
    {
     "name": "stderr",
     "output_type": "stream",
     "text": [
      "Epoch 219/1000: 100%|██████████| 98/98 [00:00<00:00, 108.65it/s]\n"
     ]
    },
    {
     "name": "stdout",
     "output_type": "stream",
     "text": [
      "Epoch 219/1000, Training Loss: 1.4114, Validation Loss: 1.0429\n"
     ]
    },
    {
     "name": "stderr",
     "output_type": "stream",
     "text": [
      "Epoch 220/1000: 100%|██████████| 98/98 [00:00<00:00, 113.41it/s]\n"
     ]
    },
    {
     "name": "stdout",
     "output_type": "stream",
     "text": [
      "Epoch 220/1000, Training Loss: 1.3777, Validation Loss: 1.0378\n"
     ]
    },
    {
     "name": "stderr",
     "output_type": "stream",
     "text": [
      "Epoch 221/1000: 100%|██████████| 98/98 [00:00<00:00, 114.51it/s]\n"
     ]
    },
    {
     "name": "stdout",
     "output_type": "stream",
     "text": [
      "Epoch 221/1000, Training Loss: 1.4107, Validation Loss: 1.0293\n"
     ]
    },
    {
     "name": "stderr",
     "output_type": "stream",
     "text": [
      "Epoch 222/1000: 100%|██████████| 98/98 [00:00<00:00, 113.73it/s]\n"
     ]
    },
    {
     "name": "stdout",
     "output_type": "stream",
     "text": [
      "Epoch 222/1000, Training Loss: 1.4079, Validation Loss: 1.0270\n"
     ]
    },
    {
     "name": "stderr",
     "output_type": "stream",
     "text": [
      "Epoch 223/1000: 100%|██████████| 98/98 [00:00<00:00, 111.47it/s]\n"
     ]
    },
    {
     "name": "stdout",
     "output_type": "stream",
     "text": [
      "Epoch 223/1000, Training Loss: 1.3890, Validation Loss: 1.0191\n"
     ]
    },
    {
     "name": "stderr",
     "output_type": "stream",
     "text": [
      "Epoch 224/1000: 100%|██████████| 98/98 [00:00<00:00, 113.45it/s]\n"
     ]
    },
    {
     "name": "stdout",
     "output_type": "stream",
     "text": [
      "Epoch 224/1000, Training Loss: 1.4239, Validation Loss: 1.0125\n"
     ]
    },
    {
     "name": "stderr",
     "output_type": "stream",
     "text": [
      "Epoch 225/1000: 100%|██████████| 98/98 [00:00<00:00, 117.98it/s]\n"
     ]
    },
    {
     "name": "stdout",
     "output_type": "stream",
     "text": [
      "Epoch 225/1000, Training Loss: 1.4036, Validation Loss: 1.0111\n"
     ]
    },
    {
     "name": "stderr",
     "output_type": "stream",
     "text": [
      "Epoch 226/1000: 100%|██████████| 98/98 [00:00<00:00, 116.83it/s]\n"
     ]
    },
    {
     "name": "stdout",
     "output_type": "stream",
     "text": [
      "Epoch 226/1000, Training Loss: 1.3721, Validation Loss: 1.0059\n"
     ]
    },
    {
     "name": "stderr",
     "output_type": "stream",
     "text": [
      "Epoch 227/1000: 100%|██████████| 98/98 [00:00<00:00, 117.26it/s]\n"
     ]
    },
    {
     "name": "stdout",
     "output_type": "stream",
     "text": [
      "Epoch 227/1000, Training Loss: 1.3646, Validation Loss: 0.9983\n"
     ]
    },
    {
     "name": "stderr",
     "output_type": "stream",
     "text": [
      "Epoch 228/1000: 100%|██████████| 98/98 [00:00<00:00, 118.76it/s]\n"
     ]
    },
    {
     "name": "stdout",
     "output_type": "stream",
     "text": [
      "Epoch 228/1000, Training Loss: 1.3685, Validation Loss: 0.9920\n"
     ]
    },
    {
     "name": "stderr",
     "output_type": "stream",
     "text": [
      "Epoch 229/1000: 100%|██████████| 98/98 [00:00<00:00, 115.47it/s]\n"
     ]
    },
    {
     "name": "stdout",
     "output_type": "stream",
     "text": [
      "Epoch 229/1000, Training Loss: 1.3755, Validation Loss: 0.9863\n"
     ]
    },
    {
     "name": "stderr",
     "output_type": "stream",
     "text": [
      "Epoch 230/1000: 100%|██████████| 98/98 [00:00<00:00, 112.98it/s]\n"
     ]
    },
    {
     "name": "stdout",
     "output_type": "stream",
     "text": [
      "Epoch 230/1000, Training Loss: 1.3987, Validation Loss: 0.9796\n"
     ]
    },
    {
     "name": "stderr",
     "output_type": "stream",
     "text": [
      "Epoch 231/1000: 100%|██████████| 98/98 [00:00<00:00, 112.22it/s]\n"
     ]
    },
    {
     "name": "stdout",
     "output_type": "stream",
     "text": [
      "Epoch 231/1000, Training Loss: 1.3972, Validation Loss: 0.9735\n"
     ]
    },
    {
     "name": "stderr",
     "output_type": "stream",
     "text": [
      "Epoch 232/1000: 100%|██████████| 98/98 [00:00<00:00, 115.10it/s]\n"
     ]
    },
    {
     "name": "stdout",
     "output_type": "stream",
     "text": [
      "Epoch 232/1000, Training Loss: 1.3808, Validation Loss: 0.9666\n"
     ]
    },
    {
     "name": "stderr",
     "output_type": "stream",
     "text": [
      "Epoch 233/1000: 100%|██████████| 98/98 [00:00<00:00, 113.23it/s]\n"
     ]
    },
    {
     "name": "stdout",
     "output_type": "stream",
     "text": [
      "Epoch 233/1000, Training Loss: 1.4009, Validation Loss: 0.9635\n"
     ]
    },
    {
     "name": "stderr",
     "output_type": "stream",
     "text": [
      "Epoch 234/1000: 100%|██████████| 98/98 [00:00<00:00, 111.01it/s]\n"
     ]
    },
    {
     "name": "stdout",
     "output_type": "stream",
     "text": [
      "Epoch 234/1000, Training Loss: 1.4152, Validation Loss: 0.9621\n"
     ]
    },
    {
     "name": "stderr",
     "output_type": "stream",
     "text": [
      "Epoch 235/1000: 100%|██████████| 98/98 [00:00<00:00, 112.42it/s]\n"
     ]
    },
    {
     "name": "stdout",
     "output_type": "stream",
     "text": [
      "Epoch 235/1000, Training Loss: 1.3686, Validation Loss: 0.9587\n"
     ]
    },
    {
     "name": "stderr",
     "output_type": "stream",
     "text": [
      "Epoch 236/1000: 100%|██████████| 98/98 [00:00<00:00, 113.12it/s]\n"
     ]
    },
    {
     "name": "stdout",
     "output_type": "stream",
     "text": [
      "Epoch 236/1000, Training Loss: 1.4183, Validation Loss: 0.9541\n"
     ]
    },
    {
     "name": "stderr",
     "output_type": "stream",
     "text": [
      "Epoch 237/1000: 100%|██████████| 98/98 [00:00<00:00, 113.68it/s]\n"
     ]
    },
    {
     "name": "stdout",
     "output_type": "stream",
     "text": [
      "Epoch 237/1000, Training Loss: 1.3730, Validation Loss: 0.9476\n"
     ]
    },
    {
     "name": "stderr",
     "output_type": "stream",
     "text": [
      "Epoch 238/1000: 100%|██████████| 98/98 [00:00<00:00, 113.89it/s]\n"
     ]
    },
    {
     "name": "stdout",
     "output_type": "stream",
     "text": [
      "Epoch 238/1000, Training Loss: 1.3852, Validation Loss: 0.9431\n"
     ]
    },
    {
     "name": "stderr",
     "output_type": "stream",
     "text": [
      "Epoch 239/1000: 100%|██████████| 98/98 [00:00<00:00, 112.63it/s]\n"
     ]
    },
    {
     "name": "stdout",
     "output_type": "stream",
     "text": [
      "Epoch 239/1000, Training Loss: 1.3896, Validation Loss: 0.9402\n"
     ]
    },
    {
     "name": "stderr",
     "output_type": "stream",
     "text": [
      "Epoch 240/1000: 100%|██████████| 98/98 [00:00<00:00, 112.10it/s]\n"
     ]
    },
    {
     "name": "stdout",
     "output_type": "stream",
     "text": [
      "Epoch 240/1000, Training Loss: 1.3739, Validation Loss: 0.9343\n"
     ]
    },
    {
     "name": "stderr",
     "output_type": "stream",
     "text": [
      "Epoch 241/1000: 100%|██████████| 98/98 [00:00<00:00, 114.30it/s]\n"
     ]
    },
    {
     "name": "stdout",
     "output_type": "stream",
     "text": [
      "Epoch 241/1000, Training Loss: 1.3680, Validation Loss: 0.9319\n"
     ]
    },
    {
     "name": "stderr",
     "output_type": "stream",
     "text": [
      "Epoch 242/1000: 100%|██████████| 98/98 [00:00<00:00, 114.60it/s]\n"
     ]
    },
    {
     "name": "stdout",
     "output_type": "stream",
     "text": [
      "Epoch 242/1000, Training Loss: 1.3482, Validation Loss: 0.9278\n"
     ]
    },
    {
     "name": "stderr",
     "output_type": "stream",
     "text": [
      "Epoch 243/1000: 100%|██████████| 98/98 [00:00<00:00, 113.52it/s]\n"
     ]
    },
    {
     "name": "stdout",
     "output_type": "stream",
     "text": [
      "Epoch 243/1000, Training Loss: 1.4109, Validation Loss: 0.9246\n"
     ]
    },
    {
     "name": "stderr",
     "output_type": "stream",
     "text": [
      "Epoch 244/1000: 100%|██████████| 98/98 [00:00<00:00, 113.35it/s]\n"
     ]
    },
    {
     "name": "stdout",
     "output_type": "stream",
     "text": [
      "Epoch 244/1000, Training Loss: 1.4114, Validation Loss: 0.9234\n"
     ]
    },
    {
     "name": "stderr",
     "output_type": "stream",
     "text": [
      "Epoch 245/1000: 100%|██████████| 98/98 [00:00<00:00, 109.61it/s]\n"
     ]
    },
    {
     "name": "stdout",
     "output_type": "stream",
     "text": [
      "Epoch 245/1000, Training Loss: 1.3687, Validation Loss: 0.9224\n"
     ]
    },
    {
     "name": "stderr",
     "output_type": "stream",
     "text": [
      "Epoch 246/1000: 100%|██████████| 98/98 [00:00<00:00, 114.26it/s]\n"
     ]
    },
    {
     "name": "stdout",
     "output_type": "stream",
     "text": [
      "Epoch 246/1000, Training Loss: 1.3307, Validation Loss: 0.9181\n"
     ]
    },
    {
     "name": "stderr",
     "output_type": "stream",
     "text": [
      "Epoch 247/1000: 100%|██████████| 98/98 [00:00<00:00, 111.00it/s]\n"
     ]
    },
    {
     "name": "stdout",
     "output_type": "stream",
     "text": [
      "Epoch 247/1000, Training Loss: 1.3438, Validation Loss: 0.9138\n"
     ]
    },
    {
     "name": "stderr",
     "output_type": "stream",
     "text": [
      "Epoch 248/1000: 100%|██████████| 98/98 [00:00<00:00, 116.59it/s]\n"
     ]
    },
    {
     "name": "stdout",
     "output_type": "stream",
     "text": [
      "Epoch 248/1000, Training Loss: 1.3683, Validation Loss: 0.9119\n"
     ]
    },
    {
     "name": "stderr",
     "output_type": "stream",
     "text": [
      "Epoch 249/1000: 100%|██████████| 98/98 [00:00<00:00, 102.75it/s]\n"
     ]
    },
    {
     "name": "stdout",
     "output_type": "stream",
     "text": [
      "Epoch 249/1000, Training Loss: 1.3878, Validation Loss: 0.9093\n"
     ]
    },
    {
     "name": "stderr",
     "output_type": "stream",
     "text": [
      "Epoch 250/1000: 100%|██████████| 98/98 [00:00<00:00, 110.51it/s]\n"
     ]
    },
    {
     "name": "stdout",
     "output_type": "stream",
     "text": [
      "Epoch 250/1000, Training Loss: 1.3212, Validation Loss: 0.9043\n"
     ]
    },
    {
     "name": "stderr",
     "output_type": "stream",
     "text": [
      "Epoch 251/1000: 100%|██████████| 98/98 [00:00<00:00, 113.22it/s]\n"
     ]
    },
    {
     "name": "stdout",
     "output_type": "stream",
     "text": [
      "Epoch 251/1000, Training Loss: 1.4009, Validation Loss: 0.9016\n"
     ]
    },
    {
     "name": "stderr",
     "output_type": "stream",
     "text": [
      "Epoch 252/1000: 100%|██████████| 98/98 [00:00<00:00, 115.18it/s]\n"
     ]
    },
    {
     "name": "stdout",
     "output_type": "stream",
     "text": [
      "Epoch 252/1000, Training Loss: 1.3649, Validation Loss: 0.8977\n"
     ]
    },
    {
     "name": "stderr",
     "output_type": "stream",
     "text": [
      "Epoch 253/1000: 100%|██████████| 98/98 [00:00<00:00, 117.02it/s]\n"
     ]
    },
    {
     "name": "stdout",
     "output_type": "stream",
     "text": [
      "Epoch 253/1000, Training Loss: 1.3677, Validation Loss: 0.8944\n"
     ]
    },
    {
     "name": "stderr",
     "output_type": "stream",
     "text": [
      "Epoch 254/1000: 100%|██████████| 98/98 [00:00<00:00, 117.38it/s]\n"
     ]
    },
    {
     "name": "stdout",
     "output_type": "stream",
     "text": [
      "Epoch 254/1000, Training Loss: 1.3889, Validation Loss: 0.8865\n"
     ]
    },
    {
     "name": "stderr",
     "output_type": "stream",
     "text": [
      "Epoch 255/1000: 100%|██████████| 98/98 [00:00<00:00, 115.82it/s]\n"
     ]
    },
    {
     "name": "stdout",
     "output_type": "stream",
     "text": [
      "Epoch 255/1000, Training Loss: 1.3861, Validation Loss: 0.8826\n"
     ]
    },
    {
     "name": "stderr",
     "output_type": "stream",
     "text": [
      "Epoch 256/1000: 100%|██████████| 98/98 [00:00<00:00, 117.54it/s]\n"
     ]
    },
    {
     "name": "stdout",
     "output_type": "stream",
     "text": [
      "Epoch 256/1000, Training Loss: 1.3354, Validation Loss: 0.8803\n"
     ]
    },
    {
     "name": "stderr",
     "output_type": "stream",
     "text": [
      "Epoch 257/1000: 100%|██████████| 98/98 [00:00<00:00, 117.67it/s]\n"
     ]
    },
    {
     "name": "stdout",
     "output_type": "stream",
     "text": [
      "Epoch 257/1000, Training Loss: 1.3534, Validation Loss: 0.8746\n"
     ]
    },
    {
     "name": "stderr",
     "output_type": "stream",
     "text": [
      "Epoch 258/1000: 100%|██████████| 98/98 [00:00<00:00, 114.68it/s]\n"
     ]
    },
    {
     "name": "stdout",
     "output_type": "stream",
     "text": [
      "Epoch 258/1000, Training Loss: 1.4175, Validation Loss: 0.8751\n"
     ]
    },
    {
     "name": "stderr",
     "output_type": "stream",
     "text": [
      "Epoch 259/1000: 100%|██████████| 98/98 [00:00<00:00, 113.89it/s]\n"
     ]
    },
    {
     "name": "stdout",
     "output_type": "stream",
     "text": [
      "Epoch 259/1000, Training Loss: 1.3624, Validation Loss: 0.8711\n"
     ]
    },
    {
     "name": "stderr",
     "output_type": "stream",
     "text": [
      "Epoch 260/1000: 100%|██████████| 98/98 [00:00<00:00, 116.16it/s]\n"
     ]
    },
    {
     "name": "stdout",
     "output_type": "stream",
     "text": [
      "Epoch 260/1000, Training Loss: 1.3615, Validation Loss: 0.8670\n"
     ]
    },
    {
     "name": "stderr",
     "output_type": "stream",
     "text": [
      "Epoch 261/1000: 100%|██████████| 98/98 [00:00<00:00, 113.55it/s]\n"
     ]
    },
    {
     "name": "stdout",
     "output_type": "stream",
     "text": [
      "Epoch 261/1000, Training Loss: 1.3506, Validation Loss: 0.8615\n"
     ]
    },
    {
     "name": "stderr",
     "output_type": "stream",
     "text": [
      "Epoch 262/1000: 100%|██████████| 98/98 [00:00<00:00, 114.17it/s]\n"
     ]
    },
    {
     "name": "stdout",
     "output_type": "stream",
     "text": [
      "Epoch 262/1000, Training Loss: 1.3738, Validation Loss: 0.8577\n"
     ]
    },
    {
     "name": "stderr",
     "output_type": "stream",
     "text": [
      "Epoch 263/1000: 100%|██████████| 98/98 [00:00<00:00, 115.66it/s]\n"
     ]
    },
    {
     "name": "stdout",
     "output_type": "stream",
     "text": [
      "Epoch 263/1000, Training Loss: 1.3705, Validation Loss: 0.8524\n"
     ]
    },
    {
     "name": "stderr",
     "output_type": "stream",
     "text": [
      "Epoch 264/1000: 100%|██████████| 98/98 [00:00<00:00, 116.23it/s]\n"
     ]
    },
    {
     "name": "stdout",
     "output_type": "stream",
     "text": [
      "Epoch 264/1000, Training Loss: 1.3362, Validation Loss: 0.8508\n"
     ]
    },
    {
     "name": "stderr",
     "output_type": "stream",
     "text": [
      "Epoch 265/1000: 100%|██████████| 98/98 [00:00<00:00, 116.05it/s]\n"
     ]
    },
    {
     "name": "stdout",
     "output_type": "stream",
     "text": [
      "Epoch 265/1000, Training Loss: 1.3270, Validation Loss: 0.8459\n"
     ]
    },
    {
     "name": "stderr",
     "output_type": "stream",
     "text": [
      "Epoch 266/1000: 100%|██████████| 98/98 [00:00<00:00, 116.83it/s]\n"
     ]
    },
    {
     "name": "stdout",
     "output_type": "stream",
     "text": [
      "Epoch 266/1000, Training Loss: 1.3640, Validation Loss: 0.8429\n"
     ]
    },
    {
     "name": "stderr",
     "output_type": "stream",
     "text": [
      "Epoch 267/1000: 100%|██████████| 98/98 [00:00<00:00, 116.60it/s]\n"
     ]
    },
    {
     "name": "stdout",
     "output_type": "stream",
     "text": [
      "Epoch 267/1000, Training Loss: 1.3703, Validation Loss: 0.8401\n"
     ]
    },
    {
     "name": "stderr",
     "output_type": "stream",
     "text": [
      "Epoch 268/1000: 100%|██████████| 98/98 [00:00<00:00, 116.98it/s]\n"
     ]
    },
    {
     "name": "stdout",
     "output_type": "stream",
     "text": [
      "Epoch 268/1000, Training Loss: 1.3493, Validation Loss: 0.8366\n"
     ]
    },
    {
     "name": "stderr",
     "output_type": "stream",
     "text": [
      "Epoch 269/1000: 100%|██████████| 98/98 [00:00<00:00, 117.09it/s]\n"
     ]
    },
    {
     "name": "stdout",
     "output_type": "stream",
     "text": [
      "Epoch 269/1000, Training Loss: 1.3787, Validation Loss: 0.8331\n"
     ]
    },
    {
     "name": "stderr",
     "output_type": "stream",
     "text": [
      "Epoch 270/1000: 100%|██████████| 98/98 [00:00<00:00, 115.30it/s]\n"
     ]
    },
    {
     "name": "stdout",
     "output_type": "stream",
     "text": [
      "Epoch 270/1000, Training Loss: 1.3986, Validation Loss: 0.8295\n"
     ]
    },
    {
     "name": "stderr",
     "output_type": "stream",
     "text": [
      "Epoch 271/1000: 100%|██████████| 98/98 [00:00<00:00, 118.63it/s]\n"
     ]
    },
    {
     "name": "stdout",
     "output_type": "stream",
     "text": [
      "Epoch 271/1000, Training Loss: 1.3474, Validation Loss: 0.8263\n"
     ]
    },
    {
     "name": "stderr",
     "output_type": "stream",
     "text": [
      "Epoch 272/1000: 100%|██████████| 98/98 [00:00<00:00, 116.53it/s]\n"
     ]
    },
    {
     "name": "stdout",
     "output_type": "stream",
     "text": [
      "Epoch 272/1000, Training Loss: 1.3582, Validation Loss: 0.8237\n"
     ]
    },
    {
     "name": "stderr",
     "output_type": "stream",
     "text": [
      "Epoch 273/1000: 100%|██████████| 98/98 [00:00<00:00, 113.21it/s]\n"
     ]
    },
    {
     "name": "stdout",
     "output_type": "stream",
     "text": [
      "Epoch 273/1000, Training Loss: 1.3313, Validation Loss: 0.8188\n"
     ]
    },
    {
     "name": "stderr",
     "output_type": "stream",
     "text": [
      "Epoch 274/1000: 100%|██████████| 98/98 [00:00<00:00, 112.80it/s]\n"
     ]
    },
    {
     "name": "stdout",
     "output_type": "stream",
     "text": [
      "Epoch 274/1000, Training Loss: 1.3400, Validation Loss: 0.8140\n"
     ]
    },
    {
     "name": "stderr",
     "output_type": "stream",
     "text": [
      "Epoch 275/1000: 100%|██████████| 98/98 [00:00<00:00, 115.50it/s]\n"
     ]
    },
    {
     "name": "stdout",
     "output_type": "stream",
     "text": [
      "Epoch 275/1000, Training Loss: 1.3663, Validation Loss: 0.8128\n"
     ]
    },
    {
     "name": "stderr",
     "output_type": "stream",
     "text": [
      "Epoch 276/1000: 100%|██████████| 98/98 [00:00<00:00, 117.14it/s]\n"
     ]
    },
    {
     "name": "stdout",
     "output_type": "stream",
     "text": [
      "Epoch 276/1000, Training Loss: 1.3318, Validation Loss: 0.8100\n"
     ]
    },
    {
     "name": "stderr",
     "output_type": "stream",
     "text": [
      "Epoch 277/1000: 100%|██████████| 98/98 [00:00<00:00, 116.12it/s]\n"
     ]
    },
    {
     "name": "stdout",
     "output_type": "stream",
     "text": [
      "Epoch 277/1000, Training Loss: 1.3843, Validation Loss: 0.8079\n"
     ]
    },
    {
     "name": "stderr",
     "output_type": "stream",
     "text": [
      "Epoch 278/1000: 100%|██████████| 98/98 [00:00<00:00, 117.00it/s]\n"
     ]
    },
    {
     "name": "stdout",
     "output_type": "stream",
     "text": [
      "Epoch 278/1000, Training Loss: 1.3764, Validation Loss: 0.8044\n"
     ]
    },
    {
     "name": "stderr",
     "output_type": "stream",
     "text": [
      "Epoch 279/1000: 100%|██████████| 98/98 [00:00<00:00, 116.65it/s]\n"
     ]
    },
    {
     "name": "stdout",
     "output_type": "stream",
     "text": [
      "Epoch 279/1000, Training Loss: 1.3485, Validation Loss: 0.8035\n"
     ]
    },
    {
     "name": "stderr",
     "output_type": "stream",
     "text": [
      "Epoch 280/1000: 100%|██████████| 98/98 [00:00<00:00, 116.72it/s]\n"
     ]
    },
    {
     "name": "stdout",
     "output_type": "stream",
     "text": [
      "Epoch 280/1000, Training Loss: 1.3312, Validation Loss: 0.7977\n"
     ]
    },
    {
     "name": "stderr",
     "output_type": "stream",
     "text": [
      "Epoch 281/1000: 100%|██████████| 98/98 [00:00<00:00, 118.45it/s]\n"
     ]
    },
    {
     "name": "stdout",
     "output_type": "stream",
     "text": [
      "Epoch 281/1000, Training Loss: 1.3508, Validation Loss: 0.7954\n"
     ]
    },
    {
     "name": "stderr",
     "output_type": "stream",
     "text": [
      "Epoch 282/1000: 100%|██████████| 98/98 [00:00<00:00, 116.93it/s]\n"
     ]
    },
    {
     "name": "stdout",
     "output_type": "stream",
     "text": [
      "Epoch 282/1000, Training Loss: 1.3763, Validation Loss: 0.7926\n"
     ]
    },
    {
     "name": "stderr",
     "output_type": "stream",
     "text": [
      "Epoch 283/1000: 100%|██████████| 98/98 [00:00<00:00, 117.48it/s]\n"
     ]
    },
    {
     "name": "stdout",
     "output_type": "stream",
     "text": [
      "Epoch 283/1000, Training Loss: 1.2942, Validation Loss: 0.7908\n"
     ]
    },
    {
     "name": "stderr",
     "output_type": "stream",
     "text": [
      "Epoch 284/1000: 100%|██████████| 98/98 [00:00<00:00, 111.70it/s]\n"
     ]
    },
    {
     "name": "stdout",
     "output_type": "stream",
     "text": [
      "Epoch 284/1000, Training Loss: 1.3237, Validation Loss: 0.7868\n"
     ]
    },
    {
     "name": "stderr",
     "output_type": "stream",
     "text": [
      "Epoch 285/1000: 100%|██████████| 98/98 [00:00<00:00, 116.84it/s]\n"
     ]
    },
    {
     "name": "stdout",
     "output_type": "stream",
     "text": [
      "Epoch 285/1000, Training Loss: 1.3596, Validation Loss: 0.7862\n"
     ]
    },
    {
     "name": "stderr",
     "output_type": "stream",
     "text": [
      "Epoch 286/1000: 100%|██████████| 98/98 [00:00<00:00, 117.56it/s]\n"
     ]
    },
    {
     "name": "stdout",
     "output_type": "stream",
     "text": [
      "Epoch 286/1000, Training Loss: 1.3762, Validation Loss: 0.7840\n"
     ]
    },
    {
     "name": "stderr",
     "output_type": "stream",
     "text": [
      "Epoch 287/1000: 100%|██████████| 98/98 [00:00<00:00, 116.97it/s]\n"
     ]
    },
    {
     "name": "stdout",
     "output_type": "stream",
     "text": [
      "Epoch 287/1000, Training Loss: 1.3654, Validation Loss: 0.7830\n"
     ]
    },
    {
     "name": "stderr",
     "output_type": "stream",
     "text": [
      "Epoch 288/1000: 100%|██████████| 98/98 [00:00<00:00, 116.69it/s]\n"
     ]
    },
    {
     "name": "stdout",
     "output_type": "stream",
     "text": [
      "Epoch 288/1000, Training Loss: 1.3614, Validation Loss: 0.7812\n"
     ]
    },
    {
     "name": "stderr",
     "output_type": "stream",
     "text": [
      "Epoch 289/1000: 100%|██████████| 98/98 [00:00<00:00, 116.14it/s]\n"
     ]
    },
    {
     "name": "stdout",
     "output_type": "stream",
     "text": [
      "Epoch 289/1000, Training Loss: 1.3259, Validation Loss: 0.7797\n"
     ]
    },
    {
     "name": "stderr",
     "output_type": "stream",
     "text": [
      "Epoch 290/1000: 100%|██████████| 98/98 [00:00<00:00, 116.41it/s]\n"
     ]
    },
    {
     "name": "stdout",
     "output_type": "stream",
     "text": [
      "Epoch 290/1000, Training Loss: 1.3189, Validation Loss: 0.7773\n"
     ]
    },
    {
     "name": "stderr",
     "output_type": "stream",
     "text": [
      "Epoch 291/1000: 100%|██████████| 98/98 [00:00<00:00, 114.41it/s]\n"
     ]
    },
    {
     "name": "stdout",
     "output_type": "stream",
     "text": [
      "Epoch 291/1000, Training Loss: 1.3272, Validation Loss: 0.7743\n"
     ]
    },
    {
     "name": "stderr",
     "output_type": "stream",
     "text": [
      "Epoch 292/1000: 100%|██████████| 98/98 [00:00<00:00, 116.68it/s]\n"
     ]
    },
    {
     "name": "stdout",
     "output_type": "stream",
     "text": [
      "Epoch 292/1000, Training Loss: 1.3317, Validation Loss: 0.7706\n"
     ]
    },
    {
     "name": "stderr",
     "output_type": "stream",
     "text": [
      "Epoch 293/1000: 100%|██████████| 98/98 [00:00<00:00, 116.58it/s]\n"
     ]
    },
    {
     "name": "stdout",
     "output_type": "stream",
     "text": [
      "Epoch 293/1000, Training Loss: 1.4001, Validation Loss: 0.7697\n"
     ]
    },
    {
     "name": "stderr",
     "output_type": "stream",
     "text": [
      "Epoch 294/1000: 100%|██████████| 98/98 [00:00<00:00, 116.06it/s]\n"
     ]
    },
    {
     "name": "stdout",
     "output_type": "stream",
     "text": [
      "Epoch 294/1000, Training Loss: 1.3136, Validation Loss: 0.7676\n"
     ]
    },
    {
     "name": "stderr",
     "output_type": "stream",
     "text": [
      "Epoch 295/1000: 100%|██████████| 98/98 [00:00<00:00, 116.57it/s]\n"
     ]
    },
    {
     "name": "stdout",
     "output_type": "stream",
     "text": [
      "Epoch 295/1000, Training Loss: 1.3403, Validation Loss: 0.7636\n"
     ]
    },
    {
     "name": "stderr",
     "output_type": "stream",
     "text": [
      "Epoch 296/1000: 100%|██████████| 98/98 [00:00<00:00, 113.69it/s]\n"
     ]
    },
    {
     "name": "stdout",
     "output_type": "stream",
     "text": [
      "Epoch 296/1000, Training Loss: 1.3436, Validation Loss: 0.7622\n"
     ]
    },
    {
     "name": "stderr",
     "output_type": "stream",
     "text": [
      "Epoch 297/1000: 100%|██████████| 98/98 [00:00<00:00, 117.72it/s]\n"
     ]
    },
    {
     "name": "stdout",
     "output_type": "stream",
     "text": [
      "Epoch 297/1000, Training Loss: 1.3260, Validation Loss: 0.7605\n"
     ]
    },
    {
     "name": "stderr",
     "output_type": "stream",
     "text": [
      "Epoch 298/1000: 100%|██████████| 98/98 [00:00<00:00, 116.48it/s]\n"
     ]
    },
    {
     "name": "stdout",
     "output_type": "stream",
     "text": [
      "Epoch 298/1000, Training Loss: 1.2966, Validation Loss: 0.7577\n"
     ]
    },
    {
     "name": "stderr",
     "output_type": "stream",
     "text": [
      "Epoch 299/1000: 100%|██████████| 98/98 [00:00<00:00, 117.96it/s]\n"
     ]
    },
    {
     "name": "stdout",
     "output_type": "stream",
     "text": [
      "Epoch 299/1000, Training Loss: 1.3679, Validation Loss: 0.7566\n"
     ]
    },
    {
     "name": "stderr",
     "output_type": "stream",
     "text": [
      "Epoch 300/1000: 100%|██████████| 98/98 [00:00<00:00, 117.02it/s]\n"
     ]
    },
    {
     "name": "stdout",
     "output_type": "stream",
     "text": [
      "Epoch 300/1000, Training Loss: 1.3628, Validation Loss: 0.7542\n"
     ]
    },
    {
     "name": "stderr",
     "output_type": "stream",
     "text": [
      "Epoch 301/1000: 100%|██████████| 98/98 [00:00<00:00, 117.61it/s]\n"
     ]
    },
    {
     "name": "stdout",
     "output_type": "stream",
     "text": [
      "Epoch 301/1000, Training Loss: 1.2956, Validation Loss: 0.7529\n"
     ]
    },
    {
     "name": "stderr",
     "output_type": "stream",
     "text": [
      "Epoch 302/1000: 100%|██████████| 98/98 [00:00<00:00, 115.47it/s]\n"
     ]
    },
    {
     "name": "stdout",
     "output_type": "stream",
     "text": [
      "Epoch 302/1000, Training Loss: 1.3501, Validation Loss: 0.7513\n"
     ]
    },
    {
     "name": "stderr",
     "output_type": "stream",
     "text": [
      "Epoch 303/1000: 100%|██████████| 98/98 [00:00<00:00, 119.55it/s]\n"
     ]
    },
    {
     "name": "stdout",
     "output_type": "stream",
     "text": [
      "Epoch 303/1000, Training Loss: 1.3031, Validation Loss: 0.7496\n"
     ]
    },
    {
     "name": "stderr",
     "output_type": "stream",
     "text": [
      "Epoch 304/1000: 100%|██████████| 98/98 [00:00<00:00, 120.77it/s]\n"
     ]
    },
    {
     "name": "stdout",
     "output_type": "stream",
     "text": [
      "Epoch 304/1000, Training Loss: 1.3474, Validation Loss: 0.7473\n"
     ]
    },
    {
     "name": "stderr",
     "output_type": "stream",
     "text": [
      "Epoch 305/1000: 100%|██████████| 98/98 [00:00<00:00, 116.65it/s]\n"
     ]
    },
    {
     "name": "stdout",
     "output_type": "stream",
     "text": [
      "Epoch 305/1000, Training Loss: 1.3280, Validation Loss: 0.7467\n"
     ]
    },
    {
     "name": "stderr",
     "output_type": "stream",
     "text": [
      "Epoch 306/1000: 100%|██████████| 98/98 [00:00<00:00, 116.21it/s]\n"
     ]
    },
    {
     "name": "stdout",
     "output_type": "stream",
     "text": [
      "Epoch 306/1000, Training Loss: 1.3175, Validation Loss: 0.7433\n"
     ]
    },
    {
     "name": "stderr",
     "output_type": "stream",
     "text": [
      "Epoch 307/1000: 100%|██████████| 98/98 [00:00<00:00, 118.48it/s]\n"
     ]
    },
    {
     "name": "stdout",
     "output_type": "stream",
     "text": [
      "Epoch 307/1000, Training Loss: 1.3265, Validation Loss: 0.7431\n"
     ]
    },
    {
     "name": "stderr",
     "output_type": "stream",
     "text": [
      "Epoch 308/1000: 100%|██████████| 98/98 [00:00<00:00, 118.56it/s]\n"
     ]
    },
    {
     "name": "stdout",
     "output_type": "stream",
     "text": [
      "Epoch 308/1000, Training Loss: 1.3309, Validation Loss: 0.7410\n"
     ]
    },
    {
     "name": "stderr",
     "output_type": "stream",
     "text": [
      "Epoch 309/1000: 100%|██████████| 98/98 [00:00<00:00, 118.59it/s]\n"
     ]
    },
    {
     "name": "stdout",
     "output_type": "stream",
     "text": [
      "Epoch 309/1000, Training Loss: 1.2948, Validation Loss: 0.7394\n"
     ]
    },
    {
     "name": "stderr",
     "output_type": "stream",
     "text": [
      "Epoch 310/1000: 100%|██████████| 98/98 [00:00<00:00, 118.52it/s]\n"
     ]
    },
    {
     "name": "stdout",
     "output_type": "stream",
     "text": [
      "Epoch 310/1000, Training Loss: 1.3140, Validation Loss: 0.7374\n"
     ]
    },
    {
     "name": "stderr",
     "output_type": "stream",
     "text": [
      "Epoch 311/1000: 100%|██████████| 98/98 [00:00<00:00, 117.99it/s]\n"
     ]
    },
    {
     "name": "stdout",
     "output_type": "stream",
     "text": [
      "Epoch 311/1000, Training Loss: 1.3476, Validation Loss: 0.7373\n"
     ]
    },
    {
     "name": "stderr",
     "output_type": "stream",
     "text": [
      "Epoch 312/1000: 100%|██████████| 98/98 [00:00<00:00, 117.52it/s]\n"
     ]
    },
    {
     "name": "stdout",
     "output_type": "stream",
     "text": [
      "Epoch 312/1000, Training Loss: 1.3238, Validation Loss: 0.7370\n"
     ]
    },
    {
     "name": "stderr",
     "output_type": "stream",
     "text": [
      "Epoch 313/1000: 100%|██████████| 98/98 [00:00<00:00, 115.88it/s]\n"
     ]
    },
    {
     "name": "stdout",
     "output_type": "stream",
     "text": [
      "Epoch 313/1000, Training Loss: 1.3104, Validation Loss: 0.7352\n"
     ]
    },
    {
     "name": "stderr",
     "output_type": "stream",
     "text": [
      "Epoch 314/1000: 100%|██████████| 98/98 [00:00<00:00, 115.92it/s]\n"
     ]
    },
    {
     "name": "stdout",
     "output_type": "stream",
     "text": [
      "Epoch 314/1000, Training Loss: 1.2989, Validation Loss: 0.7339\n"
     ]
    },
    {
     "name": "stderr",
     "output_type": "stream",
     "text": [
      "Epoch 315/1000: 100%|██████████| 98/98 [00:00<00:00, 120.73it/s]\n"
     ]
    },
    {
     "name": "stdout",
     "output_type": "stream",
     "text": [
      "Epoch 315/1000, Training Loss: 1.3302, Validation Loss: 0.7323\n"
     ]
    },
    {
     "name": "stderr",
     "output_type": "stream",
     "text": [
      "Epoch 316/1000: 100%|██████████| 98/98 [00:00<00:00, 114.70it/s]\n"
     ]
    },
    {
     "name": "stdout",
     "output_type": "stream",
     "text": [
      "Epoch 316/1000, Training Loss: 1.3632, Validation Loss: 0.7310\n"
     ]
    },
    {
     "name": "stderr",
     "output_type": "stream",
     "text": [
      "Epoch 317/1000: 100%|██████████| 98/98 [00:00<00:00, 112.44it/s]\n"
     ]
    },
    {
     "name": "stdout",
     "output_type": "stream",
     "text": [
      "Epoch 317/1000, Training Loss: 1.3046, Validation Loss: 0.7298\n"
     ]
    },
    {
     "name": "stderr",
     "output_type": "stream",
     "text": [
      "Epoch 318/1000: 100%|██████████| 98/98 [00:00<00:00, 111.24it/s]\n"
     ]
    },
    {
     "name": "stdout",
     "output_type": "stream",
     "text": [
      "Epoch 318/1000, Training Loss: 1.3092, Validation Loss: 0.7288\n"
     ]
    },
    {
     "name": "stderr",
     "output_type": "stream",
     "text": [
      "Epoch 319/1000: 100%|██████████| 98/98 [00:00<00:00, 111.11it/s]\n"
     ]
    },
    {
     "name": "stdout",
     "output_type": "stream",
     "text": [
      "Epoch 319/1000, Training Loss: 1.2960, Validation Loss: 0.7269\n"
     ]
    },
    {
     "name": "stderr",
     "output_type": "stream",
     "text": [
      "Epoch 320/1000: 100%|██████████| 98/98 [00:00<00:00, 110.42it/s]\n"
     ]
    },
    {
     "name": "stdout",
     "output_type": "stream",
     "text": [
      "Epoch 320/1000, Training Loss: 1.2999, Validation Loss: 0.7262\n"
     ]
    },
    {
     "name": "stderr",
     "output_type": "stream",
     "text": [
      "Epoch 321/1000: 100%|██████████| 98/98 [00:00<00:00, 116.31it/s]\n"
     ]
    },
    {
     "name": "stdout",
     "output_type": "stream",
     "text": [
      "Epoch 321/1000, Training Loss: 1.3333, Validation Loss: 0.7252\n"
     ]
    },
    {
     "name": "stderr",
     "output_type": "stream",
     "text": [
      "Epoch 322/1000: 100%|██████████| 98/98 [00:00<00:00, 115.25it/s]\n"
     ]
    },
    {
     "name": "stdout",
     "output_type": "stream",
     "text": [
      "Epoch 322/1000, Training Loss: 1.2949, Validation Loss: 0.7246\n"
     ]
    },
    {
     "name": "stderr",
     "output_type": "stream",
     "text": [
      "Epoch 323/1000: 100%|██████████| 98/98 [00:00<00:00, 115.98it/s]\n"
     ]
    },
    {
     "name": "stdout",
     "output_type": "stream",
     "text": [
      "Epoch 323/1000, Training Loss: 1.3188, Validation Loss: 0.7236\n"
     ]
    },
    {
     "name": "stderr",
     "output_type": "stream",
     "text": [
      "Epoch 324/1000: 100%|██████████| 98/98 [00:00<00:00, 114.22it/s]\n"
     ]
    },
    {
     "name": "stdout",
     "output_type": "stream",
     "text": [
      "Epoch 324/1000, Training Loss: 1.3354, Validation Loss: 0.7234\n"
     ]
    },
    {
     "name": "stderr",
     "output_type": "stream",
     "text": [
      "Epoch 325/1000: 100%|██████████| 98/98 [00:00<00:00, 118.14it/s]\n"
     ]
    },
    {
     "name": "stdout",
     "output_type": "stream",
     "text": [
      "Epoch 325/1000, Training Loss: 1.2994, Validation Loss: 0.7235\n"
     ]
    },
    {
     "name": "stderr",
     "output_type": "stream",
     "text": [
      "Epoch 326/1000: 100%|██████████| 98/98 [00:00<00:00, 115.85it/s]\n"
     ]
    },
    {
     "name": "stdout",
     "output_type": "stream",
     "text": [
      "Epoch 326/1000, Training Loss: 1.2838, Validation Loss: 0.7228\n"
     ]
    },
    {
     "name": "stderr",
     "output_type": "stream",
     "text": [
      "Epoch 327/1000: 100%|██████████| 98/98 [00:00<00:00, 117.98it/s]\n"
     ]
    },
    {
     "name": "stdout",
     "output_type": "stream",
     "text": [
      "Epoch 327/1000, Training Loss: 1.2510, Validation Loss: 0.7222\n"
     ]
    },
    {
     "name": "stderr",
     "output_type": "stream",
     "text": [
      "Epoch 328/1000: 100%|██████████| 98/98 [00:00<00:00, 115.89it/s]\n"
     ]
    },
    {
     "name": "stdout",
     "output_type": "stream",
     "text": [
      "Epoch 328/1000, Training Loss: 1.2893, Validation Loss: 0.7215\n"
     ]
    },
    {
     "name": "stderr",
     "output_type": "stream",
     "text": [
      "Epoch 329/1000: 100%|██████████| 98/98 [00:00<00:00, 116.62it/s]\n"
     ]
    },
    {
     "name": "stdout",
     "output_type": "stream",
     "text": [
      "Epoch 329/1000, Training Loss: 1.2708, Validation Loss: 0.7210\n"
     ]
    },
    {
     "name": "stderr",
     "output_type": "stream",
     "text": [
      "Epoch 330/1000: 100%|██████████| 98/98 [00:00<00:00, 115.04it/s]\n"
     ]
    },
    {
     "name": "stdout",
     "output_type": "stream",
     "text": [
      "Epoch 330/1000, Training Loss: 1.2894, Validation Loss: 0.7208\n"
     ]
    },
    {
     "name": "stderr",
     "output_type": "stream",
     "text": [
      "Epoch 331/1000: 100%|██████████| 98/98 [00:00<00:00, 114.15it/s]\n"
     ]
    },
    {
     "name": "stdout",
     "output_type": "stream",
     "text": [
      "Epoch 331/1000, Training Loss: 1.3038, Validation Loss: 0.7216\n"
     ]
    },
    {
     "name": "stderr",
     "output_type": "stream",
     "text": [
      "Epoch 332/1000: 100%|██████████| 98/98 [00:00<00:00, 114.15it/s]\n"
     ]
    },
    {
     "name": "stdout",
     "output_type": "stream",
     "text": [
      "Epoch 332/1000, Training Loss: 1.3184, Validation Loss: 0.7212\n"
     ]
    },
    {
     "name": "stderr",
     "output_type": "stream",
     "text": [
      "Epoch 333/1000: 100%|██████████| 98/98 [00:00<00:00, 113.59it/s]\n"
     ]
    },
    {
     "name": "stdout",
     "output_type": "stream",
     "text": [
      "Epoch 333/1000, Training Loss: 1.2979, Validation Loss: 0.7207\n"
     ]
    },
    {
     "name": "stderr",
     "output_type": "stream",
     "text": [
      "Epoch 334/1000: 100%|██████████| 98/98 [00:00<00:00, 116.23it/s]\n"
     ]
    },
    {
     "name": "stdout",
     "output_type": "stream",
     "text": [
      "Epoch 334/1000, Training Loss: 1.3232, Validation Loss: 0.7204\n"
     ]
    },
    {
     "name": "stderr",
     "output_type": "stream",
     "text": [
      "Epoch 335/1000: 100%|██████████| 98/98 [00:00<00:00, 118.76it/s]\n"
     ]
    },
    {
     "name": "stdout",
     "output_type": "stream",
     "text": [
      "Epoch 335/1000, Training Loss: 1.2999, Validation Loss: 0.7198\n"
     ]
    },
    {
     "name": "stderr",
     "output_type": "stream",
     "text": [
      "Epoch 336/1000: 100%|██████████| 98/98 [00:00<00:00, 117.55it/s]\n"
     ]
    },
    {
     "name": "stdout",
     "output_type": "stream",
     "text": [
      "Epoch 336/1000, Training Loss: 1.2788, Validation Loss: 0.7202\n"
     ]
    },
    {
     "name": "stderr",
     "output_type": "stream",
     "text": [
      "Epoch 337/1000: 100%|██████████| 98/98 [00:00<00:00, 114.77it/s]\n"
     ]
    },
    {
     "name": "stdout",
     "output_type": "stream",
     "text": [
      "Epoch 337/1000, Training Loss: 1.3252, Validation Loss: 0.7200\n"
     ]
    },
    {
     "name": "stderr",
     "output_type": "stream",
     "text": [
      "Epoch 338/1000: 100%|██████████| 98/98 [00:00<00:00, 105.88it/s]\n"
     ]
    },
    {
     "name": "stdout",
     "output_type": "stream",
     "text": [
      "Epoch 338/1000, Training Loss: 1.2994, Validation Loss: 0.7201\n"
     ]
    },
    {
     "name": "stderr",
     "output_type": "stream",
     "text": [
      "Epoch 339/1000: 100%|██████████| 98/98 [00:00<00:00, 117.27it/s]\n"
     ]
    },
    {
     "name": "stdout",
     "output_type": "stream",
     "text": [
      "Epoch 339/1000, Training Loss: 1.3010, Validation Loss: 0.7198\n"
     ]
    },
    {
     "name": "stderr",
     "output_type": "stream",
     "text": [
      "Epoch 340/1000: 100%|██████████| 98/98 [00:00<00:00, 110.94it/s]\n"
     ]
    },
    {
     "name": "stdout",
     "output_type": "stream",
     "text": [
      "Epoch 340/1000, Training Loss: 1.2968, Validation Loss: 0.7198\n"
     ]
    },
    {
     "name": "stderr",
     "output_type": "stream",
     "text": [
      "Epoch 341/1000: 100%|██████████| 98/98 [00:00<00:00, 116.03it/s]\n"
     ]
    },
    {
     "name": "stdout",
     "output_type": "stream",
     "text": [
      "Epoch 341/1000, Training Loss: 1.3216, Validation Loss: 0.7199\n"
     ]
    },
    {
     "name": "stderr",
     "output_type": "stream",
     "text": [
      "Epoch 342/1000: 100%|██████████| 98/98 [00:00<00:00, 115.88it/s]\n"
     ]
    },
    {
     "name": "stdout",
     "output_type": "stream",
     "text": [
      "Epoch 342/1000, Training Loss: 1.3180, Validation Loss: 0.7204\n"
     ]
    },
    {
     "name": "stderr",
     "output_type": "stream",
     "text": [
      "Epoch 343/1000: 100%|██████████| 98/98 [00:00<00:00, 114.05it/s]\n"
     ]
    },
    {
     "name": "stdout",
     "output_type": "stream",
     "text": [
      "Epoch 343/1000, Training Loss: 1.2956, Validation Loss: 0.7207\n"
     ]
    },
    {
     "name": "stderr",
     "output_type": "stream",
     "text": [
      "Epoch 344/1000: 100%|██████████| 98/98 [00:00<00:00, 116.01it/s]\n"
     ]
    },
    {
     "name": "stdout",
     "output_type": "stream",
     "text": [
      "Epoch 344/1000, Training Loss: 1.3120, Validation Loss: 0.7208\n"
     ]
    },
    {
     "name": "stderr",
     "output_type": "stream",
     "text": [
      "Epoch 345/1000: 100%|██████████| 98/98 [00:00<00:00, 115.07it/s]\n"
     ]
    },
    {
     "name": "stdout",
     "output_type": "stream",
     "text": [
      "Epoch 345/1000, Training Loss: 1.2867, Validation Loss: 0.7212\n"
     ]
    },
    {
     "name": "stderr",
     "output_type": "stream",
     "text": [
      "Epoch 346/1000: 100%|██████████| 98/98 [00:00<00:00, 117.01it/s]\n"
     ]
    },
    {
     "name": "stdout",
     "output_type": "stream",
     "text": [
      "Epoch 346/1000, Training Loss: 1.2866, Validation Loss: 0.7216\n"
     ]
    },
    {
     "name": "stderr",
     "output_type": "stream",
     "text": [
      "Epoch 347/1000: 100%|██████████| 98/98 [00:00<00:00, 116.45it/s]\n"
     ]
    },
    {
     "name": "stdout",
     "output_type": "stream",
     "text": [
      "Epoch 347/1000, Training Loss: 1.2623, Validation Loss: 0.7228\n"
     ]
    },
    {
     "name": "stderr",
     "output_type": "stream",
     "text": [
      "Epoch 348/1000: 100%|██████████| 98/98 [00:00<00:00, 117.15it/s]\n"
     ]
    },
    {
     "name": "stdout",
     "output_type": "stream",
     "text": [
      "Epoch 348/1000, Training Loss: 1.3152, Validation Loss: 0.7231\n"
     ]
    },
    {
     "name": "stderr",
     "output_type": "stream",
     "text": [
      "Epoch 349/1000: 100%|██████████| 98/98 [00:00<00:00, 114.57it/s]\n"
     ]
    },
    {
     "name": "stdout",
     "output_type": "stream",
     "text": [
      "Epoch 349/1000, Training Loss: 1.3165, Validation Loss: 0.7239\n"
     ]
    },
    {
     "name": "stderr",
     "output_type": "stream",
     "text": [
      "Epoch 350/1000: 100%|██████████| 98/98 [00:00<00:00, 114.35it/s]\n"
     ]
    },
    {
     "name": "stdout",
     "output_type": "stream",
     "text": [
      "Epoch 350/1000, Training Loss: 1.2778, Validation Loss: 0.7241\n"
     ]
    },
    {
     "name": "stderr",
     "output_type": "stream",
     "text": [
      "Epoch 351/1000: 100%|██████████| 98/98 [00:00<00:00, 115.34it/s]\n"
     ]
    },
    {
     "name": "stdout",
     "output_type": "stream",
     "text": [
      "Epoch 351/1000, Training Loss: 1.2932, Validation Loss: 0.7246\n"
     ]
    },
    {
     "name": "stderr",
     "output_type": "stream",
     "text": [
      "Epoch 352/1000: 100%|██████████| 98/98 [00:00<00:00, 115.76it/s]\n"
     ]
    },
    {
     "name": "stdout",
     "output_type": "stream",
     "text": [
      "Epoch 352/1000, Training Loss: 1.3110, Validation Loss: 0.7251\n"
     ]
    },
    {
     "name": "stderr",
     "output_type": "stream",
     "text": [
      "Epoch 353/1000: 100%|██████████| 98/98 [00:00<00:00, 117.14it/s]\n"
     ]
    },
    {
     "name": "stdout",
     "output_type": "stream",
     "text": [
      "Epoch 353/1000, Training Loss: 1.2610, Validation Loss: 0.7256\n"
     ]
    },
    {
     "name": "stderr",
     "output_type": "stream",
     "text": [
      "Epoch 354/1000: 100%|██████████| 98/98 [00:00<00:00, 110.15it/s]\n"
     ]
    },
    {
     "name": "stdout",
     "output_type": "stream",
     "text": [
      "Epoch 354/1000, Training Loss: 1.3032, Validation Loss: 0.7272\n"
     ]
    },
    {
     "name": "stderr",
     "output_type": "stream",
     "text": [
      "Epoch 355/1000: 100%|██████████| 98/98 [00:00<00:00, 109.88it/s]\n"
     ]
    },
    {
     "name": "stdout",
     "output_type": "stream",
     "text": [
      "Epoch 355/1000, Training Loss: 1.2765, Validation Loss: 0.7275\n"
     ]
    },
    {
     "name": "stderr",
     "output_type": "stream",
     "text": [
      "Epoch 356/1000: 100%|██████████| 98/98 [00:00<00:00, 110.35it/s]\n"
     ]
    },
    {
     "name": "stdout",
     "output_type": "stream",
     "text": [
      "Epoch 356/1000, Training Loss: 1.3017, Validation Loss: 0.7286\n"
     ]
    },
    {
     "name": "stderr",
     "output_type": "stream",
     "text": [
      "Epoch 357/1000: 100%|██████████| 98/98 [00:00<00:00, 109.75it/s]\n"
     ]
    },
    {
     "name": "stdout",
     "output_type": "stream",
     "text": [
      "Epoch 357/1000, Training Loss: 1.2956, Validation Loss: 0.7296\n"
     ]
    },
    {
     "name": "stderr",
     "output_type": "stream",
     "text": [
      "Epoch 358/1000: 100%|██████████| 98/98 [00:00<00:00, 110.62it/s]\n"
     ]
    },
    {
     "name": "stdout",
     "output_type": "stream",
     "text": [
      "Epoch 358/1000, Training Loss: 1.2807, Validation Loss: 0.7300\n"
     ]
    },
    {
     "name": "stderr",
     "output_type": "stream",
     "text": [
      "Epoch 359/1000: 100%|██████████| 98/98 [00:00<00:00, 110.15it/s]\n"
     ]
    },
    {
     "name": "stdout",
     "output_type": "stream",
     "text": [
      "Epoch 359/1000, Training Loss: 1.3016, Validation Loss: 0.7308\n"
     ]
    },
    {
     "name": "stderr",
     "output_type": "stream",
     "text": [
      "Epoch 360/1000: 100%|██████████| 98/98 [00:00<00:00, 114.11it/s]\n"
     ]
    },
    {
     "name": "stdout",
     "output_type": "stream",
     "text": [
      "Epoch 360/1000, Training Loss: 1.2780, Validation Loss: 0.7322\n"
     ]
    },
    {
     "name": "stderr",
     "output_type": "stream",
     "text": [
      "Epoch 361/1000: 100%|██████████| 98/98 [00:00<00:00, 109.48it/s]\n"
     ]
    },
    {
     "name": "stdout",
     "output_type": "stream",
     "text": [
      "Epoch 361/1000, Training Loss: 1.2794, Validation Loss: 0.7333\n"
     ]
    },
    {
     "name": "stderr",
     "output_type": "stream",
     "text": [
      "Epoch 362/1000: 100%|██████████| 98/98 [00:00<00:00, 108.88it/s]\n"
     ]
    },
    {
     "name": "stdout",
     "output_type": "stream",
     "text": [
      "Epoch 362/1000, Training Loss: 1.2492, Validation Loss: 0.7353\n"
     ]
    },
    {
     "name": "stderr",
     "output_type": "stream",
     "text": [
      "Epoch 363/1000: 100%|██████████| 98/98 [00:00<00:00, 109.60it/s]\n"
     ]
    },
    {
     "name": "stdout",
     "output_type": "stream",
     "text": [
      "Epoch 363/1000, Training Loss: 1.3133, Validation Loss: 0.7362\n"
     ]
    },
    {
     "name": "stderr",
     "output_type": "stream",
     "text": [
      "Epoch 364/1000: 100%|██████████| 98/98 [00:00<00:00, 111.92it/s]"
     ]
    },
    {
     "name": "stdout",
     "output_type": "stream",
     "text": [
      "Epoch 364/1000, Training Loss: 1.2868, Validation Loss: 0.7384\n",
      "Stopping early after 364 epochs due to no improvement in validation loss.\n"
     ]
    },
    {
     "name": "stderr",
     "output_type": "stream",
     "text": [
      "\n"
     ]
    }
   ],
   "source": [
    "# Number of epochs and batch size\n",
    "num_epochs = 1000 # Number of training epochs\n",
    "batch_size = 32  # Batch size for training\n",
    "\n",
    "# DataLoader for training and validation\n",
    "train_loader = DataLoader(train_dataset, batch_size=batch_size, shuffle=True)  # Ensure batch size and shuffle\n",
    "val_loader = DataLoader(val_dataset, batch_size=batch_size, shuffle=False)  # No shuffle for validation\n",
    "\n",
    "# Track training and validation loss\n",
    "train_losses = []\n",
    "val_losses = []\n",
    "\n",
    "# For early stopping\n",
    "best_val_loss = float('inf')  # To track the best validation loss\n",
    "patience = 25  # Patience for early stopping\n",
    "no_improvement_count = 0  # Counter for epochs without improvement\n",
    "\n",
    "# scheduler = torch.optim.lr_scheduler.StepLR(optimizer, step_size=10, gamma=0.1)  # Decay LR every 10 epochs\n",
    "\n",
    "for epoch in range(num_epochs):\n",
    "    # Training phase with progress bar\n",
    "    dense_mos.train()  # Set model to training mode\n",
    "    train_loss = 0.0  # Initialize the training loss\n",
    "    \n",
    "    # Use tqdm for progress tracking\n",
    "    with tqdm(total=len(train_loader), desc=f\"Epoch {epoch + 1}/{num_epochs}\") as pbar:\n",
    "        for inputs, targets in train_loader:\n",
    "            inputs = inputs.to(device)  # Move inputs to the GPU\n",
    "            targets = targets.to(device)  # Move targets to the GPU\n",
    "\n",
    "            optimizer.zero_grad()  # Zero out the gradients\n",
    "            \n",
    "            outputs = dense_mos(inputs)  # Forward pass\n",
    "            loss = loss_fn(outputs, targets)  # Compute the loss\n",
    "            loss.backward()  # Backpropagation\n",
    "            \n",
    "            # Gradient clipping\n",
    "            torch.nn.utils.clip_grad_norm_(dense_mos.parameters(), 1.0)  # Adjust value if needed\n",
    "            \n",
    "            optimizer.step()  # Update the weights\n",
    "            \n",
    "            train_loss += loss.item()  # Accumulate the loss\n",
    "            \n",
    "            pbar.update(1)  # Update the progress bar\n",
    "\n",
    "    train_loss /= len(train_loader)  # Average loss over all batches\n",
    "    train_losses.append(train_loss)  # Save the training loss\n",
    "\n",
    "    # Validation phase\n",
    "    dense_mos.eval()  # Set model to evaluation mode\n",
    "    val_loss = 0.0  # Initialize the validation loss\n",
    "\n",
    "    with torch.no_grad():\n",
    "        for inputs, targets in val_loader:\n",
    "            inputs = inputs.to(device)  # Move inputs to the GPU\n",
    "            targets = targets.to(device)  # Move targets to the GPU\n",
    "\n",
    "            outputs = dense_mos(inputs)  # Forward pass\n",
    "            loss = loss_fn(outputs, targets)  # Calculate loss\n",
    "            val_loss += loss.item()  # Accumulate the validation loss\n",
    "\n",
    "    val_loss /= len(val_loader)  # Average validation loss over all batches\n",
    "    val_losses.append(val_loss)\n",
    "\n",
    "    print(f\"Epoch {epoch + 1}/{num_epochs}, Training Loss: {train_loss:.4f}, Validation Loss: {val_loss:.4f}\")\n",
    "    # scheduler.step() # Step the scheduler\n",
    "\n",
    "    # Check for improvement\n",
    "    if val_loss < best_val_loss:\n",
    "        best_val_loss = val_loss\n",
    "        torch.save(dense_mos.state_dict(), \"best_model.pth\")  # Save the best model\n",
    "        no_improvement_count = 0  # Reset counter\n",
    "    else:\n",
    "        no_improvement_count += 1  # Increment counter if no improvement\n",
    "\n",
    "    # Early stopping check\n",
    "    if no_improvement_count >= patience:\n",
    "        print(f\"Stopping early after {epoch + 1} epochs due to no improvement in validation loss.\")\n",
    "        break\n",
    "\n",
    "    # Save the best model based on validation loss\n",
    "    if val_loss < best_val_loss:\n",
    "        best_val_loss = val_loss\n",
    "        # Save the model (optional)\n",
    "        torch.save(dense_mos.state_dict(), \"best_model.pth\")\n",
    "\n",
    "    # Save the model at the end of training\n",
    "    torch.save(dense_mos.state_dict(), \"final_model.pth\")\n",
    "\n",
    "    # print the softmax of the weights of the weighted average layer\n",
    "    # print(dense_mos.weighted_average.weights)\n",
    "    # print(torch.nn.functional.softmax(dense_mos.weighted_average.weights, dim=0))\n",
    "# save train and val losses to csv\n",
    "losses = pd.DataFrame({'train_loss': train_losses, 'val_loss': val_losses})\n",
    "losses.to_csv('losses.csv', index=False)"
   ]
  },
  {
   "cell_type": "markdown",
   "metadata": {},
   "source": [
    "### plot"
   ]
  },
  {
   "cell_type": "code",
   "execution_count": 20,
   "metadata": {},
   "outputs": [
    {
     "data": {
      "image/png": "[encoded data removed]",
      "text/plain": [
       "<Figure size 640x480 with 1 Axes>"
      ]
     },
     "metadata": {},
     "output_type": "display_data"
    },
    {
     "name": "stdout",
     "output_type": "stream",
     "text": [
      "Best validation loss: 0.7197990417480469\n",
      "epoch for best validation loss: 338\n"
     ]
    }
   ],
   "source": [
    "losses = pd.read_csv('losses.csv')\n",
    "train_losses = losses['train_loss']\n",
    "val_losses = losses['val_loss']\n",
    "\n",
    "plt.plot(train_losses, label='train loss')\n",
    "plt.plot(val_losses, label='val loss')\n",
    "# set x-axis label\n",
    "plt.xlabel('epoch')\n",
    "# set y-axis label\n",
    "plt.ylabel('loss')\n",
    "plt.legend()\n",
    "plt.show()\n",
    "\n",
    "print(\"Best validation loss:\", best_val_loss)\n",
    "print(\"epoch for best validation loss:\", np.argmin(val_losses))"
   ]
  },
  {
   "cell_type": "code",
   "execution_count": 21,
   "metadata": {},
   "outputs": [
    {
     "data": {
      "image/png": "[encoded data removed]",
      "text/plain": [
       "<Figure size 640x480 with 1 Axes>"
      ]
     },
     "metadata": {},
     "output_type": "display_data"
    }
   ],
   "source": [
    "# plot the torch.nn.functional.softmax(dense_mos.weighted_average.weights, dim=0)\n",
    "# aka the layer number and its importance\n",
    "softmax_weights = torch.nn.functional.softmax(dense_mos.weighted_average.weights, dim=0).detach().cpu().numpy()\n",
    "\n",
    "#save the weights to a csv\n",
    "weights = pd.DataFrame({'softmax_weights': softmax_weights})\n",
    "weights.to_csv('softmax_weights.csv', index=False)\n",
    "\n",
    "plt.plot(softmax_weights, marker='v', linestyle='-', color='red', alpha=1, label='Softmax Weights')\n",
    "plt.xlabel('Layer depth')\n",
    "plt.xticks(range(13))\n",
    "# y label is alpha character, the greek letter, with a subindice \n",
    "plt.ylabel(r'$\\alpha_i$')\n",
    "plt.show()"
   ]
  },
  {
   "cell_type": "markdown",
   "metadata": {},
   "source": [
    "# Evaluation and Testing"
   ]
  },
  {
   "cell_type": "code",
   "execution_count": 22,
   "metadata": {},
   "outputs": [
    {
     "name": "stdout",
     "output_type": "stream",
     "text": [
      "Test Loss: 0.9915535241365433\n"
     ]
    }
   ],
   "source": [
    "# Create the testing DataLoader\n",
    "test_csv_path = \"/home/aleph/tesis/classifier/test.csv\"\n",
    "test_dataset = MOSDataset(test_csv_path, split='test')\n",
    "test_loader = DataLoader(test_dataset, batch_size=32, shuffle=False, num_workers=2)\n",
    "\n",
    "# Load the best model\n",
    "best_model_path = \"/home/aleph/tesis/classifier/DenseMOS_tests/final_model.pth\"\n",
    "dense_mos = DenseMOS(input_dim=768, hidden_dim=128, dropout_prob=0.6, num_layers=13)  # Ensure correct model initialization\n",
    "dense_mos.to(device)  # Move the model to the device\n",
    "dense_mos.load_state_dict(torch.load(best_model_path))  # Load the saved models\n",
    "dense_mos.eval()  # Set model to evaluation mode\n",
    "\n",
    "# Evaluate the model on the test set\n",
    "test_loader = DataLoader(test_dataset, batch_size=32, shuffle=False)  # DataLoader for testing\n",
    "test_loss = 0.0\n",
    "outputs_list = []\n",
    "targets_list = []\n",
    "with torch.no_grad():  # No gradients needed during evaluation\n",
    "    for inputs, targets in test_loader:\n",
    "        inputs = inputs.to(device)  # Move inputs to the GPU\n",
    "        targets = targets.to(device)  # Move targets to the GPU\n",
    "        outputs = dense_mos(inputs)  # Forward pass\n",
    "        outputs_list.append(outputs)\n",
    "        targets_list.append(targets)\n",
    "        loss = loss_fn(outputs, targets)  # Calculate loss\n",
    "        test_loss += loss.item()  # Accumulate the loss\n",
    "\n",
    "# Average test loss over all batches\n",
    "avg_test_loss = test_loss / len(test_loader)\n",
    "print(\"Test Loss:\", avg_test_loss)  # Evaluate the model's performance on the test set\n",
    "\n",
    "import numpy as np\n",
    "\n",
    "# Convert targets and outputs to NumPy arrays\n",
    "targets = np.squeeze(torch.cat(targets_list).cpu().numpy())\n",
    "outputs = np.squeeze(torch.cat(outputs_list).cpu().numpy())\n"
   ]
  },
  {
   "cell_type": "code",
   "execution_count": 177,
   "metadata": {},
   "outputs": [
    {
     "name": "stdout",
     "output_type": "stream",
     "text": [
      "Pearson's Correlation Coefficient: 0.03537287364385683\n",
      "Mean Absolute Error (MAE): 0.8567143\n",
      "Root Mean Squared Error (RMSE): 1.1906047\n",
      "R^2 Score: -0.9767362805970832\n"
     ]
    },
    {
     "name": "stderr",
     "output_type": "stream",
     "text": [
      "/home/aleph/tesis/.env/lib/python3.12/site-packages/sklearn/metrics/_regression.py:483: FutureWarning: 'squared' is deprecated in version 1.4 and will be removed in 1.6. To calculate the root mean squared error, use the function'root_mean_squared_error'.\n",
      "  warnings.warn(\n"
     ]
    }
   ],
   "source": [
    "# calculate pearson's correlation coefficient and targets_array, compute mae, mse, rmse and r2\n",
    "# between the predicted MOS scores and the ground truth MOS scores, aka the targets and outputs\n",
    "\n",
    "from sklearn.metrics import mean_absolute_error, mean_squared_error, r2_score\n",
    "from scipy.stats import pearsonr\n",
    "\n",
    "# Calculate Pearson's correlation coefficient\n",
    "pearson_corr = pearsonr(targets, outputs)\n",
    "print(\"Pearson's Correlation Coefficient:\", pearson_corr[0])\n",
    "\n",
    "# Calculate Mean Absolute Error (MAE)\n",
    "mae = mean_absolute_error(targets, outputs)\n",
    "print(\"Mean Absolute Error (MAE):\", mae)\n",
    "rmse = mean_squared_error(targets, outputs, squared=False)\n",
    "print(\"Root Mean Squared Error (RMSE):\", rmse)\n",
    "r2 = r2_score(targets, outputs)\n",
    "print(\"R^2 Score:\", r2)\n",
    "\n"
   ]
  },
  {
   "cell_type": "code",
   "execution_count": 23,
   "metadata": {},
   "outputs": [
    {
     "name": "stdout",
     "output_type": "stream",
     "text": [
      "Target: 1.50, Output: 1.42\n",
      "Target: 1.00, Output: 1.40\n",
      "Target: 1.00, Output: 1.14\n",
      "Target: 1.00, Output: 1.59\n",
      "Target: 2.00, Output: 1.30\n",
      "Target: 2.00, Output: 1.05\n",
      "Target: 1.00, Output: 1.32\n",
      "Target: 1.00, Output: 1.27\n",
      "Target: 2.00, Output: 1.26\n",
      "Target: 3.00, Output: 1.26\n",
      "Target: 3.00, Output: 1.18\n",
      "Target: 1.00, Output: 1.28\n",
      "Target: 1.00, Output: 1.45\n",
      "Target: 1.00, Output: 1.23\n",
      "Target: 3.00, Output: 1.63\n",
      "Target: 1.00, Output: 1.34\n",
      "Target: 1.00, Output: 1.48\n",
      "Target: 1.00, Output: 1.47\n",
      "Target: 1.50, Output: 1.11\n",
      "Target: 1.50, Output: 1.15\n",
      "Target: 1.00, Output: 1.56\n",
      "Target: 1.50, Output: 1.32\n",
      "Target: 1.00, Output: 1.32\n",
      "Target: 3.00, Output: 1.65\n",
      "Target: 2.00, Output: 1.94\n",
      "Target: 1.00, Output: 1.30\n",
      "Target: 1.00, Output: 1.20\n",
      "Target: 1.00, Output: 1.31\n",
      "Target: 1.00, Output: 1.28\n",
      "Target: 3.00, Output: 1.53\n",
      "Target: 2.00, Output: 1.35\n",
      "Target: 3.00, Output: 1.58\n",
      "Target: 2.00, Output: 1.24\n",
      "Target: 2.00, Output: 1.25\n",
      "Target: 1.00, Output: 1.34\n",
      "Target: 2.00, Output: 1.11\n",
      "Target: 2.00, Output: 1.51\n",
      "Target: 1.00, Output: 1.09\n",
      "Target: 3.00, Output: 1.45\n",
      "Target: 2.00, Output: 1.23\n",
      "Target: 3.00, Output: 1.07\n",
      "Target: 1.00, Output: 1.03\n",
      "Target: 1.00, Output: 1.57\n",
      "Target: 1.00, Output: 1.27\n",
      "Target: 1.50, Output: 0.99\n",
      "Target: 1.00, Output: 1.11\n",
      "Target: 1.00, Output: 1.01\n",
      "Target: 1.00, Output: 1.33\n",
      "Target: 1.50, Output: 1.62\n",
      "Target: 1.00, Output: 1.23\n",
      "Target: 2.00, Output: 1.40\n",
      "Target: 2.00, Output: 1.31\n",
      "Target: 1.00, Output: 1.31\n",
      "Target: 2.00, Output: 1.66\n",
      "Target: 3.00, Output: 1.27\n",
      "Target: 1.00, Output: 1.07\n",
      "Target: 1.00, Output: 1.34\n",
      "Target: 1.00, Output: 1.54\n",
      "Target: 1.00, Output: 1.19\n",
      "Target: 1.00, Output: 1.30\n",
      "Target: 1.00, Output: 1.19\n",
      "Target: 1.00, Output: 1.08\n",
      "Target: 2.00, Output: 0.92\n",
      "Target: 2.00, Output: 1.31\n",
      "Target: 3.00, Output: 1.32\n",
      "Target: 2.00, Output: 1.35\n",
      "Target: 2.50, Output: 1.35\n",
      "Target: 2.00, Output: 1.25\n",
      "Target: 1.00, Output: 1.27\n",
      "Target: 1.00, Output: 1.42\n",
      "Target: 1.00, Output: 1.57\n",
      "Target: 1.00, Output: 1.48\n",
      "Target: 1.00, Output: 1.51\n",
      "Target: 1.00, Output: 1.40\n",
      "Target: 1.00, Output: 1.37\n",
      "Target: 1.00, Output: 1.43\n",
      "Target: 1.00, Output: 1.47\n",
      "Target: 3.00, Output: 1.61\n",
      "Target: 1.00, Output: 1.37\n",
      "Target: 1.00, Output: 1.15\n",
      "Target: 1.00, Output: 0.98\n",
      "Target: 1.00, Output: 1.20\n",
      "Target: 1.00, Output: 1.28\n",
      "Target: 1.00, Output: 1.46\n",
      "Target: 1.00, Output: 1.04\n",
      "Target: 1.00, Output: 1.68\n",
      "Target: 1.00, Output: 1.45\n",
      "Target: 1.00, Output: 1.20\n",
      "Target: 2.00, Output: 1.42\n",
      "Target: 1.00, Output: 1.15\n",
      "Target: 2.00, Output: 1.99\n",
      "Target: 1.00, Output: 1.49\n",
      "Target: 1.00, Output: 1.79\n",
      "Target: 1.00, Output: 1.50\n",
      "Target: 1.00, Output: 1.28\n",
      "Target: 1.00, Output: 1.08\n",
      "Target: 1.00, Output: 1.78\n",
      "Target: 1.00, Output: 1.15\n",
      "Target: 1.00, Output: 1.35\n",
      "Target: 1.00, Output: 1.43\n",
      "Target: 1.00, Output: 1.35\n",
      "Target: 1.00, Output: 1.98\n",
      "Target: 1.00, Output: 1.08\n",
      "Target: 1.00, Output: 1.32\n",
      "Target: 1.00, Output: 1.24\n",
      "Target: 2.00, Output: 1.89\n",
      "Target: 1.00, Output: 1.95\n",
      "Target: 1.00, Output: 1.41\n",
      "Target: 1.00, Output: 1.34\n",
      "Target: 1.00, Output: 1.30\n",
      "Target: 1.00, Output: 1.23\n",
      "Target: 1.00, Output: 1.82\n",
      "Target: 1.00, Output: 1.54\n",
      "Target: 1.00, Output: 1.04\n",
      "Target: 1.00, Output: 1.07\n",
      "Target: 1.00, Output: 1.33\n",
      "Target: 1.00, Output: 0.97\n",
      "Target: 1.00, Output: 1.36\n",
      "Target: 1.00, Output: 1.39\n",
      "Target: 1.00, Output: 1.49\n",
      "Target: 3.00, Output: 1.84\n",
      "Target: 2.00, Output: 1.80\n",
      "Target: 1.00, Output: 2.23\n",
      "Target: 1.00, Output: 1.67\n",
      "Target: 1.00, Output: 1.28\n",
      "Target: 1.00, Output: 1.44\n",
      "Target: 1.00, Output: 1.20\n",
      "Target: 1.00, Output: 1.21\n",
      "Target: 1.00, Output: 1.86\n",
      "Target: 1.00, Output: 1.36\n",
      "Target: 2.00, Output: 1.27\n",
      "Target: 1.00, Output: 1.26\n",
      "Target: 1.00, Output: 1.18\n",
      "Target: 3.00, Output: 1.23\n",
      "Target: 2.00, Output: 1.55\n",
      "Target: 1.00, Output: 1.42\n",
      "Target: 1.00, Output: 1.74\n",
      "Target: 1.00, Output: 1.45\n",
      "Target: 1.00, Output: 1.03\n",
      "Target: 1.00, Output: 1.66\n",
      "Target: 1.00, Output: 1.30\n",
      "Target: 1.00, Output: 1.41\n",
      "Target: 1.00, Output: 1.29\n",
      "Target: 2.00, Output: 1.77\n",
      "Target: 1.00, Output: 1.27\n",
      "Target: 2.00, Output: 1.82\n",
      "Target: 2.00, Output: 1.35\n",
      "Target: 2.00, Output: 1.24\n",
      "Target: 1.00, Output: 1.42\n",
      "Target: 1.00, Output: 1.10\n",
      "Target: 1.00, Output: 1.25\n",
      "Target: 1.00, Output: 1.49\n",
      "Target: 1.00, Output: 1.89\n",
      "Target: 1.00, Output: 1.27\n",
      "Target: 1.00, Output: 1.97\n",
      "Target: 1.00, Output: 1.70\n",
      "Target: 1.00, Output: 0.86\n",
      "Target: 2.00, Output: 1.35\n",
      "Target: 2.00, Output: 1.28\n",
      "Target: 2.00, Output: 1.09\n",
      "Target: 1.00, Output: 1.51\n",
      "Target: 1.00, Output: 1.28\n",
      "Target: 1.50, Output: 1.05\n",
      "Target: 3.00, Output: 1.26\n",
      "Target: 1.00, Output: 1.42\n",
      "Target: 1.00, Output: 1.29\n",
      "Target: 2.00, Output: 1.10\n",
      "Target: 2.00, Output: 1.43\n",
      "Target: 2.00, Output: 1.04\n",
      "Target: 2.00, Output: 1.25\n",
      "Target: 1.50, Output: 1.58\n",
      "Target: 1.00, Output: 1.26\n",
      "Target: 4.00, Output: 1.12\n",
      "Target: 2.00, Output: 1.13\n",
      "Target: 2.00, Output: 1.09\n",
      "Target: 1.00, Output: 1.16\n",
      "Target: 1.00, Output: 1.17\n",
      "Target: 2.00, Output: 1.10\n",
      "Target: 1.00, Output: 1.25\n",
      "Target: 4.00, Output: 1.17\n",
      "Target: 2.00, Output: 2.05\n",
      "Target: 2.00, Output: 1.37\n",
      "Target: 3.00, Output: 1.47\n",
      "Target: 2.00, Output: 1.23\n",
      "Target: 3.00, Output: 1.14\n",
      "Target: 4.00, Output: 1.63\n",
      "Target: 2.00, Output: 1.35\n",
      "Target: 1.00, Output: 1.37\n",
      "Target: 2.00, Output: 1.21\n",
      "Target: 2.00, Output: 1.40\n",
      "Target: 3.00, Output: 1.52\n",
      "Target: 1.00, Output: 1.48\n",
      "Target: 2.00, Output: 1.62\n",
      "Target: 1.00, Output: 1.29\n",
      "Target: 2.00, Output: 1.24\n",
      "Target: 2.00, Output: 1.12\n",
      "Target: 3.00, Output: 1.16\n",
      "Target: 2.00, Output: 1.50\n",
      "Target: 2.00, Output: 1.18\n",
      "Target: 1.00, Output: 1.32\n"
     ]
    }
   ],
   "source": [
    "# print target and outputs side by side\n",
    "for i in range(200):\n",
    "    print(f\"Target: {targets[i]:.2f}, Output: {outputs[i]:.2f}\")"
   ]
  },
  {
   "cell_type": "markdown",
   "metadata": {},
   "source": [
    "### sanity check and experiments"
   ]
  },
  {
   "cell_type": "code",
   "execution_count": 84,
   "metadata": {},
   "outputs": [
    {
     "name": "stdout",
     "output_type": "stream",
     "text": [
      "Predicted MOS score: 1.3363673686981201\n"
     ]
    }
   ],
   "source": [
    "def wav2vec_single_audio(path_to_audio, model_name):\n",
    "    feature_extractor = Wav2Vec2FeatureExtractor.from_pretrained(model_name)\n",
    "    model = Wav2Vec2Model.from_pretrained(model_name)\n",
    "    waveform, sample_rate = librosa.load(path_to_audio, sr=16000)\n",
    "    inputs = feature_extractor(waveform, return_tensors=\"pt\")\n",
    "    with torch.no_grad():\n",
    "        outputs= model(inputs.input_values)\n",
    "    embeddings = outputs.last_hidden_state\n",
    "    embeddings = embeddings.mean(dim=1)\n",
    "    embeddings = embeddings.squeeze().detach().numpy()\n",
    "                \n",
    "    return embeddings\n",
    "\n",
    "def compute_mos(embedding_path):\n",
    "    best_model_path = \"/home/aleph/tesis/classifier/DenseMOS_tests/best_model.pth\"\n",
    "    dense_mos = DenseMOS(input_dim=768, hidden_dim=128, dropout_prob=0.5, num_layers=12)  # Ensure correct model initialization\n",
    "    dense_mos.to(device)  # Move the model to the device\n",
    "    dense_mos.load_state_dict(torch.load(best_model_path))  # Load the saved models\n",
    "    dense_mos.eval()  # Set model to evaluation mode\n",
    "\n",
    "    #read the embeddings\n",
    "    embedding = np.load(embedding_path)\n",
    "    embedding = embedding[1:]\n",
    "    new_audio_tensor = torch.tensor(embedding, dtype=torch.float32).unsqueeze(0)  # Add batch dimension\n",
    "    new_audio_tensor = new_audio_tensor.to(device)  # Move to the device\n",
    "\n",
    "    # Make a prediction using the model\n",
    "    with torch.no_grad():  # No gradients required for inference\n",
    "        mos_score = dense_mos(new_audio_tensor)  # Forward pass to get the MOS score\n",
    "    \n",
    "    # Output the MOS score\n",
    "    return mos_score.item()  # Get the scalar value from the tensor\n",
    "\n",
    "best_model_path = \"/home/aleph/tesis/classifier/best_model.pth\"\n",
    "embedding_path = \"/home/aleph/tesis/classifier/embeddings/test/B9/VTLP_es-ES-ElviraNeural16.npy\"\n",
    "\n",
    "\n",
    "mos_score = compute_mos(embedding_path)\n",
    "print(\"Predicted MOS score:\", mos_score)\n",
    "\n",
    "# compute for csv and save to new column\n",
    "def compute_mos_for_csv(saved_model_path, path_to_csv, path_to_save_predictions):\n",
    "    dense_mos = DenseMOS(input_dim=768, hidden_dim=128, dropout_prob=0.5, num_layers=12)  # Ensure model initialization\n",
    "    dense_mos.load_state_dict(torch.load(best_model_path))  # Load the saved model\n",
    "    dense_mos.eval()  # Set model to evaluation mode\n",
    "    model_name = 'facebook/wav2vec2-base-960h'\n",
    "    metadata_df = pd.read_csv(path_to_csv)\n",
    "    metadata_df['predicted_mos'] = None\n",
    "    for index, row in tqdm(metadata_df.iterrows()):\n",
    "        audio_file = row['stimuli']\n",
    "        new_audio_embeddings = wav2vec_single_audio(audio_file, model_name)\n",
    "\n",
    "        # Convert to PyTorch tensor\n",
    "        new_audio_tensor = torch.tensor(new_audio_embeddings, dtype=torch.float32).unsqueeze(0)  # Add batch dimension\n",
    "\n",
    "        # Make a prediction using the model\n",
    "        with torch.no_grad():  # No gradients required for inference\n",
    "            mos_score = dense_mos(new_audio_tensor)  # Forward pass to get the MOS score\n",
    "        metadata_df.at[index, 'predicted_mos'] = mos_score.item()\n",
    "    \n",
    "        # append to file csv\n",
    "        metadata_df.to_csv(path_to_save_predictions, index=False)\n",
    "\n",
    "    return metadata_df\n",
    "\n",
    "# path_to_csv = \"/home/aleph/tesis/classifier/test_set_inference.csv\"\n",
    "# path_to_save_predictions = '/home/aleph/tesis/classifier/test_set_predictions.csv'\n",
    "\n",
    "# predictions_df = compute_mos_for_csv(best_model_path, path_to_csv, path_to_save_predictions)\n",
    "# print(predictions_df.head())\n"
   ]
  }
 ],
 "metadata": {
  "kernelspec": {
   "display_name": ".env",
   "language": "python",
   "name": "python3"
  },
  "language_info": {
   "codemirror_mode": {
    "name": "ipython",
    "version": 3
   },
   "file_extension": ".py",
   "mimetype": "text/x-python",
   "name": "python",
   "nbconvert_exporter": "python",
   "pygments_lexer": "ipython3",
   "version": "3.12.7"
  }
 },
 "nbformat": 4,
 "nbformat_minor": 2
}
